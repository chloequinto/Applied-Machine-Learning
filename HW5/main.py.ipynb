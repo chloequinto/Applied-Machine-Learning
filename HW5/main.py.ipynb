{
 "cells": [
  {
   "cell_type": "markdown",
   "metadata": {},
   "source": [
    "## CPE 695:  HW 5\n",
    "\n",
    "Chloe Quinto    \n",
    "HW 5   \n",
    "April 30 2020    \n",
    "*I pledge my honor that I have abided by the Stevens Honor System* - Chloe Quinto  \n"
   ]
  },
  {
   "cell_type": "markdown",
   "metadata": {},
   "source": [
    "### Pre-Processing"
   ]
  },
  {
   "cell_type": "code",
   "execution_count": 1,
   "metadata": {},
   "outputs": [],
   "source": [
    "import numpy as np\n",
    "import matplotlib.pyplot as plt\n",
    "from sklearn.linear_model import LinearRegression\n",
    "from sklearn.preprocessing import PolynomialFeatures\n",
    "from sklearn.pipeline import make_pipeline"
   ]
  },
  {
   "cell_type": "code",
   "execution_count": 2,
   "metadata": {},
   "outputs": [],
   "source": [
    "noise_scale = 100\n",
    "number_of_samples = 50 \n",
    "x = 25 *(np.random.rand(number_of_samples,1)-0.8)\n",
    "y = 5*x + 20*x**2+1*x**3+noise_scale*np.random.randn(number_of_samples,1)"
   ]
  },
  {
   "cell_type": "code",
   "execution_count": 3,
   "metadata": {},
   "outputs": [
    {
     "data": {
      "image/png": "[encoded data removed]",
      "text/plain": [
       "<Figure size 432x288 with 1 Axes>"
      ]
     },
     "metadata": {
      "needs_background": "light"
     },
     "output_type": "display_data"
    }
   ],
   "source": [
    "plt.plot(x,y,'ro')\n",
    "plt.show()"
   ]
  },
  {
   "cell_type": "markdown",
   "metadata": {},
   "source": [
    "Flatten np arrays to list "
   ]
  },
  {
   "cell_type": "code",
   "execution_count": 4,
   "metadata": {},
   "outputs": [],
   "source": [
    "x = np.array(x).flatten().tolist()\n",
    "y = np.array(y).flatten().tolist()"
   ]
  },
  {
   "cell_type": "code",
   "execution_count": 5,
   "metadata": {},
   "outputs": [
    {
     "data": {
      "image/png": "[encoded data removed]",
      "text/plain": [
       "<Figure size 432x288 with 1 Axes>"
      ]
     },
     "metadata": {
      "needs_background": "light"
     },
     "output_type": "display_data"
    }
   ],
   "source": [
    "coeff = np.polyfit(x,y,3) \n",
    "poly = np.poly1d(coeff)\n",
    "\n",
    "plt.plot(x,y, 'ro')\n",
    "sortMe = np.sort(x) \n",
    "\n",
    "plt.plot(sortMe, poly(sortMe)) \n",
    "plt.show()"
   ]
  },
  {
   "cell_type": "markdown",
   "metadata": {},
   "source": [
    "## 2. Genetic Algorithm "
   ]
  },
  {
   "cell_type": "markdown",
   "metadata": {},
   "source": [
    "1. Formula is y = ax<sup>3</sup> + bx<sup>2</sup> + cx+ d\n",
    "2. Genes are a, b, c, and d\n",
    "3. Chromosomes are [a,b,c,d]\n",
    "4. For one array   \n",
    "&nbsp;&nbsp;&nbsp; a. for every actual point(x,y)   \n",
    "&nbsp;&nbsp;&nbsp;&nbsp;&nbsp;&nbsp;&nbsp;&nbsp;&nbsp; i. Compute y'=ax<sup>3</sup> + bx<sup>2</sup> + cx+ d    \n",
    "&nbsp;&nbsp;&nbsp;&nbsp;&nbsp;&nbsp;&nbsp;&nbsp;&nbsp; ii. Find the sum of (y-y')<sup>2</sup> over all    \n",
    "&nbsp;&nbsp;&nbsp;&nbsp;&nbsp;&nbsp;&nbsp;&nbsp;&nbsp; iii. Sum is your measure of \"badness\" (larger numbers are worse) \n"
   ]
  },
  {
   "cell_type": "code",
   "execution_count": 6,
   "metadata": {},
   "outputs": [
    {
     "data": {
      "text/plain": [
       "[[73, 31, 0, 71],\n",
       " [12, 65, 93, 37],\n",
       " [68, 1, 70, 80],\n",
       " [59, 17, 66, 18],\n",
       " [8, 35, 26, 46],\n",
       " [0, 26, 0, 34],\n",
       " [24, 40, 92, 16],\n",
       " [34, 1, 79, 51],\n",
       " [58, 40, 53, 47],\n",
       " [71, 92, 89, 85],\n",
       " [14, 27, 82, 37],\n",
       " [81, 18, 28, 64],\n",
       " [100, 97, 62, 36],\n",
       " [79, 3, 91, 10],\n",
       " [12, 72, 100, 62],\n",
       " [30, 96, 58, 23],\n",
       " [21, 33, 25, 56],\n",
       " [80, 51, 21, 100],\n",
       " [51, 37, 86, 14],\n",
       " [57, 88, 78, 88],\n",
       " [71, 98, 50, 80],\n",
       " [92, 47, 30, 77],\n",
       " [33, 90, 82, 13],\n",
       " [26, 3, 26, 24],\n",
       " [90, 77, 78, 67],\n",
       " [62, 18, 42, 54],\n",
       " [30, 32, 66, 15],\n",
       " [32, 98, 88, 42],\n",
       " [29, 25, 91, 67],\n",
       " [4, 6, 98, 79],\n",
       " [57, 8, 70, 56],\n",
       " [14, 32, 21, 93],\n",
       " [15, 37, 5, 82],\n",
       " [77, 20, 45, 36],\n",
       " [1, 100, 59, 79],\n",
       " [45, 66, 89, 28],\n",
       " [90, 58, 57, 40],\n",
       " [51, 17, 9, 2],\n",
       " [9, 26, 23, 77],\n",
       " [31, 53, 26, 3],\n",
       " [37, 79, 16, 62],\n",
       " [31, 35, 81, 14],\n",
       " [1, 13, 94, 76],\n",
       " [78, 29, 84, 82],\n",
       " [8, 12, 99, 35],\n",
       " [6, 88, 23, 53],\n",
       " [93, 79, 65, 69],\n",
       " [86, 52, 7, 23],\n",
       " [81, 94, 39, 86],\n",
       " [49, 36, 14, 95],\n",
       " [82, 32, 57, 72],\n",
       " [22, 86, 29, 2],\n",
       " [82, 6, 100, 84],\n",
       " [40, 18, 24, 52],\n",
       " [70, 93, 96, 82],\n",
       " [35, 65, 67, 35],\n",
       " [74, 85, 16, 42],\n",
       " [5, 97, 61, 6],\n",
       " [68, 37, 14, 29],\n",
       " [1, 13, 97, 1],\n",
       " [41, 89, 31, 83],\n",
       " [31, 70, 81, 40],\n",
       " [25, 7, 11, 56],\n",
       " [70, 77, 23, 51],\n",
       " [17, 23, 80, 88],\n",
       " [40, 84, 26, 28],\n",
       " [89, 90, 72, 25],\n",
       " [43, 95, 95, 85],\n",
       " [78, 87, 12, 13],\n",
       " [29, 78, 19, 55],\n",
       " [73, 91, 6, 27],\n",
       " [21, 86, 17, 95],\n",
       " [9, 18, 30, 24],\n",
       " [1, 29, 15, 15],\n",
       " [35, 46, 35, 7],\n",
       " [80, 28, 54, 4],\n",
       " [66, 97, 31, 8],\n",
       " [83, 59, 45, 29],\n",
       " [16, 11, 94, 96],\n",
       " [34, 32, 16, 34],\n",
       " [8, 48, 60, 9],\n",
       " [71, 97, 92, 95],\n",
       " [68, 63, 7, 37],\n",
       " [61, 22, 99, 24],\n",
       " [65, 79, 84, 24],\n",
       " [80, 21, 82, 30],\n",
       " [29, 64, 6, 87],\n",
       " [21, 2, 72, 58],\n",
       " [29, 71, 93, 43],\n",
       " [67, 47, 22, 87],\n",
       " [74, 13, 13, 32],\n",
       " [40, 38, 22, 79],\n",
       " [75, 70, 0, 20],\n",
       " [74, 4, 32, 45],\n",
       " [71, 23, 46, 87],\n",
       " [21, 32, 54, 29],\n",
       " [3, 98, 12, 34],\n",
       " [36, 38, 33, 78],\n",
       " [7, 62, 86, 7],\n",
       " [1, 62, 4, 24]]"
      ]
     },
     "execution_count": 6,
     "metadata": {},
     "output_type": "execute_result"
    }
   ],
   "source": [
    "import random\n",
    "chromosomes = []\n",
    "for i in range(100): \n",
    "    chromosome = [random.randint(0,100) for i in range(4)]\n",
    "    chromosomes.append(chromosome)\n",
    "    \n",
    "chromosomes"
   ]
  },
  {
   "cell_type": "code",
   "execution_count": 7,
   "metadata": {},
   "outputs": [],
   "source": [
    "points = []\n",
    "seen = set()\n",
    "generation = 500 "
   ]
  },
  {
   "cell_type": "code",
   "execution_count": 8,
   "metadata": {},
   "outputs": [],
   "source": [
    "def yval(i): \n",
    "    '''\n",
    "    Calculates formula y = ax^3 + bx^2 + cx + d \n",
    "    '''\n",
    "    return chromosomes[i][0]*(x[i]**3) + chromosomes[i][1]*(x[i]**2) + chromosomes[i][2]*(x[i])+ chromosomes[i][3]\n"
   ]
  },
  {
   "cell_type": "code",
   "execution_count": 9,
   "metadata": {},
   "outputs": [
    {
     "name": "stdout",
     "output_type": "stream",
     "text": [
      "([4, 6, 98, 79], 391600)\n",
      "([8, 35, 26, 46], 767677)\n",
      "([34, 1, 79, 51], 1325281)\n",
      "([15, 37, 5, 82], 2920585)\n",
      "([30, 96, 58, 23], 3667422)\n",
      "([31, 35, 81, 14], 9546081)\n",
      "([9, 26, 23, 77], 12239912)\n",
      "([14, 27, 82, 37], 15509998)\n",
      "([68, 1, 70, 80], 40965895)\n",
      "([62, 18, 42, 54], 51632846)\n"
     ]
    }
   ],
   "source": [
    "i, j = 0,1 \n",
    "points = []\n",
    "seen = set()\n",
    "while j < len(x): \n",
    "    y = yval(i)\n",
    "    y_hat = yval(j)\n",
    "\n",
    "    badness = (y - y_hat)**2 \n",
    "\n",
    "    points.append((chromosomes[i], round(badness)))\n",
    "    \n",
    "    if tuple(chromosomes[i]) in seen: \n",
    "        pass\n",
    "    else: \n",
    "        seen.add(tuple(chromosomes[i]))\n",
    "        genes = sorted(points, key = lambda x: float(x[1]), reverse = False)\n",
    "        \n",
    "    \n",
    "    \n",
    "    j += 1 \n",
    "    i += 1 \n",
    "genes = genes[:10]\n"
   ]
  },
  {
   "cell_type": "markdown",
   "metadata": {},
   "source": [
    "## 3. Creating Mutations "
   ]
  },
  {
   "cell_type": "code",
   "execution_count": 21,
   "metadata": {},
   "outputs": [
    {
     "name": "stdout",
     "output_type": "stream",
     "text": [
      "[0, [4, 6, 98, 79], [4, 6, 98, 79], [4, 5, 98, 79], [4, 6, 49, 79], [4, 6, 98, 79], [3, 6, 98, 79], [4, 6, 98, 79], [4, 6, 98, 79], [1, 6, 98, 79], [4, 6, 98, 1]]\n",
      "\n",
      "\n",
      "[1, [8, 35, 26, 46], [8, 18, 26, 46], [8, 35, 15, 46], [8, 35, 26, 25], [8, 35, 26, 44], [8, 35, 26, 46], [8, 31, 26, 46], [8, 35, 26, 2], [8, 35, 26, 26], [8, 35, 4, 46]]\n",
      "\n",
      "\n",
      "[2, [34, 1, 79, 51], [24, 1, 79, 51], [8, 1, 79, 51], [34, 1, 2, 51], [34, 1, 73, 51], [14, 1, 79, 51], [34, 1, 79, 51], [34, 1, 30, 51], [34, 1, 11, 51], [34, 1, 75, 51]]\n",
      "\n",
      "\n",
      "[3, [15, 37, 5, 82], [15, 11, 5, 82], [15, 10, 5, 82], [15, 36, 5, 82], [15, 37, 5, 13], [15, 37, 2, 82], [15, 31, 5, 82], [15, 37, 3, 82], [15, 37, 5, 32], [9, 37, 5, 82]]\n",
      "\n",
      "\n",
      "[4, [30, 96, 58, 23], [30, 96, 58, 1], [30, 96, 11, 23], [5, 96, 58, 23], [22, 96, 58, 23], [30, 18, 58, 23], [30, 8, 58, 23], [30, 96, 58, 13], [30, 96, 25, 23], [30, 96, 51, 23]]\n",
      "\n",
      "\n",
      "[5, [31, 35, 81, 14], [31, 19, 81, 14], [31, 35, 75, 14], [20, 35, 81, 14], [31, 6, 81, 14], [31, 35, 81, 2], [21, 35, 81, 14], [31, 35, 17, 14], [31, 4, 81, 14], [31, 35, 53, 14]]\n",
      "\n",
      "\n",
      "[6, [9, 26, 23, 77], [9, 26, 8, 77], [9, 4, 23, 77], [9, 20, 23, 77], [9, 26, 23, 60], [9, 11, 23, 77], [9, 23, 23, 77], [4, 26, 23, 77], [9, 11, 23, 77], [9, 26, 9, 77]]\n",
      "\n",
      "\n",
      "[7, [14, 27, 82, 37], [14, 27, 82, 18], [14, 27, 52, 37], [11, 27, 82, 37], [14, 27, 82, 35], [14, 27, 82, 16], [14, 8, 82, 37], [14, 27, 82, 4], [14, 5, 82, 37], [14, 27, 82, 31]]\n",
      "\n",
      "\n",
      "[8, [68, 1, 70, 80], [68, 1, 49, 80], [17, 1, 70, 80], [68, 1, 70, 80], [68, 1, 33, 80], [68, 1, 70, 42], [68, 1, 35, 80], [68, 1, 70, 57], [68, 1, 70, 35], [68, 1, 70, 80]]\n",
      "\n",
      "\n",
      "[9, [62, 18, 42, 54], [62, 18, 42, 30], [62, 18, 29, 54], [62, 18, 42, 22], [62, 18, 9, 54], [62, 18, 42, 48], [62, 18, 42, 47], [62, 5, 42, 54], [44, 18, 42, 54], [62, 18, 42, 14]]\n",
      "\n",
      "\n"
     ]
    }
   ],
   "source": [
    "mutations = []\n",
    "curr = []\n",
    "for i in range(len(genes)): \n",
    "    og = genes[i][0]\n",
    "    curr.append(i)\n",
    "    curr.append(og.copy())\n",
    "    for j in range(9): \n",
    "\n",
    "        new = og.copy()\n",
    "        rand_idx = random.randrange(len(new))\n",
    "        rand_num = new[rand_idx]\n",
    "        rand_float = random.uniform(0,1)\n",
    "        new_num = round(rand_num * rand_float)\n",
    "        new[rand_idx] = new_num\n",
    "        curr.append(new)\n",
    "    print(curr)\n",
    "    print(\"\\n\")\n",
    "    mutations.append(curr)\n",
    "    curr = []"
   ]
  },
  {
   "cell_type": "code",
   "execution_count": null,
   "metadata": {},
   "outputs": [],
   "source": []
  }
 ],
 "metadata": {
  "kernelspec": {
   "display_name": "Python 3",
   "language": "python",
   "name": "python3"
  },
  "language_info": {
   "codemirror_mode": {
    "name": "ipython",
    "version": 3
   },
   "file_extension": ".py",
   "mimetype": "text/x-python",
   "name": "python",
   "nbconvert_exporter": "python",
   "pygments_lexer": "ipython3",
   "version": "3.7.1"
  }
 },
 "nbformat": 4,
 "nbformat_minor": 2
}
