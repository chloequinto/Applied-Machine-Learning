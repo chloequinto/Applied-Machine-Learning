{
 "cells": [
  {
   "cell_type": "markdown",
   "metadata": {},
   "source": [
    "## CPE 695:  HW 5\n",
    "\n",
    "Chloe Quinto    \n",
    "HW 5   \n",
    "April 30 2020    \n",
    "*I pledge my honor that I have abided by the Stevens Honor System* - Chloe Quinto  \n"
   ]
  },
  {
   "cell_type": "markdown",
   "metadata": {},
   "source": [
    "### Pre-Processing"
   ]
  },
  {
   "cell_type": "code",
   "execution_count": 1,
   "metadata": {},
   "outputs": [],
   "source": [
    "import numpy as np\n",
    "import matplotlib.pyplot as plt\n",
    "from sklearn.linear_model import LinearRegression\n",
    "from sklearn.preprocessing import PolynomialFeatures\n",
    "from sklearn.pipeline import make_pipeline\n",
    "import random"
   ]
  },
  {
   "cell_type": "code",
   "execution_count": 2,
   "metadata": {},
   "outputs": [],
   "source": [
    "noise_scale = 100\n",
    "number_of_samples = 50 \n",
    "x = 25 *(np.random.rand(number_of_samples,1)-0.8)\n",
    "y = 5*x + 20*x**2+1*x**3+noise_scale*np.random.randn(number_of_samples,1)"
   ]
  },
  {
   "cell_type": "code",
   "execution_count": 3,
   "metadata": {},
   "outputs": [
    {
     "data": {
      "image/png": "[encoded data removed]",
      "text/plain": [
       "<Figure size 432x288 with 1 Axes>"
      ]
     },
     "metadata": {
      "needs_background": "light"
     },
     "output_type": "display_data"
    }
   ],
   "source": [
    "plt.plot(x,y,'ro')\n",
    "plt.show()"
   ]
  },
  {
   "cell_type": "markdown",
   "metadata": {},
   "source": [
    "Flatten np arrays to list "
   ]
  },
  {
   "cell_type": "code",
   "execution_count": 4,
   "metadata": {},
   "outputs": [],
   "source": [
    "x = np.array(x).flatten().tolist()\n",
    "y = np.array(y).flatten().tolist()"
   ]
  },
  {
   "cell_type": "code",
   "execution_count": 5,
   "metadata": {},
   "outputs": [
    {
     "data": {
      "image/png": "[encoded data removed]",
      "text/plain": [
       "<Figure size 432x288 with 1 Axes>"
      ]
     },
     "metadata": {
      "needs_background": "light"
     },
     "output_type": "display_data"
    }
   ],
   "source": [
    "coeff = np.polyfit(x,y,3) \n",
    "poly = np.poly1d(coeff)\n",
    "\n",
    "plt.plot(x,y, 'ro')\n",
    "sortMe = np.sort(x) \n",
    "\n",
    "plt.plot(sortMe, poly(sortMe)) \n",
    "plt.show()"
   ]
  },
  {
   "cell_type": "markdown",
   "metadata": {},
   "source": [
    "## 2. Genetic Algorithm "
   ]
  },
  {
   "cell_type": "markdown",
   "metadata": {},
   "source": [
    "1. Formula is y = ax<sup>3</sup> + bx<sup>2</sup> + cx+ d\n",
    "2. Genes are a, b, c, and d\n",
    "3. Chromosomes are [a,b,c,d]\n",
    "4. For one array   \n",
    "&nbsp;&nbsp;&nbsp; a. for every actual point(x,y)   \n",
    "&nbsp;&nbsp;&nbsp;&nbsp;&nbsp;&nbsp;&nbsp;&nbsp;&nbsp; i. Compute y'=ax<sup>3</sup> + bx<sup>2</sup> + cx+ d    \n",
    "&nbsp;&nbsp;&nbsp;&nbsp;&nbsp;&nbsp;&nbsp;&nbsp;&nbsp; ii. Find the sum of (y-y')<sup>2</sup> over all    \n",
    "&nbsp;&nbsp;&nbsp;&nbsp;&nbsp;&nbsp;&nbsp;&nbsp;&nbsp; iii. Sum is your measure of \"badness\" (larger numbers are worse) \n"
   ]
  },
  {
   "cell_type": "code",
   "execution_count": 6,
   "metadata": {},
   "outputs": [],
   "source": [
    "def createChromosomes(): \n",
    "    '''\n",
    "    Creates 100 six-element arrays of random numbers \n",
    "    '''\n",
    "    chromosomes = []\n",
    "    for i in range(100): \n",
    "        chromosome = [random.randint(0,100) for i in range(4)]\n",
    "        chromosomes.append(chromosome)\n",
    "    return chromosomes"
   ]
  },
  {
   "cell_type": "code",
   "execution_count": 7,
   "metadata": {},
   "outputs": [],
   "source": [
    "def yval(i, chromosomes, x): \n",
    "    '''\n",
    "    Calculates formula y = ax^3 + bx^2 + cx + d \n",
    "    '''\n",
    "    return chromosomes[0]*(x[i]**3) + chromosomes[1]*(x[i]**2) + chromosomes[2]*(x[i])+ chromosomes[3]\n"
   ]
  },
  {
   "cell_type": "code",
   "execution_count": 8,
   "metadata": {},
   "outputs": [],
   "source": [
    "def badnessScore(chromosomes): \n",
    "    '''\n",
    "    Computes badness score \n",
    "    '''\n",
    "    i, j = 0,1 \n",
    "    points = []\n",
    "    seen = set()\n",
    "    while j < len(x): \n",
    "        \n",
    "        y = yval(i, chromosomes, x)\n",
    "        y_hat = yval(j, chromosomes, x)\n",
    "\n",
    "        badness = (y - y_hat)**2 \n",
    "        points.append((chromosomes, round(badness)))\n",
    "\n",
    "        genes = sorted(points, key = lambda x: float(x[1]), reverse = False)\n",
    "        j += 1 \n",
    "        i += 1\n",
    "    return genes[0]"
   ]
  },
  {
   "cell_type": "code",
   "execution_count": 9,
   "metadata": {},
   "outputs": [],
   "source": [
    "def createMutations(genes): \n",
    "    '''\n",
    "    Creates mutations on 9 new chromosomes \n",
    "    '''\n",
    "    mutations = []\n",
    "\n",
    "    for j in range(9): \n",
    "        new = genes.copy()\n",
    "        rand_idx = random.randrange(len(new))\n",
    "        rand_num = new[rand_idx]\n",
    "        rand_float = random.uniform(0,1)\n",
    "        new_num = round(rand_num * rand_float)\n",
    "        new[rand_idx] = new_num\n",
    "        mutations.append(new)\n",
    "    \n",
    "    return mutations"
   ]
  },
  {
   "cell_type": "code",
   "execution_count": 10,
   "metadata": {},
   "outputs": [],
   "source": [
    "def keep10Best(best_arr): \n",
    "    '''\n",
    "    keeps 10 best arrays and calls createMutations()\n",
    "    '''\n",
    "    genes = sorted(best_arr, key = lambda x: float(x[1]), reverse = False)[:10]\n",
    "    for h in range(len(genes)): #for each array, generate 9 new ones  \n",
    "        mutatants = createMutations(genes[h][0])\n",
    "        for g in range(len(mutatants)):\n",
    "            individual(mutatants[g])\n",
    "        print(\"\\n\\n\\n\")"
   ]
  },
  {
   "cell_type": "code",
   "execution_count": 11,
   "metadata": {},
   "outputs": [],
   "source": [
    "def individual(chromosome): \n",
    "    '''\n",
    "    For each individual's chromosome, compute badness score and generate \n",
    "    '''\n",
    "    best_arr = []\n",
    "    for j in range(100): \n",
    "        bestGenes = badnessScore(chromosome)\n",
    "        best_arr.append(bestGenes)\n",
    "    keep10Best(best_arr)"
   ]
  },
  {
   "cell_type": "code",
   "execution_count": 12,
   "metadata": {},
   "outputs": [
    {
     "name": "stdout",
     "output_type": "stream",
     "text": [
      "Generation  0\n"
     ]
    },
    {
     "ename": "RecursionError",
     "evalue": "maximum recursion depth exceeded",
     "output_type": "error",
     "traceback": [
      "\u001b[0;31m---------------------------------------------------------------------------\u001b[0m",
      "\u001b[0;31mRecursionError\u001b[0m                            Traceback (most recent call last)",
      "\u001b[0;32m<ipython-input-12-8944eb7db96f>\u001b[0m in \u001b[0;36m<module>\u001b[0;34m\u001b[0m\n\u001b[1;32m     10\u001b[0m     \u001b[0mprint\u001b[0m\u001b[0;34m(\u001b[0m\u001b[0;34m\"Finito\"\u001b[0m\u001b[0;34m)\u001b[0m\u001b[0;34m\u001b[0m\u001b[0;34m\u001b[0m\u001b[0m\n\u001b[1;32m     11\u001b[0m \u001b[0;34m\u001b[0m\u001b[0m\n\u001b[0;32m---> 12\u001b[0;31m \u001b[0mmain\u001b[0m\u001b[0;34m(\u001b[0m\u001b[0;34m)\u001b[0m\u001b[0;34m\u001b[0m\u001b[0;34m\u001b[0m\u001b[0m\n\u001b[0m",
      "\u001b[0;32m<ipython-input-12-8944eb7db96f>\u001b[0m in \u001b[0;36mmain\u001b[0;34m()\u001b[0m\n\u001b[1;32m      7\u001b[0m     \u001b[0;32mfor\u001b[0m \u001b[0mi\u001b[0m \u001b[0;32min\u001b[0m \u001b[0mrange\u001b[0m\u001b[0;34m(\u001b[0m\u001b[0mgeneration\u001b[0m\u001b[0;34m)\u001b[0m\u001b[0;34m:\u001b[0m\u001b[0;34m\u001b[0m\u001b[0;34m\u001b[0m\u001b[0m\n\u001b[1;32m      8\u001b[0m         \u001b[0mprint\u001b[0m\u001b[0;34m(\u001b[0m\u001b[0;34m\"Generation \"\u001b[0m\u001b[0;34m,\u001b[0m \u001b[0mi\u001b[0m\u001b[0;34m)\u001b[0m\u001b[0;34m\u001b[0m\u001b[0;34m\u001b[0m\u001b[0m\n\u001b[0;32m----> 9\u001b[0;31m         \u001b[0mindividual\u001b[0m\u001b[0;34m(\u001b[0m\u001b[0mchromosomes\u001b[0m\u001b[0;34m[\u001b[0m\u001b[0mi\u001b[0m\u001b[0;34m]\u001b[0m\u001b[0;34m)\u001b[0m\u001b[0;34m\u001b[0m\u001b[0;34m\u001b[0m\u001b[0m\n\u001b[0m\u001b[1;32m     10\u001b[0m     \u001b[0mprint\u001b[0m\u001b[0;34m(\u001b[0m\u001b[0;34m\"Finito\"\u001b[0m\u001b[0;34m)\u001b[0m\u001b[0;34m\u001b[0m\u001b[0;34m\u001b[0m\u001b[0m\n\u001b[1;32m     11\u001b[0m \u001b[0;34m\u001b[0m\u001b[0m\n",
      "\u001b[0;32m<ipython-input-11-d7f4a3d4ac08>\u001b[0m in \u001b[0;36mindividual\u001b[0;34m(chromosome)\u001b[0m\n\u001b[1;32m      7\u001b[0m         \u001b[0mbestGenes\u001b[0m \u001b[0;34m=\u001b[0m \u001b[0mbadnessScore\u001b[0m\u001b[0;34m(\u001b[0m\u001b[0mchromosome\u001b[0m\u001b[0;34m)\u001b[0m\u001b[0;34m\u001b[0m\u001b[0;34m\u001b[0m\u001b[0m\n\u001b[1;32m      8\u001b[0m         \u001b[0mbest_arr\u001b[0m\u001b[0;34m.\u001b[0m\u001b[0mappend\u001b[0m\u001b[0;34m(\u001b[0m\u001b[0mbestGenes\u001b[0m\u001b[0;34m)\u001b[0m\u001b[0;34m\u001b[0m\u001b[0;34m\u001b[0m\u001b[0m\n\u001b[0;32m----> 9\u001b[0;31m     \u001b[0mkeep10Best\u001b[0m\u001b[0;34m(\u001b[0m\u001b[0mbest_arr\u001b[0m\u001b[0;34m)\u001b[0m\u001b[0;34m\u001b[0m\u001b[0;34m\u001b[0m\u001b[0m\n\u001b[0m",
      "\u001b[0;32m<ipython-input-10-ec017b05e0d7>\u001b[0m in \u001b[0;36mkeep10Best\u001b[0;34m(best_arr)\u001b[0m\n\u001b[1;32m      7\u001b[0m         \u001b[0mmutatants\u001b[0m \u001b[0;34m=\u001b[0m \u001b[0mcreateMutations\u001b[0m\u001b[0;34m(\u001b[0m\u001b[0mgenes\u001b[0m\u001b[0;34m[\u001b[0m\u001b[0mh\u001b[0m\u001b[0;34m]\u001b[0m\u001b[0;34m[\u001b[0m\u001b[0;36m0\u001b[0m\u001b[0;34m]\u001b[0m\u001b[0;34m)\u001b[0m\u001b[0;34m\u001b[0m\u001b[0;34m\u001b[0m\u001b[0m\n\u001b[1;32m      8\u001b[0m         \u001b[0;32mfor\u001b[0m \u001b[0mg\u001b[0m \u001b[0;32min\u001b[0m \u001b[0mrange\u001b[0m\u001b[0;34m(\u001b[0m\u001b[0mlen\u001b[0m\u001b[0;34m(\u001b[0m\u001b[0mmutatants\u001b[0m\u001b[0;34m)\u001b[0m\u001b[0;34m)\u001b[0m\u001b[0;34m:\u001b[0m\u001b[0;34m\u001b[0m\u001b[0;34m\u001b[0m\u001b[0m\n\u001b[0;32m----> 9\u001b[0;31m             \u001b[0mindividual\u001b[0m\u001b[0;34m(\u001b[0m\u001b[0mmutatants\u001b[0m\u001b[0;34m[\u001b[0m\u001b[0mg\u001b[0m\u001b[0;34m]\u001b[0m\u001b[0;34m)\u001b[0m\u001b[0;34m\u001b[0m\u001b[0;34m\u001b[0m\u001b[0m\n\u001b[0m\u001b[1;32m     10\u001b[0m         \u001b[0mprint\u001b[0m\u001b[0;34m(\u001b[0m\u001b[0;34m\"\\n\\n\\n\"\u001b[0m\u001b[0;34m)\u001b[0m\u001b[0;34m\u001b[0m\u001b[0;34m\u001b[0m\u001b[0m\n",
      "... last 2 frames repeated, from the frame below ...\n",
      "\u001b[0;32m<ipython-input-11-d7f4a3d4ac08>\u001b[0m in \u001b[0;36mindividual\u001b[0;34m(chromosome)\u001b[0m\n\u001b[1;32m      7\u001b[0m         \u001b[0mbestGenes\u001b[0m \u001b[0;34m=\u001b[0m \u001b[0mbadnessScore\u001b[0m\u001b[0;34m(\u001b[0m\u001b[0mchromosome\u001b[0m\u001b[0;34m)\u001b[0m\u001b[0;34m\u001b[0m\u001b[0;34m\u001b[0m\u001b[0m\n\u001b[1;32m      8\u001b[0m         \u001b[0mbest_arr\u001b[0m\u001b[0;34m.\u001b[0m\u001b[0mappend\u001b[0m\u001b[0;34m(\u001b[0m\u001b[0mbestGenes\u001b[0m\u001b[0;34m)\u001b[0m\u001b[0;34m\u001b[0m\u001b[0;34m\u001b[0m\u001b[0m\n\u001b[0;32m----> 9\u001b[0;31m     \u001b[0mkeep10Best\u001b[0m\u001b[0;34m(\u001b[0m\u001b[0mbest_arr\u001b[0m\u001b[0;34m)\u001b[0m\u001b[0;34m\u001b[0m\u001b[0;34m\u001b[0m\u001b[0m\n\u001b[0m",
      "\u001b[0;31mRecursionError\u001b[0m: maximum recursion depth exceeded"
     ]
    }
   ],
   "source": [
    "def main(): \n",
    "    '''\n",
    "    For each generation, we want to compute an individual chromosome's badness score \n",
    "    '''\n",
    "    generation = 1\n",
    "    chromosomes = createChromosomes()\n",
    "    for i in range(generation):\n",
    "        print(\"Generation \", i)\n",
    "        individual(chromosomes[i])\n",
    "    print(\"Finito\")\n",
    "\n",
    "main()"
   ]
  },
  {
   "cell_type": "code",
   "execution_count": null,
   "metadata": {},
   "outputs": [],
   "source": []
  },
  {
   "cell_type": "code",
   "execution_count": null,
   "metadata": {},
   "outputs": [],
   "source": []
  }
 ],
 "metadata": {
  "kernelspec": {
   "display_name": "Python 3",
   "language": "python",
   "name": "python3"
  },
  "language_info": {
   "codemirror_mode": {
    "name": "ipython",
    "version": 3
   },
   "file_extension": ".py",
   "mimetype": "text/x-python",
   "name": "python",
   "nbconvert_exporter": "python",
   "pygments_lexer": "ipython3",
   "version": "3.7.1"
  }
 },
 "nbformat": 4,
 "nbformat_minor": 2
}
