{
 "cells": [
  {
   "cell_type": "markdown",
   "metadata": {},
   "source": [
    "Chloe Quinto    \n",
    "CPE 695/WS  \n",
    "HW2   \n",
    "February 12, 2020   \n",
    "I pledge my honor that I have abided by the Stevens Honor System - Chloe Quinto \n"
   ]
  },
  {
   "cell_type": "code",
   "execution_count": 1,
   "metadata": {},
   "outputs": [
    {
     "data": {
      "text/plain": [
       "'\\nSome notes for myself: \\n\\nSince the Cost Function J(Ɵ) calculates errors of our model, \\nso we tend to decrease it to the minimum value possible because the lowest the error, \\nthe more robust and efficient is our model.\\n\\n'"
      ]
     },
     "execution_count": 1,
     "metadata": {},
     "output_type": "execute_result"
    }
   ],
   "source": [
    "\"\"\"\n",
    "Some notes for myself: \n",
    "\n",
    "Since the Cost Function J(Ɵ) calculates errors of our model, \n",
    "so we tend to decrease it to the minimum value possible because the lowest the error, \n",
    "the more robust and efficient is our model.\n",
    "\n",
    "\"\"\""
   ]
  },
  {
   "cell_type": "code",
   "execution_count": 2,
   "metadata": {},
   "outputs": [
    {
     "data": {
      "image/png": "[encoded data removed]",
      "text/plain": [
       "<Figure size 432x288 with 1 Axes>"
      ]
     },
     "metadata": {
      "needs_background": "light"
     },
     "output_type": "display_data"
    }
   ],
   "source": [
    "\"\"\"\n",
    "In this problem, we write a program to find the coefficients for a linear regression model for the dataset\n",
    "provided by (data2.txt). Assume a linear model: y = w0 + w1* x\n",
    "\"\"\"\n",
    "\n",
    "#1. Plot the data (i.e. x-axis for 1st column, y-axis for 2nd column)\n",
    "\n",
    "\n",
    "import pandas as pd\n",
    "import numpy as np\n",
    "import matplotlib.pyplot as plt\n",
    "\n",
    "\n",
    "data = pd.read_csv(\"data2.txt\", header = None)\n",
    "# data\n",
    "\n",
    "x = np.array(data[0])\n",
    "y = np.array(data[1])\n",
    "\n",
    "plt.scatter(x,y,color='red')\n",
    "plt.title(\"Dataset\")\n",
    "plt.xlabel(\"1st Column\")\n",
    "plt.ylabel(\"2nd Column\")\n",
    "plt.show()\n"
   ]
  },
  {
   "cell_type": "markdown",
   "metadata": {},
   "source": [
    "We need to find the normal equation given: \n",
    "\n",
    "<img src=\"images/normalEquation.png\">\n"
   ]
  },
  {
   "cell_type": "code",
   "execution_count": 3,
   "metadata": {},
   "outputs": [],
   "source": [
    "#add an additional column of 1s in our x column and we call this additional matrix as x_bias.\n",
    "x_bias = np.ones((97,1))\n",
    "x = np.reshape(x,(97,1))\n",
    "x = np.append(x_bias,x,axis=1)"
   ]
  },
  {
   "cell_type": "markdown",
   "metadata": {},
   "source": [
    "Let's try to find our transpose, dotproduct, and inverse\n",
    "\n",
    "<img src=\"images/firstHalf.png\">"
   ]
  },
  {
   "cell_type": "code",
   "execution_count": 4,
   "metadata": {},
   "outputs": [],
   "source": [
    "x_transpose = np.transpose(x) #x^T\n",
    "x_transpose_dot_x = x_transpose.dot(x) #x^T*x\n",
    "firstHalf = np.linalg.inv(x_transpose_dot_x)# (x^T*x)^-1"
   ]
  },
  {
   "cell_type": "code",
   "execution_count": 5,
   "metadata": {},
   "outputs": [
    {
     "data": {
      "text/plain": [
       "array([[ 0.05662112, -0.00567561],\n",
       "       [-0.00567561,  0.00069556]])"
      ]
     },
     "execution_count": 5,
     "metadata": {},
     "output_type": "execute_result"
    }
   ],
   "source": [
    "firstHalf"
   ]
  },
  {
   "cell_type": "markdown",
   "metadata": {},
   "source": [
    "Now we have to take find the transpose and dot product of the second half of the equation\n",
    "\n",
    "<img src = \"images/secondHalf.png\">"
   ]
  },
  {
   "cell_type": "code",
   "execution_count": 6,
   "metadata": {},
   "outputs": [],
   "source": [
    "secondHalf = x_transpose.dot(y) #x^T*y "
   ]
  },
  {
   "cell_type": "code",
   "execution_count": 7,
   "metadata": {},
   "outputs": [
    {
     "data": {
      "text/plain": [
       "array([ 566.3961    , 6336.89842532])"
      ]
     },
     "execution_count": 7,
     "metadata": {},
     "output_type": "execute_result"
    }
   ],
   "source": [
    "secondHalf"
   ]
  },
  {
   "cell_type": "code",
   "execution_count": 8,
   "metadata": {},
   "outputs": [],
   "source": [
    "theta = firstHalf.dot(secondHalf)"
   ]
  },
  {
   "cell_type": "code",
   "execution_count": 9,
   "metadata": {},
   "outputs": [
    {
     "name": "stdout",
     "output_type": "stream",
     "text": [
      "-3.8957808783119106 1.1930336441895983\n"
     ]
    }
   ],
   "source": [
    "thetaOne = theta[0]\n",
    "thetaTwo = theta[1]\n",
    "\n",
    "print(thetaOne, thetaTwo)\n",
    "y = thetaOne + thetaTwo*x\n",
    "# plt.plot(x,y,color='blue') \n",
    "# plt.show()"
   ]
  },
  {
   "cell_type": "code",
   "execution_count": 14,
   "metadata": {},
   "outputs": [
    {
     "data": {
      "image/png": "[encoded data removed]",
      "text/plain": [
       "<Figure size 432x288 with 1 Axes>"
      ]
     },
     "metadata": {
      "needs_background": "light"
     },
     "output_type": "display_data"
    }
   ],
   "source": [
    "x_original = np.array(data[0])\n",
    "y_original = np.array(data[1])\n",
    "plt.scatter(x_original, y_original, color=\"red\")\n",
    "plt.plot(x,y,color='blue') \n",
    "plt.xlim(4.5)\n",
    "plt.title(\"Dataset\")\n",
    "plt.xlabel(\"1st Column\")\n",
    "plt.ylabel(\"2nd Column\")\n",
    "plt.show()"
   ]
  },
  {
   "cell_type": "code",
   "execution_count": null,
   "metadata": {},
   "outputs": [],
   "source": []
  }
 ],
 "metadata": {
  "kernelspec": {
   "display_name": "Python 3",
   "language": "python",
   "name": "python3"
  },
  "language_info": {
   "codemirror_mode": {
    "name": "ipython",
    "version": 3
   },
   "file_extension": ".py",
   "mimetype": "text/x-python",
   "name": "python",
   "nbconvert_exporter": "python",
   "pygments_lexer": "ipython3",
   "version": "3.7.1"
  }
 },
 "nbformat": 4,
 "nbformat_minor": 2
}
