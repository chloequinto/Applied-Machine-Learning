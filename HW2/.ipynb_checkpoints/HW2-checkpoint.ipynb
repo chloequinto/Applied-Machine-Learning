{
 "cells": [
  {
   "cell_type": "markdown",
   "metadata": {},
   "source": [
    "Chloe Quinto    \n",
    "CPE 695/WS  \n",
    "HW2   \n",
    "February 12, 2020   \n",
    "I pledge my honor that I have abided by the Stevens Honor System - Chloe Quinto \n"
   ]
  },
  {
   "cell_type": "code",
   "execution_count": 1,
   "metadata": {},
   "outputs": [
    {
     "data": {
      "image/png": "[encoded data removed]",
      "text/plain": [
       "<Figure size 432x288 with 1 Axes>"
      ]
     },
     "metadata": {
      "needs_background": "light"
     },
     "output_type": "display_data"
    }
   ],
   "source": [
    "\"\"\"\n",
    "In this problem, we write a program to find the coefficients for a linear regression model for the dataset\n",
    "provided by (data2.txt). Assume a linear model: y = w0 + w1* x\n",
    "\"\"\"\n",
    "\n",
    "#1. Plot the data (i.e. x-axis for 1st column, y-axis for 2nd column)\n",
    "\n",
    "\n",
    "import pandas as pd\n",
    "import numpy as np\n",
    "import matplotlib.pyplot as plt\n",
    "\n",
    "\n",
    "data = pd.read_csv(\"data2.txt\", header = None)\n",
    "# data\n",
    "\n",
    "x = data[0]\n",
    "y = data[1]\n",
    "\n",
    "plt.plot(x,y,'ro')\n",
    "plt.title(\"Dataset\")\n",
    "plt.xlabel(\"1st Column\")\n",
    "plt.ylabel(\"2nd Column\")\n",
    "plt.show()\n"
   ]
  },
  {
   "cell_type": "code",
   "execution_count": 2,
   "metadata": {},
   "outputs": [
    {
     "ename": "SyntaxError",
     "evalue": "invalid syntax (<ipython-input-2-586ec6a21c76>, line 14)",
     "output_type": "error",
     "traceback": [
      "\u001b[0;36m  File \u001b[0;32m\"<ipython-input-2-586ec6a21c76>\"\u001b[0;36m, line \u001b[0;32m14\u001b[0m\n\u001b[0;31m    calculate the first term\u001b[0m\n\u001b[0m                ^\u001b[0m\n\u001b[0;31mSyntaxError\u001b[0m\u001b[0;31m:\u001b[0m invalid syntax\n"
     ]
    }
   ],
   "source": [
    "\"\"\"\n",
    "Find the coefficients of:  \n",
    "Normal Equation \n",
    "\"\"\"\n",
    "m = len(x) #97\n",
    "x_bias = np.ones((m))\n",
    "x = np.reshape(x,(m))\n",
    "x = np.append(x_bias, x)\n",
    "\n",
    "x_transpose = np.transpose(x)\n",
    "x_transpose_dot_x = x_transpose.dot(x)\n",
    "x_transpose_dot_x\n",
    "\n",
    "#calculate the first term \n",
    "temp_1 = np.linalg.inv(x_transpose_dot_x)\n",
    "temp_2=x_transpose.dot(y)\n",
    "theta =temp_1.dot(temp_2)\n",
    "print(theta)"
   ]
  },
  {
   "cell_type": "code",
   "execution_count": null,
   "metadata": {},
   "outputs": [],
   "source": [
    "x =  np.array([1,2,3,4,5]) #Uncomment this when using Sample  Dataset\n",
    "y =  np.array([7,9,12,15,16])   #Uncomment this when using Sample Dataset\n",
    "\n",
    "\n",
    "plt.scatter(x,y,color='red')\n",
    "x_bias = np.ones((5,1))\n",
    "x = np.reshape(x,(5,1))\n",
    "x = np.append(x_bias,x,axis=1)\n",
    "x_transpose = np.transpose(x)\n",
    "print(x)\n",
    "x_transpose_dot_x = x_transpose.dot(x)\n",
    "temp_1 = np.linalg.inv(x_transpose_dot_x)\n",
    "temp_2=x_transpose.dot(y)\n",
    "theta =temp_1.dot(temp_2)\n",
    "print(theta)"
   ]
  },
  {
   "cell_type": "code",
   "execution_count": null,
   "metadata": {},
   "outputs": [],
   "source": []
  }
 ],
 "metadata": {
  "kernelspec": {
   "display_name": "Python 3",
   "language": "python",
   "name": "python3"
  },
  "language_info": {
   "codemirror_mode": {
    "name": "ipython",
    "version": 3
   },
   "file_extension": ".py",
   "mimetype": "text/x-python",
   "name": "python",
   "nbconvert_exporter": "python",
   "pygments_lexer": "ipython3",
   "version": "3.7.1"
  }
 },
 "nbformat": 4,
 "nbformat_minor": 2
}
