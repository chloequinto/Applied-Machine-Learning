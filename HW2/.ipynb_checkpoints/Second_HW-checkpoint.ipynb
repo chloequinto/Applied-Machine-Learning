{
 "cells": [
  {
   "cell_type": "markdown",
   "metadata": {},
   "source": [
    "Chloe Quinto    \n",
    "CPE 695/WS  \n",
    "HW2   \n",
    "February 12, 2020   \n",
    "I pledge my honor that I have abided by the Stevens Honor System - Chloe Quinto \n"
   ]
  },
  {
   "cell_type": "code",
   "execution_count": 1,
   "metadata": {},
   "outputs": [],
   "source": [
    "import pandas as pd\n",
    "import numpy as np\n",
    "import matplotlib.pyplot as plt\n",
    "from sklearn.model_selection import train_test_split "
   ]
  },
  {
   "cell_type": "code",
   "execution_count": 2,
   "metadata": {},
   "outputs": [
    {
     "data": {
      "image/png": "[encoded data removed]",
      "text/plain": [
       "<Figure size 432x288 with 1 Axes>"
      ]
     },
     "metadata": {
      "needs_background": "light"
     },
     "output_type": "display_data"
    }
   ],
   "source": [
    "\"\"\"\n",
    "In this problem, we write a program to find the coefficients for a linear regression model for the dataset\n",
    "provided by (data2.txt). Assume a linear model: y = w0 + w1* x\n",
    "\"\"\"\n",
    "\n",
    "\n",
    "data = pd.read_csv(\"data2.txt\", header = None)\n",
    "\n",
    "x = np.array(data[0])\n",
    "y = np.array(data[1])\n",
    "\n",
    "plt.scatter(x,y,color='red')\n",
    "plt.title(\"Dataset\")\n",
    "plt.xlabel(\"x\")\n",
    "plt.ylabel(\"y\")\n",
    "plt.show()"
   ]
  },
  {
   "cell_type": "markdown",
   "metadata": {},
   "source": [
    "---"
   ]
  },
  {
   "cell_type": "markdown",
   "metadata": {},
   "source": [
    "### Calculate the Normal Equation "
   ]
  },
  {
   "cell_type": "markdown",
   "metadata": {},
   "source": [
    "<img src=\"images/normalEquation.png\">"
   ]
  },
  {
   "cell_type": "code",
   "execution_count": 3,
   "metadata": {},
   "outputs": [],
   "source": [
    "def normal_equation(x,y):\n",
    "    m = len(x)\n",
    "    x_bias = np.c_[np.ones((m, 1)), x] \n",
    "    \n",
    "    left_equation = np.linalg.inv(x_bias.T.dot(x_bias))\n",
    "    right_equation = (x_bias.T).dot(y)\n",
    "    \n",
    "    theta = left_equation.dot(right_equation)\n",
    "    return theta"
   ]
  },
  {
   "cell_type": "code",
   "execution_count": 4,
   "metadata": {},
   "outputs": [
    {
     "name": "stdout",
     "output_type": "stream",
     "text": [
      "Normal Equation\n",
      "y = -3.8957808783119106 + 1.1930336441895983*x\n"
     ]
    }
   ],
   "source": [
    "a, b = normal_equation(x,y)\n",
    "\n",
    "print(\"Normal Equation\")\n",
    "print(\"y = \" + str(a) + \" + \" + str(b) + \"*x\")\n",
    "\n",
    "y = a+b*x "
   ]
  },
  {
   "cell_type": "code",
   "execution_count": 5,
   "metadata": {},
   "outputs": [
    {
     "data": {
      "image/png": "[encoded data removed]",
      "text/plain": [
       "<Figure size 432x288 with 1 Axes>"
      ]
     },
     "metadata": {
      "needs_background": "light"
     },
     "output_type": "display_data"
    }
   ],
   "source": [
    "x_original = np.array(data[0])\n",
    "y_original = np.array(data[1])\n",
    "\n",
    "\n",
    "plt.scatter(x_original, y_original, color=\"red\")\n",
    "plt.plot(x,y,color='blue') \n",
    "plt.xlim(4.5)\n",
    "plt.title(\"Dataset\")\n",
    "plt.xlabel(\"1st Column\")\n",
    "plt.ylabel(\"2nd Column\")\n",
    "plt.show()"
   ]
  },
  {
   "cell_type": "markdown",
   "metadata": {},
   "source": [
    "---"
   ]
  },
  {
   "cell_type": "markdown",
   "metadata": {},
   "source": [
    "###  Now we need to find Gradient Descent Using Batch and Stochastic Modes "
   ]
  },
  {
   "cell_type": "code",
   "execution_count": 6,
   "metadata": {},
   "outputs": [],
   "source": [
    "def cost_function(x, y, theta):\n",
    "    #calculates the MSE cost function \n",
    "    num_samples = len(x) \n",
    "    cost_sum = 0.0\n",
    "    for a,b in zip(x, y):\n",
    "        #x is the instance's feature vector \n",
    "        feature_vector = np.array([1.0,a])\n",
    "        cost_sum += (np.dot(theta, feature_vector) - b) ** 2 # (θ^T*x -y)^2\n",
    "    cost = cost_sum / (num_samples * 2.0) # (1/m)Σ(θ^T*x -y)^2\n",
    "    \n",
    "    return cost"
   ]
  },
  {
   "cell_type": "code",
   "execution_count": 14,
   "metadata": {},
   "outputs": [],
   "source": [
    "def batch_gradient_descent(x, y, theta, alpha, max_iter):\n",
    "    # calculates the batch gradient descent \n",
    "    iteration,m = 0,len(x)\n",
    "    cost = np.zeros(max_iter)\n",
    "    params_store = np.zeros([2, max_iter])\n",
    "    while iteration < max_iter:\n",
    "        cost[iteration] = cost_function(x, y, theta)\n",
    "        params_store[:, iteration] = theta\n",
    "        \n",
    "        print(\"iteration: \" + str(iteration) + \" cost: \" + str(cost[iteration]))\n",
    "        \n",
    "        for a,b in zip(x, y):\n",
    "            feature_vector = np.array([1.0, a]) \n",
    "            y_hat = np.dot(theta, np.array([1.0, a])) \n",
    "            gradient = feature_vector * (b - y_hat)\n",
    "            theta += alpha * gradient/m\n",
    "            \n",
    "        iteration += 1\n",
    "    \n",
    "    return theta, cost, params_store\n",
    "\n"
   ]
  },
  {
   "cell_type": "code",
   "execution_count": 15,
   "metadata": {},
   "outputs": [],
   "source": [
    "'''\n",
    "We need to split our data into training and testing \n",
    "\n",
    "We can use the function train_test_split() to split our data and specify the test size to extract \n",
    "'''\n",
    "x_train, x_test, y_train, y_test = train_test_split(x,y, test_size = 0.20)\n"
   ]
  },
  {
   "cell_type": "code",
   "execution_count": 16,
   "metadata": {},
   "outputs": [
    {
     "name": "stdout",
     "output_type": "stream",
     "text": [
      "iteration: 0 cost: 232338.7908490585\n",
      "iteration: 1 cost: 201596.95366072873\n",
      "iteration: 2 cost: 174923.01422601633\n",
      "iteration: 3 cost: 151778.689402636\n",
      "iteration: 4 cost: 131696.92421624117\n",
      "iteration: 5 cost: 114272.46661004786\n",
      "iteration: 6 cost: 99153.68938866368\n",
      "iteration: 7 cost: 86035.49432140288\n",
      "iteration: 8 cost: 74653.15520856183\n",
      "iteration: 9 cost: 64776.97566257574\n",
      "iteration: 10 cost: 56207.65379708187\n",
      "iteration: 11 cost: 48772.26028245045\n",
      "iteration: 12 cost: 42320.74860419444\n",
      "iteration: 13 cost: 36722.92710062673\n",
      "iteration: 14 cost: 31865.831674924066\n",
      "iteration: 15 cost: 27651.44616244509\n",
      "iteration: 16 cost: 23994.72434989468\n",
      "iteration: 17 cost: 20821.873730321204\n",
      "iteration: 18 cost: 18068.866359810196\n",
      "iteration: 19 cost: 15680.146764692927\n",
      "iteration: 20 cost: 13607.510824604755\n",
      "iteration: 21 cost: 11809.133007052544\n",
      "iteration: 22 cost: 10248.722322911879\n",
      "iteration: 23 cost: 8894.789969886555\n",
      "iteration: 24 cost: 7720.013884846993\n",
      "iteration: 25 cost: 6700.687381602969\n",
      "iteration: 26 cost: 5816.240747525801\n",
      "iteration: 27 cost: 5048.826144757862\n",
      "iteration: 28 cost: 4382.957439245442\n",
      "iteration: 29 cost: 3805.1976892844955\n",
      "iteration: 30 cost: 3303.887987046318\n",
      "iteration: 31 cost: 2868.9121810606994\n",
      "iteration: 32 cost: 2491.4927317182273\n",
      "iteration: 33 cost: 2164.0135801233873\n",
      "iteration: 34 cost: 1879.866455764111\n",
      "iteration: 35 cost: 1633.3175214628704\n",
      "iteration: 36 cost: 1419.3916644843673\n",
      "iteration: 37 cost: 1233.7720987772207\n",
      "iteration: 38 cost: 1072.7132523083994\n",
      "iteration: 39 cost: 932.9651815445694\n",
      "iteration: 40 cost: 811.7079877542118\n",
      "iteration: 41 cost: 706.494911642802\n",
      "iteration: 42 cost: 615.2029579634818\n",
      "iteration: 43 cost: 535.9900537017861\n",
      "iteration: 44 cost: 467.25787528151915\n",
      "iteration: 45 cost: 407.61959464060305\n",
      "iteration: 46 cost: 355.8718932892764\n",
      "iteration: 47 cost: 310.97067959152236\n",
      "iteration: 48 cost: 272.0100192421981\n",
      "iteration: 49 cost: 238.20385375507868\n",
      "iteration: 50 cost: 208.87013803947866\n",
      "iteration: 51 cost: 183.41707696063636\n",
      "iteration: 52 cost: 161.33118313682039\n",
      "iteration: 53 cost: 142.16691497889326\n",
      "iteration: 54 cost: 125.5376858675572\n",
      "iteration: 55 cost: 111.10806303321282\n",
      "iteration: 56 cost: 98.5869987116975\n",
      "iteration: 57 cost: 87.72195698059971\n",
      "iteration: 58 cost: 78.29381775576164\n",
      "iteration: 59 cost: 70.11245511074986\n",
      "iteration: 60 cost: 63.01290068996022\n",
      "iteration: 61 cost: 56.85201479325668\n",
      "iteration: 62 cost: 51.50559795488997\n",
      "iteration: 63 cost: 46.86588472863471\n",
      "iteration: 64 cost: 42.839369104025415\n",
      "iteration: 65 cost: 39.34491767089857\n",
      "iteration: 66 cost: 36.312132456211046\n",
      "iteration: 67 cost: 33.679930395497436\n",
      "iteration: 68 cost: 31.395310773011794\n",
      "iteration: 69 cost: 29.412285757804842\n",
      "iteration: 70 cost: 27.69095245425723\n",
      "iteration: 71 cost: 26.196687741343517\n",
      "iteration: 72 cost: 24.89944965276995\n",
      "iteration: 73 cost: 23.773171200113076\n",
      "iteration: 74 cost: 22.79523440657667\n",
      "iteration: 75 cost: 21.946013937623725\n",
      "iteration: 76 cost: 21.2084811191938\n",
      "iteration: 77 cost: 20.567860352826397\n",
      "iteration: 78 cost: 20.01133099437009\n",
      "iteration: 79 cost: 19.52776868040051\n",
      "iteration: 80 cost: 19.10752088251466\n",
      "iteration: 81 cost: 18.74221216037694\n",
      "iteration: 82 cost: 18.42457518370292\n",
      "iteration: 83 cost: 18.148304113373666\n",
      "iteration: 84 cost: 17.907927383072174\n",
      "iteration: 85 cost: 17.698697314325493\n",
      "iteration: 86 cost: 17.516494337526506\n",
      "iteration: 87 cost: 17.357743886249143\n",
      "iteration: 88 cost: 17.21934428790995\n",
      "iteration: 89 cost: 17.098604195727585\n",
      "iteration: 90 cost: 16.993188299468265\n",
      "iteration: 91 cost: 16.90107021952356\n",
      "iteration: 92 cost: 16.820491633821163\n",
      "iteration: 93 cost: 16.749926812840474\n",
      "iteration: 94 cost: 16.688051847135803\n",
      "iteration: 95 cost: 16.633717946458653\n",
      "iteration: 96 cost: 16.585928271730054\n",
      "iteration: 97 cost: 16.54381783240328\n",
      "iteration: 98 cost: 16.506636043610445\n",
      "iteration: 99 cost: 16.473731591158597\n"
     ]
    }
   ],
   "source": [
    "'''\n",
    "Batch Gradient Descent\n",
    "'''\n",
    "theta = np.array([20.0, 80.0])\n",
    "alpha_batch = 1e-3\n",
    "max_iterations = 100\n",
    "\n",
    "params_hat_batch, cost_batch, params_store_batch =batch_gradient_descent(x_train, y_train, theta, alpha_batch, max_iterations)\n"
   ]
  },
  {
   "cell_type": "code",
   "execution_count": 17,
   "metadata": {},
   "outputs": [],
   "source": [
    "def lin_reg_stoch_gradient_descent(input_var, output_var, params, alpha):\n",
    "    \"\"\"Compute the params for linear regression using stochastic gradient descent\"\"\"\n",
    "    num_samples = len(input_var)\n",
    "    cost = np.zeros(num_samples)\n",
    "    params_store = np.zeros([2, num_samples])\n",
    "    \n",
    "    iteration = 0\n",
    "    for x,y in zip(input_var, output_var):\n",
    "        cost[iteration] = cost_function(input_var, output_var, params)\n",
    "        params_store[:, iteration] = params\n",
    "        \n",
    "        print(\"iteration: \" + str(iteration) + \" cost: \" + str(cost[iteration]))\n",
    "        \n",
    "        y_hat = np.dot(params, np.array([1.0, x]))\n",
    "        gradient = np.array([1.0, x]) * (y - y_hat)\n",
    "        params += alpha * gradient/num_samples\n",
    "        \n",
    "        iteration += 1\n",
    "            \n",
    "    return params, cost, params_store"
   ]
  },
  {
   "cell_type": "code",
   "execution_count": 18,
   "metadata": {},
   "outputs": [
    {
     "name": "stdout",
     "output_type": "stream",
     "text": [
      "iteration: 0 cost: 232338.7908490585\n",
      "iteration: 1 cost: 232144.37375149064\n",
      "iteration: 2 cost: 230009.5855047428\n",
      "iteration: 3 cost: 229027.4322306777\n",
      "iteration: 4 cost: 228310.753785292\n",
      "iteration: 5 cost: 228116.93173056497\n",
      "iteration: 6 cost: 227864.54799874092\n",
      "iteration: 7 cost: 227603.37700887112\n",
      "iteration: 8 cost: 227432.96029802557\n",
      "iteration: 9 cost: 227084.51168537835\n",
      "iteration: 10 cost: 226889.50448970473\n",
      "iteration: 11 cost: 226643.30657941828\n",
      "iteration: 12 cost: 226458.50771358903\n",
      "iteration: 13 cost: 226259.48676492323\n",
      "iteration: 14 cost: 226074.39682908385\n",
      "iteration: 15 cost: 225655.4435009944\n",
      "iteration: 16 cost: 225429.2291019171\n",
      "iteration: 17 cost: 224930.37008126854\n",
      "iteration: 18 cost: 222329.1047365948\n",
      "iteration: 19 cost: 222175.51156657503\n",
      "iteration: 20 cost: 222017.82866229277\n",
      "iteration: 21 cost: 221842.0224027311\n",
      "iteration: 22 cost: 221507.57289741392\n",
      "iteration: 23 cost: 221183.57245138826\n",
      "iteration: 24 cost: 221031.32471303392\n",
      "iteration: 25 cost: 220791.9300505774\n",
      "iteration: 26 cost: 220597.6620089867\n",
      "iteration: 27 cost: 220080.670240137\n",
      "iteration: 28 cost: 219659.83637123878\n",
      "iteration: 29 cost: 219422.15307756272\n",
      "iteration: 30 cost: 219118.25784848345\n",
      "iteration: 31 cost: 218133.40831053178\n",
      "iteration: 32 cost: 217643.68506567128\n",
      "iteration: 33 cost: 217487.89096543816\n",
      "iteration: 34 cost: 217072.14543764887\n",
      "iteration: 35 cost: 216892.75657314813\n",
      "iteration: 36 cost: 216571.11484139305\n",
      "iteration: 37 cost: 216412.679860974\n",
      "iteration: 38 cost: 216161.5308074253\n",
      "iteration: 39 cost: 215960.89544853647\n",
      "iteration: 40 cost: 215586.94842233692\n",
      "iteration: 41 cost: 215300.08178493564\n",
      "iteration: 42 cost: 215115.07270515538\n",
      "iteration: 43 cost: 214958.22667711772\n",
      "iteration: 44 cost: 214727.70347318376\n",
      "iteration: 45 cost: 214456.56203924923\n",
      "iteration: 46 cost: 214158.91243669053\n",
      "iteration: 47 cost: 213938.76858305387\n",
      "iteration: 48 cost: 213550.50095751026\n",
      "iteration: 49 cost: 213321.0121356368\n",
      "iteration: 50 cost: 213150.24249363114\n",
      "iteration: 51 cost: 212919.7381409095\n",
      "iteration: 52 cost: 212713.19377486085\n",
      "iteration: 53 cost: 212471.63197913935\n",
      "iteration: 54 cost: 212036.29333460468\n",
      "iteration: 55 cost: 211554.00435315009\n",
      "iteration: 56 cost: 210970.52969820096\n",
      "iteration: 57 cost: 210779.12694984803\n",
      "iteration: 58 cost: 210503.82444452803\n",
      "iteration: 59 cost: 210307.05758357758\n",
      "iteration: 60 cost: 209558.6747443939\n",
      "iteration: 61 cost: 208665.195239673\n",
      "iteration: 62 cost: 208505.6832539118\n",
      "iteration: 63 cost: 208285.5875519497\n",
      "iteration: 64 cost: 208092.91845512518\n",
      "iteration: 65 cost: 207704.97353674998\n",
      "iteration: 66 cost: 207408.19407009787\n",
      "iteration: 67 cost: 207095.59528043473\n",
      "iteration: 68 cost: 206951.46266601098\n",
      "iteration: 69 cost: 206616.1065091785\n",
      "iteration: 70 cost: 206061.1583474648\n",
      "iteration: 71 cost: 205496.96145232915\n",
      "iteration: 72 cost: 205098.62784700695\n",
      "iteration: 73 cost: 204928.2544179942\n",
      "iteration: 74 cost: 204785.35826037158\n",
      "iteration: 75 cost: 202900.71360950696\n",
      "iteration: 76 cost: 202758.636536501\n"
     ]
    }
   ],
   "source": [
    "'''\n",
    "Stochastic Gradient Descent\n",
    "'''\n",
    "\n",
    "alpha_stoch = 1e-3\n",
    "params_0 = np.array([20.0, 80.0])\n",
    "params_hat, cost, params_store = lin_reg_stoch_gradient_descent(x_train, y_train, params_0, alpha_stoch)\n",
    "\n",
    "\n"
   ]
  },
  {
   "cell_type": "code",
   "execution_count": 19,
   "metadata": {},
   "outputs": [
    {
     "data": {
      "image/png": "[encoded data removed]",
      "text/plain": [
       "<Figure size 432x288 with 1 Axes>"
      ]
     },
     "metadata": {
      "needs_background": "light"
     },
     "output_type": "display_data"
    },
    {
     "name": "stdout",
     "output_type": "stream",
     "text": [
      "batch      T0, T1: 10.903800915675173, -0.3740353593287138\n",
      "stochastic T0, T1: 19.389142950198362, 74.48766441264225\n",
      "batch rms:      8.339685756429112\n",
      "stochastic rms: 840.4585253458864\n"
     ]
    }
   ],
   "source": [
    "plt.scatter(x_test, y_test)\n",
    "plt.plot(x_test, params_hat_batch[0] + params_hat_batch[1]*x_test, 'g', label='batch')\n",
    "plt.plot(x_test, params_hat[0] + params_hat[1]*x_test, '-r', label='stochastic')\n",
    "plt.xlabel('x')\n",
    "plt.ylabel('y')\n",
    "plt.legend()\n",
    "plt.show()\n",
    "print(f'batch      T0, T1: {params_hat_batch[0]}, {params_hat_batch[1]}')\n",
    "print(f'stochastic T0, T1: {params_hat[0]}, {params_hat[1]}')\n",
    "rms_batch = np.sqrt(np.mean(np.square(params_hat_batch[0] + params_hat_batch[1]*x_test - y_test)))\n",
    "rms_stochastic = np.sqrt(np.mean(np.square(params_hat[0] + params_hat[1]*x_test - y_test)))\n",
    "print(f'batch rms:      {rms_batch}')\n",
    "print(f'stochastic rms: {rms_stochastic}')"
   ]
  },
  {
   "cell_type": "markdown",
   "metadata": {},
   "source": [
    "Batch Gradient Descent is a lot better "
   ]
  },
  {
   "cell_type": "code",
   "execution_count": 13,
   "metadata": {},
   "outputs": [
    {
     "data": {
      "image/png": "[encoded data removed]",
      "text/plain": [
       "<Figure size 432x288 with 1 Axes>"
      ]
     },
     "metadata": {
      "needs_background": "light"
     },
     "output_type": "display_data"
    },
    {
     "name": "stdout",
     "output_type": "stream",
     "text": [
      "min cost with BGD: 22.403004058513435\n",
      "min cost with SGD: 230462.76689800035\n"
     ]
    }
   ],
   "source": [
    "plt.plot(np.arange(max_iterations), cost_batch, 'r', label='batch')\n",
    "plt.plot(np.arange(len(cost)), cost, 'g', label='stochastic')\n",
    "plt.xlabel('iteration')\n",
    "plt.ylabel('normalized cost')\n",
    "plt.legend()\n",
    "plt.show()\n",
    "print(f'min cost with BGD: {np.min(cost_batch)}')\n",
    "print(f'min cost with SGD: {np.min(cost)}')"
   ]
  },
  {
   "cell_type": "code",
   "execution_count": null,
   "metadata": {},
   "outputs": [],
   "source": []
  }
 ],
 "metadata": {
  "kernelspec": {
   "display_name": "Python 3",
   "language": "python",
   "name": "python3"
  },
  "language_info": {
   "codemirror_mode": {
    "name": "ipython",
    "version": 3
   },
   "file_extension": ".py",
   "mimetype": "text/x-python",
   "name": "python",
   "nbconvert_exporter": "python",
   "pygments_lexer": "ipython3",
   "version": "3.7.1"
  }
 },
 "nbformat": 4,
 "nbformat_minor": 2
}
