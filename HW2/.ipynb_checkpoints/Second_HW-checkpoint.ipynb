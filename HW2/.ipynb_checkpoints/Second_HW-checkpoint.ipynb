{
 "cells": [
  {
   "cell_type": "markdown",
   "metadata": {},
   "source": [
    "Chloe Quinto    \n",
    "CPE 695/WS  \n",
    "HW2   \n",
    "February 12, 2020   \n",
    "I pledge my honor that I have abided by the Stevens Honor System - Chloe Quinto \n"
   ]
  },
  {
   "cell_type": "code",
   "execution_count": 1,
   "metadata": {},
   "outputs": [],
   "source": [
    "import pandas as pd\n",
    "import numpy as np\n",
    "import matplotlib.pyplot as plt\n",
    "from sklearn.model_selection import train_test_split "
   ]
  },
  {
   "cell_type": "code",
   "execution_count": 2,
   "metadata": {},
   "outputs": [
    {
     "data": {
      "image/png": "[encoded data removed]",
      "text/plain": [
       "<Figure size 432x288 with 1 Axes>"
      ]
     },
     "metadata": {
      "needs_background": "light"
     },
     "output_type": "display_data"
    }
   ],
   "source": [
    "\"\"\"\n",
    "In this problem, we write a program to find the coefficients for a linear regression model for the dataset\n",
    "provided by (data2.txt). Assume a linear model: y = w0 + w1* x\n",
    "\"\"\"\n",
    "\n",
    "\n",
    "data = pd.read_csv(\"data2.txt\", header = None)\n",
    "\n",
    "x = np.array(data[0])\n",
    "y = np.array(data[1])\n",
    "\n",
    "plt.scatter(x,y,color='red')\n",
    "plt.title(\"Dataset\")\n",
    "plt.xlabel(\"x\")\n",
    "plt.ylabel(\"y\")\n",
    "plt.show()"
   ]
  },
  {
   "cell_type": "code",
   "execution_count": 3,
   "metadata": {},
   "outputs": [],
   "source": [
    "# Computes the cost of the linear regresesion \n",
    "def cost_function(input_var, output_var, params):\n",
    "    num_samples = len(input_var)\n",
    "    cost_sum = 0.0\n",
    "    for a,b in zip(input_var, output_var):\n",
    "        y_ = np.dot(params, np.array([1.0, a]))\n",
    "        cost_sum += (y_ - b) ** 2\n",
    "    \n",
    "    cost = cost_sum / (num_samples * 2.0)\n",
    "    \n",
    "    return cost"
   ]
  },
  {
   "cell_type": "code",
   "execution_count": 4,
   "metadata": {},
   "outputs": [],
   "source": [
    "def lin_reg_batch_gradient_descent(input_var, output_var, params, alpha, max_iter):\n",
    "    iteration = 0\n",
    "    num_samples = len(input_var)\n",
    "    cost = np.zeros(max_iter)\n",
    "    params_store = np.zeros([2, max_iter])\n",
    "    \n",
    "    while iteration < max_iter:\n",
    "        cost[iteration] = cost_function(input_var, output_var, params)\n",
    "        params_store[:, iteration] = params\n",
    "        \n",
    "        print(\"iteration: \" + str(iteration) + \" cost: \" + str(cost[iteration]))\n",
    "        \n",
    "        for x,y in zip(input_var, output_var):\n",
    "            y_hat = np.dot(params, np.array([1.0, x]))\n",
    "            gradient = np.array([1.0, x]) * (y - y_hat)\n",
    "            params += alpha * gradient/num_samples\n",
    "            \n",
    "        iteration += 1\n",
    "    \n",
    "    return params, cost, params_store\n",
    "    "
   ]
  },
  {
   "cell_type": "code",
   "execution_count": 5,
   "metadata": {},
   "outputs": [],
   "source": [
    "\n",
    "\n",
    "# we want 20% of our data to be a test \n",
    "x_train, x_test, y_train, y_test = train_test_split(x,y, test_size = 0.20)\n"
   ]
  },
  {
   "cell_type": "code",
   "execution_count": 12,
   "metadata": {},
   "outputs": [
    {
     "name": "stdout",
     "output_type": "stream",
     "text": [
      "iteration: 0 cost: 256762.14854642574\n",
      "iteration: 1 cost: 219358.5712871992\n",
      "iteration: 2 cost: 187404.25064695\n",
      "iteration: 3 cost: 160105.29763294413\n",
      "iteration: 4 cost: 136783.48278223342\n",
      "iteration: 5 cost: 116859.38605682808\n",
      "iteration: 6 cost: 99838.00158091975\n",
      "iteration: 7 cost: 85296.43958156166\n",
      "iteration: 8 cost: 72873.41999750122\n",
      "iteration: 9 cost: 62260.29673338123\n",
      "iteration: 10 cost: 53193.38956414742\n",
      "iteration: 11 cost: 45447.43318199454\n",
      "iteration: 12 cost: 38829.98063267369\n",
      "iteration: 13 cost: 33176.62209900494\n",
      "iteration: 14 cost: 28346.90024607362\n",
      "iteration: 15 cost: 24220.820648095672\n",
      "iteration: 16 cost: 20695.870601256713\n",
      "iteration: 17 cost: 17684.472257266178\n",
      "iteration: 18 cost: 15111.806802714555\n",
      "iteration: 19 cost: 12913.95562765456\n",
      "iteration: 20 cost: 11036.312302169468\n",
      "iteration: 21 cost: 9432.225907698765\n",
      "iteration: 22 cost: 8061.842017715402\n",
      "iteration: 23 cost: 6891.112532789728\n",
      "iteration: 24 cost: 5890.949770128265\n",
      "iteration: 25 cost: 5036.503791564402\n",
      "iteration: 26 cost: 4306.54501574055\n",
      "iteration: 27 cost: 3682.936775924825\n",
      "iteration: 28 cost: 3150.18471953477\n",
      "iteration: 29 cost: 2695.0518545139294\n",
      "iteration: 30 cost: 2306.2296786522993\n",
      "iteration: 31 cost: 1974.057221280553\n",
      "iteration: 32 cost: 1690.2810171142444\n",
      "iteration: 33 cost: 1447.8500489531962\n",
      "iteration: 34 cost: 1240.7405647166263\n",
      "iteration: 35 cost: 1063.806416500601\n",
      "iteration: 36 cost: 912.6512034206623\n",
      "iteration: 37 cost: 783.519041702015\n",
      "iteration: 38 cost: 673.2012482605373\n",
      "iteration: 39 cost: 578.9566193776166\n",
      "iteration: 40 cost: 498.4433238326735\n",
      "iteration: 41 cost: 429.6607184107298\n",
      "iteration: 42 cost: 370.8996402173435\n",
      "iteration: 43 cost: 320.69994083410876\n",
      "iteration: 44 cost: 277.8142072669908\n",
      "iteration: 45 cost: 241.1767683469058\n",
      "iteration: 46 cost: 209.87721655595033\n",
      "iteration: 47 cost: 183.13778743591487\n",
      "iteration: 48 cost: 160.29403457526763\n",
      "iteration: 49 cost: 140.77832004775638\n",
      "iteration: 50 cost: 124.10571012431002\n",
      "iteration: 51 cost: 109.86192583782784\n",
      "iteration: 52 cost: 97.6930490324017\n",
      "iteration: 53 cost: 87.29672814282891\n",
      "iteration: 54 cost: 78.41466521054932\n",
      "iteration: 55 cost: 70.82619747404694\n",
      "iteration: 56 cost: 64.34281406616627\n",
      "iteration: 57 cost: 58.80347158331007\n",
      "iteration: 58 cost: 54.070592139315075\n",
      "iteration: 59 cost: 50.02664447305477\n",
      "iteration: 60 cost: 46.57122316474619\n",
      "iteration: 61 cost: 43.618553391451535\n",
      "iteration: 62 cost: 41.09535922481356\n",
      "iteration: 63 cost: 38.93904250632475\n",
      "iteration: 64 cost: 37.09612705179505\n",
      "iteration: 65 cost: 35.52092952887124\n",
      "iteration: 66 cost: 34.17442398324407\n",
      "iteration: 67 cost: 33.02327180047745\n",
      "iteration: 68 cost: 32.03899300074519\n",
      "iteration: 69 cost: 31.19725827527968\n",
      "iteration: 70 cost: 30.477284173268504\n",
      "iteration: 71 cost: 29.861316410812726\n",
      "iteration: 72 cost: 29.334188463052172\n",
      "iteration: 73 cost: 28.882944471074875\n",
      "iteration: 74 cost: 28.49651709322246\n",
      "iteration: 75 cost: 28.165452295590537\n",
      "iteration: 76 cost: 27.881674242815002\n",
      "iteration: 77 cost: 27.638284446612097\n",
      "iteration: 78 cost: 27.429390180754208\n",
      "iteration: 79 cost: 27.249957898364325\n",
      "iteration: 80 cost: 27.095688008667278\n",
      "iteration: 81 cost: 26.962907901079838\n",
      "iteration: 82 cost: 26.848480557941013\n",
      "iteration: 83 cost: 26.74972648454501\n",
      "iteration: 84 cost: 26.664357016063498\n",
      "iteration: 85 cost: 26.59041734365732\n",
      "iteration: 86 cost: 26.526237843599684\n",
      "iteration: 87 cost: 26.47039249956916\n",
      "iteration: 88 cost: 26.42166338454357\n",
      "iteration: 89 cost: 26.379010319317988\n",
      "iteration: 90 cost: 26.341544953320472\n",
      "iteration: 91 cost: 26.30850862330811\n",
      "iteration: 92 cost: 26.279253439419126\n",
      "iteration: 93 cost: 26.253226128271535\n",
      "iteration: 94 cost: 26.22995423132706\n",
      "iteration: 95 cost: 26.20903431528101\n",
      "iteration: 96 cost: 26.19012190125349\n",
      "iteration: 97 cost: 26.172922862283027\n",
      "iteration: 98 cost: 26.157186075125612\n",
      "iteration: 99 cost: 26.14269714354468\n"
     ]
    }
   ],
   "source": [
    "'''\n",
    "Batch Gradient Descent\n",
    "'''\n",
    "params_theta = np.array([20.0, 80.0])\n",
    "alpha_batch = 1e-3\n",
    "max_iterations = 100\n",
    "\n",
    "params_hat_batch, cost_batch, params_store_batch =lin_reg_batch_gradient_descent(x_train, y_train, params_theta, alpha_batch, max_iterations)\n"
   ]
  },
  {
   "cell_type": "code",
   "execution_count": 13,
   "metadata": {},
   "outputs": [],
   "source": [
    "def lin_reg_stoch_gradient_descent(input_var, output_var, params, alpha):\n",
    "    \"\"\"Compute the params for linear regression using stochastic gradient descent\"\"\"\n",
    "    num_samples = len(input_var)\n",
    "    cost = np.zeros(num_samples)\n",
    "    params_store = np.zeros([2, num_samples])\n",
    "    \n",
    "    iteration = 0\n",
    "    for x,y in zip(input_var, output_var):\n",
    "        cost[iteration] = cost_function(input_var, output_var, params)\n",
    "        params_store[:, iteration] = params\n",
    "        \n",
    "        print(\"iteration: \" + str(iteration) + \" cost: \" + str(cost[iteration]))\n",
    "        \n",
    "        y_hat = np.dot(params, np.array([1.0, x]))\n",
    "        gradient = np.array([1.0, x]) * (y - y_hat)\n",
    "        params += alpha * gradient/num_samples\n",
    "        \n",
    "        iteration += 1\n",
    "            \n",
    "    return params, cost, params_store"
   ]
  },
  {
   "cell_type": "code",
   "execution_count": 16,
   "metadata": {},
   "outputs": [
    {
     "name": "stdout",
     "output_type": "stream",
     "text": [
      "iteration: 0 cost: 256762.14854642574\n",
      "iteration: 1 cost: 256269.07025305575\n",
      "iteration: 2 cost: 256005.18146548656\n",
      "iteration: 3 cost: 255664.5705818878\n",
      "iteration: 4 cost: 255220.06015694223\n",
      "iteration: 5 cost: 255032.53972466078\n",
      "iteration: 6 cost: 254121.0465289041\n",
      "iteration: 7 cost: 253903.38385120255\n",
      "iteration: 8 cost: 253708.9165106025\n",
      "iteration: 9 cost: 253381.39387463214\n",
      "iteration: 10 cost: 252999.8299177704\n",
      "iteration: 11 cost: 252806.27747380632\n",
      "iteration: 12 cost: 252418.21646097032\n",
      "iteration: 13 cost: 252126.01192609486\n",
      "iteration: 14 cost: 251221.1792798498\n",
      "iteration: 15 cost: 250758.80298063092\n",
      "iteration: 16 cost: 250549.58415424472\n",
      "iteration: 17 cost: 250319.41107307814\n",
      "iteration: 18 cost: 248018.78349522667\n",
      "iteration: 19 cost: 247567.55098559268\n",
      "iteration: 20 cost: 246882.06400600873\n",
      "iteration: 21 cost: 246620.58251726005\n",
      "iteration: 22 cost: 246056.13720809398\n",
      "iteration: 23 cost: 245589.92770468444\n",
      "iteration: 24 cost: 244927.75266043164\n",
      "iteration: 25 cost: 243658.75395556056\n",
      "iteration: 26 cost: 243118.38006786423\n",
      "iteration: 27 cost: 242918.45979066085\n",
      "iteration: 28 cost: 242646.09274595254\n",
      "iteration: 29 cost: 242178.8465364915\n",
      "iteration: 30 cost: 239631.37831342724\n",
      "iteration: 31 cost: 239467.05667024464\n",
      "iteration: 32 cost: 239251.26397700125\n",
      "iteration: 33 cost: 236715.97012078582\n",
      "iteration: 34 cost: 236551.0243870229\n",
      "iteration: 35 cost: 236350.11406930367\n",
      "iteration: 36 cost: 235793.6939975398\n",
      "iteration: 37 cost: 235585.60903733646\n",
      "iteration: 38 cost: 234995.64733508404\n",
      "iteration: 39 cost: 234792.4540696699\n",
      "iteration: 40 cost: 234539.06289562336\n",
      "iteration: 41 cost: 234310.2448165278\n",
      "iteration: 42 cost: 233873.36872927588\n",
      "iteration: 43 cost: 233685.01747893533\n",
      "iteration: 44 cost: 233337.4634342306\n",
      "iteration: 45 cost: 233012.25792995817\n",
      "iteration: 46 cost: 231965.88498054165\n",
      "iteration: 47 cost: 231708.68949524395\n",
      "iteration: 48 cost: 231524.02762580998\n",
      "iteration: 49 cost: 230796.38268803456\n",
      "iteration: 50 cost: 230626.40815572185\n",
      "iteration: 51 cost: 227723.13901009475\n",
      "iteration: 52 cost: 227464.82507705461\n",
      "iteration: 53 cost: 227301.03516017122\n",
      "iteration: 54 cost: 227038.1256498793\n",
      "iteration: 55 cost: 226828.90223941783\n",
      "iteration: 56 cost: 225861.93116145435\n",
      "iteration: 57 cost: 225678.06811764327\n",
      "iteration: 58 cost: 225472.43278662337\n",
      "iteration: 59 cost: 225070.77134974994\n",
      "iteration: 60 cost: 224827.35604821052\n",
      "iteration: 61 cost: 223534.33078850777\n",
      "iteration: 62 cost: 223294.91343103402\n",
      "iteration: 63 cost: 222985.14819440065\n",
      "iteration: 64 cost: 222829.96207825825\n",
      "iteration: 65 cost: 222612.84558536523\n",
      "iteration: 66 cost: 222267.61852821146\n",
      "iteration: 67 cost: 222082.95245263103\n",
      "iteration: 68 cost: 221839.4108117484\n",
      "iteration: 69 cost: 221343.9841949618\n",
      "iteration: 70 cost: 221189.42678381267\n",
      "iteration: 71 cost: 220981.7042184906\n",
      "iteration: 72 cost: 220647.3244540688\n",
      "iteration: 73 cost: 220323.55573567632\n",
      "iteration: 74 cost: 220007.69287992606\n",
      "iteration: 75 cost: 219729.1293357168\n",
      "iteration: 76 cost: 219572.77787168726\n"
     ]
    }
   ],
   "source": [
    "'''\n",
    "Stochastic Gradient Descent\n",
    "'''\n",
    "\n",
    "alpha = 1e-3\n",
    "params_0 = np.array([20.0, 80.0])\n",
    "params_hat, cost, params_store = lin_reg_stoch_gradient_descent(x_train, y_train, params_0, alpha)"
   ]
  },
  {
   "cell_type": "code",
   "execution_count": 17,
   "metadata": {},
   "outputs": [
    {
     "data": {
      "image/png": "[encoded data removed]",
      "text/plain": [
       "<Figure size 432x288 with 1 Axes>"
      ]
     },
     "metadata": {
      "needs_background": "light"
     },
     "output_type": "display_data"
    },
    {
     "name": "stdout",
     "output_type": "stream",
     "text": [
      "batch      T0, T1: 11.430569921860965, -0.3218683600851329\n",
      "stochastic T0, T1: 19.36880409265412, 73.91471327408209\n",
      "batch rms:      7.059789493673648\n",
      "stochastic rms: 731.7390775523503\n"
     ]
    }
   ],
   "source": [
    "plt.scatter(x_test, y_test)\n",
    "plt.plot(x_test, params_hat_batch[0] + params_hat_batch[1]*x_test, 'g', label='batch')\n",
    "plt.plot(x_test, params_hat[0] + params_hat[1]*x_test, '-r', label='stochastic')\n",
    "plt.xlabel('x')\n",
    "plt.ylabel('y')\n",
    "plt.legend()\n",
    "plt.show()\n",
    "print(f'batch      T0, T1: {params_hat_batch[0]}, {params_hat_batch[1]}')\n",
    "print(f'stochastic T0, T1: {params_hat[0]}, {params_hat[1]}')\n",
    "rms_batch = np.sqrt(np.mean(np.square(params_hat_batch[0] + params_hat_batch[1]*x_test - y_test)))\n",
    "rms_stochastic = np.sqrt(np.mean(np.square(params_hat[0] + params_hat[1]*x_test - y_test)))\n",
    "print(f'batch rms:      {rms_batch}')\n",
    "print(f'stochastic rms: {rms_stochastic}')"
   ]
  },
  {
   "cell_type": "markdown",
   "metadata": {},
   "source": [
    "Batch Gradient Descent is a lot better "
   ]
  },
  {
   "cell_type": "code",
   "execution_count": 18,
   "metadata": {},
   "outputs": [
    {
     "data": {
      "image/png": "[encoded data removed]",
      "text/plain": [
       "<Figure size 432x288 with 1 Axes>"
      ]
     },
     "metadata": {
      "needs_background": "light"
     },
     "output_type": "display_data"
    },
    {
     "name": "stdout",
     "output_type": "stream",
     "text": [
      "min cost with BGD: 26.14269714354468\n",
      "min cost with SGD: 219572.77787168726\n"
     ]
    }
   ],
   "source": [
    "plt.plot(np.arange(max_iterations), cost_batch, 'r', label='batch')\n",
    "plt.plot(np.arange(len(cost)), cost, 'g', label='stochastic')\n",
    "plt.xlabel('iteration')\n",
    "plt.ylabel('normalized cost')\n",
    "plt.legend()\n",
    "plt.show()\n",
    "print(f'min cost with BGD: {np.min(cost_batch)}')\n",
    "print(f'min cost with SGD: {np.min(cost)}')"
   ]
  },
  {
   "cell_type": "code",
   "execution_count": null,
   "metadata": {},
   "outputs": [],
   "source": []
  }
 ],
 "metadata": {
  "kernelspec": {
   "display_name": "Python 3",
   "language": "python",
   "name": "python3"
  },
  "language_info": {
   "codemirror_mode": {
    "name": "ipython",
    "version": 3
   },
   "file_extension": ".py",
   "mimetype": "text/x-python",
   "name": "python",
   "nbconvert_exporter": "python",
   "pygments_lexer": "ipython3",
   "version": "3.7.1"
  }
 },
 "nbformat": 4,
 "nbformat_minor": 2
}
