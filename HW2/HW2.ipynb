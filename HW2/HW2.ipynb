{
 "cells": [
  {
   "cell_type": "markdown",
   "metadata": {},
   "source": [
    "Chloe Quinto    \n",
    "CPE 695/WS  \n",
    "HW2   \n",
    "February 12, 2020   \n",
    "I pledge my honor that I have abided by the Stevens Honor System - Chloe Quinto \n"
   ]
  },
  {
   "cell_type": "code",
   "execution_count": 1,
   "metadata": {},
   "outputs": [
    {
     "data": {
      "image/png": "[encoded data removed]",
      "text/plain": [
       "<Figure size 432x288 with 1 Axes>"
      ]
     },
     "metadata": {
      "needs_background": "light"
     },
     "output_type": "display_data"
    }
   ],
   "source": [
    "\"\"\"\n",
    "In this problem, we write a program to find the coefficients for a linear regression model for the dataset\n",
    "provided by (data2.txt). Assume a linear model: y = w0 + w1* x\n",
    "\"\"\"\n",
    "\n",
    "import pandas as pd\n",
    "import numpy as np\n",
    "import matplotlib.pyplot as plt\n",
    "\n",
    "\n",
    "data = pd.read_csv(\"data2.txt\", header = None)\n",
    "\n",
    "x = np.array(data[0])\n",
    "y = np.array(data[1])\n",
    "\n",
    "plt.scatter(x,y,color='red')\n",
    "plt.title(\"Dataset\")\n",
    "plt.xlabel(\"1st Column\")\n",
    "plt.ylabel(\"2nd Column\")\n",
    "plt.show()\n"
   ]
  },
  {
   "cell_type": "markdown",
   "metadata": {},
   "source": [
    "---"
   ]
  },
  {
   "cell_type": "markdown",
   "metadata": {},
   "source": [
    "We need to find the normal equation given: \n",
    "\n",
    "<img src=\"images/normalEquation.png\">\n"
   ]
  },
  {
   "cell_type": "code",
   "execution_count": 2,
   "metadata": {},
   "outputs": [],
   "source": [
    "#add an additional column of 1s in our x column and we call this additional matrix as x_bias.\n",
    "x_bias = np.ones((97,1))\n",
    "x = np.reshape(x,(97,1))\n",
    "x = np.append(x_bias,x,axis=1)"
   ]
  },
  {
   "cell_type": "markdown",
   "metadata": {},
   "source": [
    "Let's try to find our transpose, dotproduct, and inverse\n",
    "\n",
    "<img src=\"images/firstHalf.png\">"
   ]
  },
  {
   "cell_type": "code",
   "execution_count": 3,
   "metadata": {},
   "outputs": [],
   "source": [
    "x_transpose = np.transpose(x) #x^T\n",
    "x_transpose_dot_x = x_transpose.dot(x) #x^T*x\n",
    "firstHalf = np.linalg.inv(x_transpose_dot_x)# (x^T*x)^-1"
   ]
  },
  {
   "cell_type": "code",
   "execution_count": 4,
   "metadata": {},
   "outputs": [
    {
     "data": {
      "text/plain": [
       "array([[ 0.05662112, -0.00567561],\n",
       "       [-0.00567561,  0.00069556]])"
      ]
     },
     "execution_count": 4,
     "metadata": {},
     "output_type": "execute_result"
    }
   ],
   "source": [
    "firstHalf"
   ]
  },
  {
   "cell_type": "markdown",
   "metadata": {},
   "source": [
    "Now we have to take find the transpose and dot product of the second half of the equation\n",
    "\n",
    "<img src = \"images/secondHalf.png\">"
   ]
  },
  {
   "cell_type": "code",
   "execution_count": 5,
   "metadata": {},
   "outputs": [],
   "source": [
    "secondHalf = x_transpose.dot(y) #x^T*y "
   ]
  },
  {
   "cell_type": "code",
   "execution_count": 6,
   "metadata": {},
   "outputs": [
    {
     "data": {
      "text/plain": [
       "array([ 566.3961    , 6336.89842532])"
      ]
     },
     "execution_count": 6,
     "metadata": {},
     "output_type": "execute_result"
    }
   ],
   "source": [
    "secondHalf"
   ]
  },
  {
   "cell_type": "code",
   "execution_count": 7,
   "metadata": {},
   "outputs": [],
   "source": [
    "theta = firstHalf.dot(secondHalf)"
   ]
  },
  {
   "cell_type": "code",
   "execution_count": 8,
   "metadata": {},
   "outputs": [
    {
     "name": "stdout",
     "output_type": "stream",
     "text": [
      "y=-3.8957808783119106 + 1.1930336441895983*x\n"
     ]
    }
   ],
   "source": [
    "thetaOne = theta[0]\n",
    "thetaTwo = theta[1]\n",
    "\n",
    "print(\"y=\" + str(thetaOne) + \" + \"+ str(thetaTwo) + \"*x\")\n",
    "y = thetaOne + thetaTwo*x"
   ]
  },
  {
   "cell_type": "code",
   "execution_count": 9,
   "metadata": {},
   "outputs": [
    {
     "data": {
      "image/png": "[encoded data removed]",
      "text/plain": [
       "<Figure size 432x288 with 1 Axes>"
      ]
     },
     "metadata": {
      "needs_background": "light"
     },
     "output_type": "display_data"
    }
   ],
   "source": [
    "x_original = np.array(data[0])\n",
    "y_original = np.array(data[1])\n",
    "\n",
    "\n",
    "plt.scatter(x_original, y_original, color=\"red\")\n",
    "plt.plot(x,y,color='blue') \n",
    "plt.xlim(4.5)\n",
    "plt.title(\"Dataset\")\n",
    "plt.xlabel(\"1st Column\")\n",
    "plt.ylabel(\"2nd Column\")\n",
    "plt.show()"
   ]
  },
  {
   "cell_type": "code",
   "execution_count": 10,
   "metadata": {},
   "outputs": [
    {
     "name": "stdout",
     "output_type": "stream",
     "text": [
      "Normal Equation: (-3,1)\n"
     ]
    }
   ],
   "source": [
    "\"\"\"\n",
    "The above to compute normal equation can be simplied with the following: \n",
    "\"\"\"\n",
    "\n",
    "x = np.array(data[0])\n",
    "y = np.array(data[1])\n",
    "\n",
    "m = 97 \n",
    "x = np.reshape(x,(m,1))\n",
    "y = np.reshape(y,(m,1))\n",
    "\n",
    "x_bias = np.c_[np.ones((m, 1)), x] \n",
    "\n",
    "theta_best = np.linalg.inv(x_bias.T.dot(x_bias)).dot(x_bias.T).dot(y)\n",
    "\n",
    "print(\"Normal Equation: (\" + str(int(theta_best[0])) + \",\" + str(int(theta_best[1])) + \")\")"
   ]
  },
  {
   "cell_type": "markdown",
   "metadata": {},
   "source": [
    "---"
   ]
  },
  {
   "cell_type": "markdown",
   "metadata": {},
   "source": [
    "Gradient Descent using batch AND stochastic modes respectively: \n",
    " - Determine an appropriate termination condition(e.g. when cost function\n",
    "    is less than a threshold, and/or after a given number of iterations)\n",
    " - Print the cost function vs iterations for each mode; compare and disuss batch and stochastic modes in terms of accuracy and the speed of convergence \n",
    " - Choose the best learning rate. For example, you can plot cost function bs. learning rate to determine the best learning ratee "
   ]
  },
  {
   "cell_type": "markdown",
   "metadata": {},
   "source": [
    "## We need to determine an appropriate termination condition (e.g. when cost function is less than a threshold, and/or after a given number of iterations) \n",
    "\n",
    "Let's set the number of iterations to 1000 and the m = 97 from the given data "
   ]
  },
  {
   "cell_type": "markdown",
   "metadata": {},
   "source": [
    "## Now we want to print the cost function vs iterations for each mode"
   ]
  },
  {
   "cell_type": "code",
   "execution_count": 11,
   "metadata": {},
   "outputs": [
    {
     "name": "stdout",
     "output_type": "stream",
     "text": [
      "Iteration #: 0     y = [-0.45600917] + [1.60624067]*x \n",
      "Iteration #: 1     y = [-0.59223834] + [0.37215007]*x \n",
      "Iteration #: 2     y = [-0.52434427] + [1.16948833]*x \n",
      "Iteration #: 3     y = [-0.58793051] + [0.65761699]*x \n",
      "Iteration #: 4     y = [-0.56670966] + [0.98948958]*x \n",
      "Iteration #: 5     y = [-0.6000735] + [0.77758426]*x \n",
      "Iteration #: 6     y = [-0.59818797] + [0.91612236]*x \n",
      "Iteration #: 7     y = [-0.61894902] + [0.8288018]*x \n",
      "Iteration #: 8     y = [-0.62504447] + [0.88703411]*x \n",
      "Iteration #: 9     y = [-0.6405213] + [0.85145438]*x \n",
      "Iteration #: 10     y = [-0.64988212] + [0.87632702]*x \n",
      "Iteration #: 11     y = [-0.66311484] + [0.86223269]*x \n",
      "Iteration #: 12     y = [-0.67378277] + [0.87324456]*x \n",
      "Iteration #: 13     y = [-0.68603444] + [0.8680692]*x \n",
      "Iteration #: 14     y = [-0.69719647] + [0.87331916]*x \n",
      "Iteration #: 15     y = [-0.70899203] + [0.87184337]*x \n",
      "Iteration #: 16     y = [-0.72031084] + [0.87469527]*x \n",
      "Iteration #: 17     y = [-0.73186869] + [0.87475124]*x \n",
      "Iteration #: 18     y = [-0.74320452] + [0.87660228]*x \n",
      "Iteration #: 19     y = [-0.75461571] + [0.87728964]*x \n",
      "Iteration #: 20     y = [-0.76591086] + [0.87872019]*x \n",
      "Iteration #: 21     y = [-0.77721356] + [0.87966501]*x \n",
      "Iteration #: 22     y = [-0.7884444] + [0.88091614]*x \n",
      "Iteration #: 23     y = [-0.7996548] + [0.88196316]*x \n",
      "Iteration #: 24     y = [-0.81081186] + [0.88313504]*x \n",
      "Iteration #: 25     y = [-0.82193703] + [0.8842198]*x \n",
      "Iteration #: 26     y = [-0.83301673] + [0.88535407]*x \n",
      "Iteration #: 27     y = [-0.84405993] + [0.88644982]*x \n",
      "Iteration #: 28     y = [-0.8550611] + [0.88756381]*x \n",
      "Iteration #: 29     y = [-0.86602404] + [0.88865948]*x \n",
      "Iteration #: 30     y = [-0.87694653] + [0.88976042]*x \n",
      "Iteration #: 31     y = [-0.88783024] + [0.89085145]*x \n",
      "Iteration #: 32     y = [-0.89867433] + [0.89194238]*x \n",
      "Iteration #: 33     y = [-0.90947957] + [0.8930269]*x \n",
      "Iteration #: 34     y = [-0.92024569] + [0.89410911]*x \n",
      "Iteration #: 35     y = [-0.93097311] + [0.89518639]*x \n",
      "Iteration #: 36     y = [-0.94166178] + [0.89626044]*x \n",
      "Iteration #: 37     y = [-0.95231197] + [0.8973302]*x \n",
      "Iteration #: 38     y = [-0.96292372] + [0.89839637]*x \n",
      "Iteration #: 39     y = [-0.97349724] + [0.89945853]*x \n",
      "Iteration #: 40     y = [-0.98403263] + [0.90051697]*x \n",
      "Iteration #: 41     y = [-0.99453004] + [0.90157152]*x \n",
      "Iteration #: 42     y = [-1.00498961] + [0.90262231]*x \n",
      "Iteration #: 43     y = [-1.01541147] + [0.90366929]*x \n",
      "Iteration #: 44     y = [-1.02579575] + [0.90471251]*x \n",
      "Iteration #: 45     y = [-1.0361426] + [0.90575196]*x \n",
      "Iteration #: 46     y = [-1.04645214] + [0.90678767]*x \n",
      "Iteration #: 47     y = [-1.05672452] + [0.90781964]*x \n",
      "Iteration #: 48     y = [-1.06695986] + [0.90884789]*x \n",
      "Iteration #: 49     y = [-1.0771583] + [0.90987243]*x \n",
      "Iteration #: 50     y = [-1.08731997] + [0.91089328]*x \n",
      "Iteration #: 51     y = [-1.09744501] + [0.91191045]*x \n",
      "Iteration #: 52     y = [-1.10753355] + [0.91292396]*x \n",
      "Iteration #: 53     y = [-1.11758572] + [0.91393381]*x \n",
      "Iteration #: 54     y = [-1.12760164] + [0.91494001]*x \n",
      "Iteration #: 55     y = [-1.13758146] + [0.91594259]*x \n",
      "Iteration #: 56     y = [-1.1475253] + [0.91694156]*x \n",
      "Iteration #: 57     y = [-1.15743329] + [0.91793693]*x \n",
      "Iteration #: 58     y = [-1.16730555] + [0.9189287]*x \n",
      "Iteration #: 59     y = [-1.17714223] + [0.9199169]*x \n",
      "Iteration #: 60     y = [-1.18694344] + [0.92090154]*x \n",
      "Iteration #: 61     y = [-1.19670932] + [0.92188263]*x \n",
      "Iteration #: 62     y = [-1.20643999] + [0.92286018]*x \n",
      "Iteration #: 63     y = [-1.21613558] + [0.92383421]*x \n",
      "Iteration #: 64     y = [-1.22579622] + [0.92480472]*x \n",
      "Iteration #: 65     y = [-1.23542202] + [0.92577174]*x \n",
      "Iteration #: 66     y = [-1.24501313] + [0.92673527]*x \n",
      "Iteration #: 67     y = [-1.25456965] + [0.92769533]*x \n",
      "Iteration #: 68     y = [-1.26409172] + [0.92865192]*x \n",
      "Iteration #: 69     y = [-1.27357947] + [0.92960507]*x \n",
      "Iteration #: 70     y = [-1.28303301] + [0.93055478]*x \n",
      "Iteration #: 71     y = [-1.29245246] + [0.93150107]*x \n",
      "Iteration #: 72     y = [-1.30183796] + [0.93244394]*x \n",
      "Iteration #: 73     y = [-1.31118962] + [0.93338342]*x \n",
      "Iteration #: 74     y = [-1.32050757] + [0.93431951]*x \n",
      "Iteration #: 75     y = [-1.32979192] + [0.93525222]*x \n",
      "Iteration #: 76     y = [-1.3390428] + [0.93618157]*x \n",
      "Iteration #: 77     y = [-1.34826034] + [0.93710757]*x \n",
      "Iteration #: 78     y = [-1.35744463] + [0.93803024]*x \n",
      "Iteration #: 79     y = [-1.36659582] + [0.93894957]*x \n",
      "Iteration #: 80     y = [-1.37571402] + [0.93986559]*x \n",
      "Iteration #: 81     y = [-1.38479934] + [0.94077831]*x \n",
      "Iteration #: 82     y = [-1.39385191] + [0.94168774]*x \n",
      "Iteration #: 83     y = [-1.40287185] + [0.94259389]*x \n",
      "Iteration #: 84     y = [-1.41185926] + [0.94349678]*x \n",
      "Iteration #: 85     y = [-1.42081428] + [0.9443964]*x \n",
      "Iteration #: 86     y = [-1.429737] + [0.94529279]*x \n",
      "Iteration #: 87     y = [-1.43862757] + [0.94618594]*x \n",
      "Iteration #: 88     y = [-1.44748607] + [0.94707587]*x \n",
      "Iteration #: 89     y = [-1.45631265] + [0.9479626]*x \n",
      "Iteration #: 90     y = [-1.4651074] + [0.94884613]*x \n",
      "Iteration #: 91     y = [-1.47387044] + [0.94972647]*x \n",
      "Iteration #: 92     y = [-1.48260189] + [0.95060364]*x \n",
      "Iteration #: 93     y = [-1.49130186] + [0.95147765]*x \n",
      "Iteration #: 94     y = [-1.49997047] + [0.9523485]*x \n",
      "Iteration #: 95     y = [-1.50860783] + [0.95321622]*x \n",
      "Iteration #: 96     y = [-1.51721404] + [0.95408081]*x \n",
      "Iteration #: 97     y = [-1.52578923] + [0.95494228]*x \n",
      "Iteration #: 98     y = [-1.53433351] + [0.95580064]*x \n",
      "Iteration #: 99     y = [-1.54284698] + [0.95665591]*x \n",
      "\n",
      "\n",
      "Normal Equation: ([-3.89578088],[1.19303364])\n",
      "Batch Gradient Descent: ([-1.54284698], [0.95665591])\n"
     ]
    }
   ],
   "source": [
    "\n",
    "\n",
    "learning_rate = .01\n",
    "number_of_iterations = 100\n",
    "\n",
    "theta = np.random.randn(2,1) \n",
    "for iteration in range(number_of_iterations):\n",
    "    gradients = 2/m * x_bias.T.dot(x_bias.dot(theta) - y)\n",
    "    theta = theta - learning_rate * gradients\n",
    "    print(\"Iteration #: \" + str(iteration) + \"     y = \" + str(theta[0]) + \" + \" + str(theta[1]) + \"*x \")\n",
    "\n",
    "print(\"\\n\\nNormal Equation: (\" + str((theta_best[0])) + \",\" + str((theta_best[1])) + \")\")\n",
    "print(\"Batch Gradient Descent: (\" + str((theta[0])) + \", \" +  str((theta[1])) + \")\")"
   ]
  },
  {
   "cell_type": "markdown",
   "metadata": {},
   "source": [
    "This is close to what we found with the normal equation! "
   ]
  },
  {
   "cell_type": "markdown",
   "metadata": {},
   "source": [
    "## Choose the best learning rate. For example, you can plot cost function vs. learning rate to determine the best learning rate "
   ]
  },
  {
   "cell_type": "code",
   "execution_count": 12,
   "metadata": {},
   "outputs": [
    {
     "name": "stdout",
     "output_type": "stream",
     "text": [
      "Learning Rate: 0.01 cost: [-1.091696717005901, 0.9113329747944926]\n",
      "Learning Rate: 0.02 cost: [-1.1548883600157917e+71, -1.1495905087306858e+72]\n",
      "Learning Rate: 0.05 cost: [-5.486178505215494e+256, -5.461011606967615e+257]\n",
      "Learning Rate: 0.1 cost: [nan, nan]\n",
      "Learning Rate: 0.2 cost: [nan, nan]\n",
      "Learning Rate: 0.5 cost: [nan, nan]\n",
      "Learning Rate: 1 cost: [nan, nan]\n",
      "Learning Rate: 2 cost: [nan, nan]\n",
      "Learning Rate: 5 cost: [nan, nan]\n"
     ]
    },
    {
     "name": "stderr",
     "output_type": "stream",
     "text": [
      "/usr/local/anaconda3/lib/python3.7/site-packages/ipykernel_launcher.py:8: RuntimeWarning: invalid value encountered in subtract\n",
      "  \n"
     ]
    }
   ],
   "source": [
    "learning_rate = [0.01, 0.02, 0.05, 0.1, 0.2, 0.5,1,2,5]\n",
    "theta_values = []\n",
    "theta = np.random.randn(2,1) # random initialization\n",
    "\n",
    "for i in range(len(learning_rate)): \n",
    "    for iteration in range(number_of_iterations):\n",
    "        gradients = 2/m * x_bias.T.dot(x_bias.dot(theta) - y)\n",
    "        theta = theta - learning_rate * gradients\n",
    "    a = (theta[0][i])\n",
    "    b = (theta[1][i])\n",
    "    theta_values.append([a,b])\n",
    "    print(\"Learning Rate: \" + str(learning_rate[i]) + \" cost: \" + str([a,b]))"
   ]
  },
  {
   "cell_type": "code",
   "execution_count": 13,
   "metadata": {},
   "outputs": [],
   "source": [
    "y_val = []\n",
    "for i,j in zip(theta_values, learning_rate):\n",
    "    x = j \n",
    "    a = i[0]\n",
    "    b = i[1]\n",
    "    y = a + b*x\n",
    "    y_val.append(y)\n",
    "#     print(i)\n",
    "\n",
    "y_val = np.array(y_val)"
   ]
  },
  {
   "cell_type": "code",
   "execution_count": 14,
   "metadata": {},
   "outputs": [
    {
     "data": {
      "image/png": "[encoded data removed]",
      "text/plain": [
       "<Figure size 432x288 with 1 Axes>"
      ]
     },
     "metadata": {
      "needs_background": "light"
     },
     "output_type": "display_data"
    }
   ],
   "source": [
    "plt.plot(learning_rate, y_val, color=\"red\")\n",
    "plt.title(\"Dataset\")\n",
    "plt.xlabel(\"Learning Rate\")\n",
    "plt.ylabel(\"Cost Function\")\n",
    "plt.show()"
   ]
  },
  {
   "cell_type": "code",
   "execution_count": null,
   "metadata": {},
   "outputs": [],
   "source": []
  }
 ],
 "metadata": {
  "kernelspec": {
   "display_name": "Python 3",
   "language": "python",
   "name": "python3"
  },
  "language_info": {
   "codemirror_mode": {
    "name": "ipython",
    "version": 3
   },
   "file_extension": ".py",
   "mimetype": "text/x-python",
   "name": "python",
   "nbconvert_exporter": "python",
   "pygments_lexer": "ipython3",
   "version": "3.7.1"
  }
 },
 "nbformat": 4,
 "nbformat_minor": 2
}
