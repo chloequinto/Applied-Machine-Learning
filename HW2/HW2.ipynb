{
 "cells": [
  {
   "cell_type": "markdown",
   "metadata": {},
   "source": [
    "Chloe Quinto    \n",
    "CPE 695/WS  \n",
    "HW2   \n",
    "February 12, 2020   \n",
    "I pledge my honor that I have abided by the Stevens Honor System - Chloe Quinto \n"
   ]
  },
  {
   "cell_type": "code",
   "execution_count": 1,
   "metadata": {},
   "outputs": [],
   "source": [
    "import pandas as pd\n",
    "import numpy as np\n",
    "import matplotlib.pyplot as plt\n",
    "from sklearn.model_selection import train_test_split "
   ]
  },
  {
   "cell_type": "code",
   "execution_count": 2,
   "metadata": {},
   "outputs": [
    {
     "data": {
      "image/png": "[encoded data removed]",
      "text/plain": [
       "<Figure size 432x288 with 1 Axes>"
      ]
     },
     "metadata": {
      "needs_background": "light"
     },
     "output_type": "display_data"
    }
   ],
   "source": [
    "\"\"\"\n",
    "In this problem, we write a program to find the coefficients for a linear regression model for the dataset\n",
    "provided by (data2.txt). Assume a linear model: y = w0 + w1* x\n",
    "\"\"\"\n",
    "\n",
    "\n",
    "data = pd.read_csv(\"data2.txt\", header = None)\n",
    "x = np.array(data[0])\n",
    "y = np.array(data[1])\n",
    "\n",
    "plt.scatter(x,y,color='red')\n",
    "plt.title(\"Dataset\")\n",
    "plt.xlabel(\"x\")\n",
    "plt.ylabel(\"y\")\n",
    "plt.show()"
   ]
  },
  {
   "cell_type": "markdown",
   "metadata": {},
   "source": [
    "---"
   ]
  },
  {
   "cell_type": "markdown",
   "metadata": {},
   "source": [
    "### Calculate the Normal Equation "
   ]
  },
  {
   "cell_type": "markdown",
   "metadata": {},
   "source": [
    "<img src=\"images/normalEquation.png\">"
   ]
  },
  {
   "cell_type": "code",
   "execution_count": 3,
   "metadata": {},
   "outputs": [],
   "source": [
    "def normal_equation(x,y):\n",
    "    m = len(x)\n",
    "    x_bias = np.c_[np.ones((m, 1)), x] \n",
    "    \n",
    "    left_equation = np.linalg.inv(x_bias.T.dot(x_bias))\n",
    "    right_equation = (x_bias.T).dot(y)\n",
    "    \n",
    "    theta = left_equation.dot(right_equation)\n",
    "    return theta"
   ]
  },
  {
   "cell_type": "code",
   "execution_count": 4,
   "metadata": {},
   "outputs": [
    {
     "name": "stdout",
     "output_type": "stream",
     "text": [
      "Normal Equation\n",
      "y = -3.8957808783119106 + 1.1930336441895983*x\n"
     ]
    }
   ],
   "source": [
    "a, b = normal_equation(x,y)\n",
    "\n",
    "print(\"Normal Equation\")\n",
    "print(\"y = \" + str(a) + \" + \" + str(b) + \"*x\")\n",
    "\n",
    "y = a+b*x "
   ]
  },
  {
   "cell_type": "code",
   "execution_count": 5,
   "metadata": {},
   "outputs": [
    {
     "data": {
      "image/png": "[encoded data removed]",
      "text/plain": [
       "<Figure size 432x288 with 1 Axes>"
      ]
     },
     "metadata": {
      "needs_background": "light"
     },
     "output_type": "display_data"
    }
   ],
   "source": [
    "x_original = np.array(data[0])\n",
    "y_original = np.array(data[1])\n",
    "\n",
    "\n",
    "plt.scatter(x_original, y_original, color=\"red\")\n",
    "plt.plot(x,y,color='blue') \n",
    "plt.xlim(4.5)\n",
    "plt.title(\"Dataset\")\n",
    "plt.xlabel(\"1st Column\")\n",
    "plt.ylabel(\"2nd Column\")\n",
    "plt.show()"
   ]
  },
  {
   "cell_type": "markdown",
   "metadata": {},
   "source": [
    "---"
   ]
  },
  {
   "cell_type": "markdown",
   "metadata": {},
   "source": [
    "###  Now we need to find Gradient Descent Using Batch and Stochastic Modes "
   ]
  },
  {
   "cell_type": "code",
   "execution_count": 6,
   "metadata": {},
   "outputs": [],
   "source": [
    "def cost_function(x, y, theta):\n",
    "    #calculates the MSE cost function \n",
    "    num_samples = len(x) \n",
    "    cost_sum = 0.0\n",
    "    for a,b in zip(x, y):\n",
    "        feature_vector = np.array([1.0,a])\n",
    "        cost_sum += (np.dot(theta, feature_vector) - b) ** 2 # (θ^T*x -y)^2\n",
    "    cost = cost_sum / (num_samples * 2.0) # (1/m)Σ(θ^T*x -y)^2\n",
    "    \n",
    "    return cost"
   ]
  },
  {
   "cell_type": "markdown",
   "metadata": {},
   "source": [
    "Batch Gradient Descent \n",
    "<img src = \"./images/gradient_equation.png\">"
   ]
  },
  {
   "cell_type": "code",
   "execution_count": 7,
   "metadata": {},
   "outputs": [],
   "source": [
    "def batch_gradient_descent(x, y, theta, alpha, max_iter, show):\n",
    "    # calculates the batch gradient descent \n",
    "    \n",
    "    iteration,m = 0,len(x)\n",
    "    cost = np.zeros(max_iter)\n",
    "    params_store = np.zeros([2, max_iter])\n",
    "    \n",
    "    for i in range(1,max_iter):\n",
    "        cost[iteration] = cost_function(x, y, theta)\n",
    "        params_store[:, iteration] = theta\n",
    "        \n",
    "        if (show == \"yes\"):\n",
    "            print(\"iteration: \" + str(iteration) + \" cost: \" + str(cost[iteration]))\n",
    "\n",
    "        \n",
    "        for a,b in zip(x, y):\n",
    "         \n",
    "            feature_vector = np.array([1.0, a]) #red part of the equation\n",
    "            y_hat = np.dot(theta, np.array([1.0, a])) #green part of the equation\n",
    "            gradient = feature_vector * (b - y_hat) #yellow part of the equation\n",
    "            theta += alpha * gradient/m  \n",
    "            \n",
    "        iteration += 1\n",
    "    \n",
    "    return theta, cost, params_store\n",
    "\n"
   ]
  },
  {
   "cell_type": "markdown",
   "metadata": {},
   "source": [
    "We need to split our data into training and testing \n",
    "\n",
    "We can use the function train_test_split() to split our data and specify the test size to 20% of the data "
   ]
  },
  {
   "cell_type": "code",
   "execution_count": 8,
   "metadata": {},
   "outputs": [],
   "source": [
    "x_train, x_test, y_train, y_test = train_test_split(x,y, test_size = 0.20)"
   ]
  },
  {
   "cell_type": "code",
   "execution_count": 9,
   "metadata": {},
   "outputs": [
    {
     "name": "stdout",
     "output_type": "stream",
     "text": [
      "iteration: 0 cost: 251643.87487427276\n",
      "iteration: 1 cost: 53101.60127868392\n",
      "iteration: 2 cost: 11231.19310731448\n",
      "iteration: 3 cost: 2393.8467409617374\n",
      "iteration: 4 cost: 525.2185667949419\n",
      "iteration: 5 cost: 128.53416970031103\n",
      "iteration: 6 cost: 43.58460908354814\n",
      "iteration: 7 cost: 25.034559414052648\n",
      "iteration: 8 cost: 20.800473820318533\n",
      "iteration: 9 cost: 19.731417726034184\n",
      "iteration: 10 cost: 19.39731756111018\n",
      "iteration: 11 cost: 19.24933978487089\n",
      "iteration: 12 cost: 19.15499484763035\n",
      "iteration: 13 cost: 19.078649379988473\n",
      "iteration: 14 cost: 19.00925913732691\n",
      "iteration: 15 cost: 18.94287635252827\n",
      "iteration: 16 cost: 18.877926193793787\n",
      "iteration: 17 cost: 18.813736016076405\n",
      "iteration: 18 cost: 18.750007586764465\n",
      "iteration: 19 cost: 18.68660603403533\n",
      "iteration: 20 cost: 18.623469619534315\n",
      "iteration: 21 cost: 18.560569757005933\n",
      "iteration: 22 cost: 18.497892977732427\n",
      "iteration: 23 cost: 18.4354327262785\n",
      "iteration: 24 cost: 18.373185613377498\n",
      "iteration: 25 cost: 18.311149701365256\n",
      "iteration: 26 cost: 18.249323718977973\n",
      "iteration: 27 cost: 18.187706701617824\n",
      "iteration: 28 cost: 18.126297826511806\n",
      "iteration: 29 cost: 18.065096337167695\n",
      "iteration: 30 cost: 18.004101508749777\n",
      "iteration: 31 cost: 17.94331263220683\n",
      "iteration: 32 cost: 17.882729006994055\n",
      "iteration: 33 cost: 17.822349937733048\n",
      "iteration: 34 cost: 17.76217473267711\n",
      "iteration: 35 cost: 17.702202703003447\n",
      "iteration: 36 cost: 17.6424331624846\n",
      "iteration: 37 cost: 17.582865427333687\n",
      "iteration: 38 cost: 17.523498816129162\n",
      "iteration: 39 cost: 17.46433264977621\n",
      "iteration: 40 cost: 17.40536625148475\n",
      "iteration: 41 cost: 17.346598946755257\n",
      "iteration: 42 cost: 17.288030063368154\n",
      "iteration: 43 cost: 17.229658931374637\n",
      "iteration: 44 cost: 17.171484883088386\n",
      "iteration: 45 cost: 17.11350725307778\n",
      "iteration: 46 cost: 17.055725378157987\n",
      "iteration: 47 cost: 16.998138597383466\n",
      "iteration: 48 cost: 16.940746252040242\n",
      "iteration: 49 cost: 16.883547685638476\n",
      "iteration: 50 cost: 16.826542243904882\n",
      "iteration: 51 cost: 16.76972927477523\n",
      "iteration: 52 cost: 16.71310812838698\n",
      "iteration: 53 cost: 16.656678157071745\n",
      "iteration: 54 cost: 16.600438715347888\n",
      "iteration: 55 cost: 16.54438915991323\n",
      "iteration: 56 cost: 16.488528849637596\n",
      "iteration: 57 cost: 16.432857145555516\n",
      "iteration: 58 cost: 16.377373410858908\n",
      "iteration: 59 cost: 16.322077010889835\n",
      "iteration: 60 cost: 16.266967313133172\n",
      "iteration: 61 cost: 16.21204368720946\n",
      "iteration: 62 cost: 16.157305504867605\n",
      "iteration: 63 cost: 16.102752139977785\n",
      "iteration: 64 cost: 16.04838296852415\n",
      "iteration: 65 cost: 15.99419736859788\n",
      "iteration: 66 cost: 15.940194720389849\n",
      "iteration: 67 cost: 15.886374406183707\n",
      "iteration: 68 cost: 15.832735810348778\n",
      "iteration: 69 cost: 15.779278319332965\n",
      "iteration: 70 cost: 15.726001321655732\n",
      "iteration: 71 cost: 15.672904207901215\n",
      "iteration: 72 cost: 15.619986370711125\n",
      "iteration: 73 cost: 15.567247204777864\n",
      "iteration: 74 cost: 15.51468610683757\n",
      "iteration: 75 cost: 15.462302475663261\n",
      "iteration: 76 cost: 15.410095712057906\n",
      "iteration: 77 cost: 15.358065218847626\n",
      "iteration: 78 cost: 15.306210400874845\n",
      "iteration: 79 cost: 15.254530664991393\n",
      "iteration: 80 cost: 15.203025420051887\n",
      "iteration: 81 cost: 15.151694076906837\n",
      "iteration: 82 cost: 15.100536048395966\n",
      "iteration: 83 cost: 15.049550749341474\n",
      "iteration: 84 cost: 14.998737596541359\n",
      "iteration: 85 cost: 14.948096008762715\n",
      "iteration: 86 cost: 14.89762540673513\n",
      "iteration: 87 cost: 14.847325213143998\n",
      "iteration: 88 cost: 14.797194852623976\n",
      "iteration: 89 cost: 14.747233751752416\n",
      "iteration: 90 cost: 14.697441339042724\n",
      "iteration: 91 cost: 14.647817044937844\n",
      "iteration: 92 cost: 14.598360301803824\n",
      "iteration: 93 cost: 14.549070543923241\n",
      "iteration: 94 cost: 14.499947207488727\n",
      "iteration: 95 cost: 14.450989730596596\n",
      "iteration: 96 cost: 14.40219755324037\n",
      "iteration: 97 cost: 14.353570117304313\n",
      "iteration: 98 cost: 14.305106866557155\n"
     ]
    }
   ],
   "source": [
    "'''\n",
    "Batch Gradient Descent\n",
    "'''\n",
    "theta = np.array([20.0, 80.0])\n",
    "alpha_batch = 0.01\n",
    "max_iterations = 100\n",
    "\n",
    "batch_equation, cost_batch, params_store_batch = batch_gradient_descent(x_train, y_train, theta, alpha_batch, max_iterations, \"yes\")\n"
   ]
  },
  {
   "cell_type": "markdown",
   "metadata": {},
   "source": [
    "Stochastic Gradient Descent\n",
    "\n",
    "Randomize the whole training set. Then, for the update of every parameter, we use only one training example in every iteration\n",
    "\n",
    "<img src = \"./images/gradient_equation.png\">"
   ]
  },
  {
   "cell_type": "code",
   "execution_count": 10,
   "metadata": {},
   "outputs": [],
   "source": [
    "def stochastic_gradient_descent(input_var, output_var, params, alpha, show):\n",
    "    # calculates the stochastic gradient descent \n",
    "    num_samples = len(input_var)\n",
    "    cost = np.zeros(num_samples)\n",
    "    params_store = np.zeros([2, num_samples])\n",
    "    \n",
    "    iteration = 0\n",
    "    for x,y in zip(input_var, output_var):\n",
    "        cost[iteration] = cost_function(input_var, output_var, params)\n",
    "        params_store[:, iteration] = params\n",
    "        \n",
    "        if (show == \"yes\"):\n",
    "            print(\"iteration: \" + str(iteration) + \" cost: \" + str(cost[iteration]))\n",
    "        \n",
    "        y_hat = np.dot(params, np.array([1.0, x]))\n",
    "        gradient = np.array([1.0, x]) * (y - y_hat)\n",
    "        params += alpha * gradient/num_samples\n",
    "        \n",
    "        iteration += 1\n",
    "            \n",
    "    return params, cost, params_store"
   ]
  },
  {
   "cell_type": "code",
   "execution_count": 11,
   "metadata": {},
   "outputs": [
    {
     "name": "stdout",
     "output_type": "stream",
     "text": [
      "iteration: 0 cost: 251643.87487427276\n",
      "iteration: 1 cost: 249594.8085282324\n",
      "iteration: 2 cost: 247640.47788271116\n",
      "iteration: 3 cost: 237154.93614653285\n",
      "iteration: 4 cost: 234466.63756360137\n",
      "iteration: 5 cost: 232803.9374910387\n",
      "iteration: 6 cost: 228477.62527432607\n",
      "iteration: 7 cost: 226517.1520841489\n",
      "iteration: 8 cost: 223386.44456371432\n",
      "iteration: 9 cost: 219942.57910253596\n",
      "iteration: 10 cost: 217021.56045349909\n",
      "iteration: 11 cost: 215468.73835577077\n",
      "iteration: 12 cost: 211362.98257085355\n",
      "iteration: 13 cost: 209634.35259610208\n",
      "iteration: 14 cost: 199995.65593591327\n",
      "iteration: 15 cost: 198347.21767866405\n",
      "iteration: 16 cost: 196976.14163338527\n",
      "iteration: 17 cost: 195340.47013025486\n",
      "iteration: 18 cost: 193972.69607058045\n",
      "iteration: 19 cost: 191140.61398663672\n",
      "iteration: 20 cost: 189807.4890716474\n",
      "iteration: 21 cost: 187177.37429004142\n",
      "iteration: 22 cost: 185811.77347490867\n",
      "iteration: 23 cost: 183721.8930989941\n",
      "iteration: 24 cost: 178717.35536440345\n",
      "iteration: 25 cost: 172403.62875675972\n",
      "iteration: 26 cost: 169116.5875355716\n",
      "iteration: 27 cost: 167581.4043588346\n",
      "iteration: 28 cost: 163784.77354584297\n",
      "iteration: 29 cost: 160121.96970322003\n",
      "iteration: 30 cost: 158639.62140081613\n",
      "iteration: 31 cost: 157008.08549203695\n",
      "iteration: 32 cost: 155749.0344949036\n",
      "iteration: 33 cost: 154347.37686894598\n",
      "iteration: 34 cost: 153281.97824161744\n",
      "iteration: 35 cost: 151922.748125418\n",
      "iteration: 36 cost: 136357.0555852854\n",
      "iteration: 37 cost: 133886.90411440362\n",
      "iteration: 38 cost: 132587.19954186628\n",
      "iteration: 39 cost: 131344.99959338922\n",
      "iteration: 40 cost: 130187.02096936699\n",
      "iteration: 41 cost: 129188.14784391457\n",
      "iteration: 42 cost: 115878.83324842242\n",
      "iteration: 43 cost: 105463.15043031967\n",
      "iteration: 44 cost: 103639.202618354\n",
      "iteration: 45 cost: 101960.74908030232\n",
      "iteration: 46 cost: 99237.44862264904\n",
      "iteration: 47 cost: 98389.46011234957\n",
      "iteration: 48 cost: 96906.12776720247\n",
      "iteration: 49 cost: 95679.74650423323\n",
      "iteration: 50 cost: 94427.6895536641\n",
      "iteration: 51 cost: 93764.79486872398\n",
      "iteration: 52 cost: 92029.97533630276\n",
      "iteration: 53 cost: 89882.19612372127\n",
      "iteration: 54 cost: 86708.7703538566\n",
      "iteration: 55 cost: 85986.48021872665\n",
      "iteration: 56 cost: 82170.61096682589\n",
      "iteration: 57 cost: 81341.6571573536\n",
      "iteration: 58 cost: 80457.4575540054\n",
      "iteration: 59 cost: 76351.8456008863\n",
      "iteration: 60 cost: 75541.06995556093\n",
      "iteration: 61 cost: 74957.96499394455\n",
      "iteration: 62 cost: 74324.44196581056\n",
      "iteration: 63 cost: 73659.45167764042\n",
      "iteration: 64 cost: 72529.29152867242\n",
      "iteration: 65 cost: 70726.07155165037\n",
      "iteration: 66 cost: 69548.37714183415\n",
      "iteration: 67 cost: 68868.2553513463\n",
      "iteration: 68 cost: 68123.24197865021\n",
      "iteration: 69 cost: 66256.4795512897\n",
      "iteration: 70 cost: 65271.691709952975\n",
      "iteration: 71 cost: 64110.26451896119\n",
      "iteration: 72 cost: 63409.462337134995\n",
      "iteration: 73 cost: 62702.876443654044\n",
      "iteration: 74 cost: 61565.45966682929\n",
      "iteration: 75 cost: 54697.69061440969\n",
      "iteration: 76 cost: 53579.27088585923\n"
     ]
    }
   ],
   "source": [
    "'''\n",
    "Stochastic Gradient Descent\n",
    "'''\n",
    "\n",
    "alpha_stoch = 0.01\n",
    "theta = np.array([20.0, 80.0])\n",
    "stoch_equation, cost, params_store = stochastic_gradient_descent(x_train, y_train, theta, alpha_stoch, \"yes\")\n"
   ]
  },
  {
   "cell_type": "markdown",
   "metadata": {},
   "source": [
    "### Discussion\n",
    "\n",
    "\n",
    "1. Determine an appropriate termination condition (e.g. when the cost function is less than a threshold and/or given number of iterations \n",
    "    * An appropriate termination condition is when the cost function is minimized or 0\n",
    "    * I set the number of iterations to be a 100 \n",
    "    \n",
    "---\n",
    "2. Print the cost function vs. iterations for each mode. Compare and discuss batch and stochastic modes in terms of the accuracy and the speed of convergence. \n",
    "    * It looks like the batch gradient descent is more accurate than the stochastic gradient descent. But let's look at the RMS ***(check below)*** \n",
    "    * After checking the RMS, it looks like the Batch RMS is lower therefore more accurate. \n",
    "    * Let's check for convergence ***(check below)***\n",
    "    * It looks like Batch Gradient Descent converges faster than Stochastic Gradient Descent \n",
    "\n",
    "---\n",
    "3. Choose the best learning rate. For example, you can plot cost function vs. learning rate to determine the best learning rate. \n",
    "    * It looks like 0.1 is the best learning rate for both since it converges faster to the minimum ***(check below)*** \n",
    "    * You can run the notebook again with 0.1 as alpha and you would see that it is the best learning rate \n"
   ]
  },
  {
   "cell_type": "code",
   "execution_count": 12,
   "metadata": {},
   "outputs": [
    {
     "name": "stdout",
     "output_type": "stream",
     "text": [
      "Batch RMS: 6.259371843926673\n",
      "Stochastic RMS: 373.5485645491953\n"
     ]
    }
   ],
   "source": [
    "rms_batch = np.sqrt(np.mean(np.square(batch_equation[0] + batch_equation[1]*x_test - y_test)))\n",
    "rms_stochastic = np.sqrt(np.mean(np.square(stoch_equation[0] + stoch_equation[1]*x_test - y_test)))\n",
    "print(\"Batch RMS: \" + str(rms_batch))\n",
    "print(\"Stochastic RMS: \" + str(rms_stochastic))"
   ]
  },
  {
   "cell_type": "markdown",
   "metadata": {},
   "source": [
    "Therefore, the batch gradient descent is more accurate. "
   ]
  },
  {
   "cell_type": "code",
   "execution_count": 13,
   "metadata": {},
   "outputs": [
    {
     "data": {
      "image/png": "[encoded data removed]",
      "text/plain": [
       "<Figure size 432x288 with 1 Axes>"
      ]
     },
     "metadata": {
      "needs_background": "light"
     },
     "output_type": "display_data"
    }
   ],
   "source": [
    "plt.scatter(x_test, y_test)\n",
    "plt.plot(x_test, batch_equation[0] + batch_equation[1]*x_test, color = 'green', label='batch')\n",
    "plt.plot(x_test, stoch_equation[0] + stoch_equation[1]*x_test, color ='red', label='stochastic')\n",
    "plt.xlabel('x')\n",
    "plt.ylabel('y')\n",
    "plt.legend()\n",
    "plt.show()"
   ]
  },
  {
   "cell_type": "markdown",
   "metadata": {},
   "source": [
    "Next let's find which gradient descent converges faster"
   ]
  },
  {
   "cell_type": "code",
   "execution_count": 14,
   "metadata": {},
   "outputs": [
    {
     "data": {
      "image/png": "[encoded data removed]",
      "text/plain": [
       "<Figure size 432x288 with 1 Axes>"
      ]
     },
     "metadata": {
      "needs_background": "light"
     },
     "output_type": "display_data"
    }
   ],
   "source": [
    "plt.plot(np.arange(max_iterations), cost_batch, color = 'red', label='batch')\n",
    "plt.plot(np.arange(len(cost)), cost, color = 'green', label='stochastic')\n",
    "plt.xlabel('Iteration')\n",
    "plt.ylabel('Cost')\n",
    "plt.legend()\n",
    "plt.show()"
   ]
  },
  {
   "cell_type": "code",
   "execution_count": 15,
   "metadata": {},
   "outputs": [
    {
     "name": "stdout",
     "output_type": "stream",
     "text": [
      "Batch Gradient Descent: 0.0\n",
      "Stochastic Gradient Descent: 53579.27088585923\n"
     ]
    }
   ],
   "source": [
    "print(\"Batch Gradient Descent: \" +  str(np.min(cost_batch)))\n",
    "print(\"Stochastic Gradient Descent: \" +  str(np.min(cost)))"
   ]
  },
  {
   "cell_type": "markdown",
   "metadata": {},
   "source": [
    "It looks like batch gradient descent does converge faster than stochastic gradient descent "
   ]
  },
  {
   "cell_type": "code",
   "execution_count": 16,
   "metadata": {},
   "outputs": [],
   "source": [
    "theta = np.array([20.0, 80.0])\n",
    "max_iterations = 100\n",
    "\n",
    "alpha_batch = [0.03, 0.01, 0.3, 0.1]\n",
    "res_cost_batch,res_cost_stoch = [],[]\n",
    "\n",
    "for i in alpha_batch: \n",
    "    batch_equation, cost_batch, params_store_batch = batch_gradient_descent(x_train, y_train, theta, i, max_iterations, \"no\")\n",
    "    stoch_equation, cost_stoch, params_store = stochastic_gradient_descent(x_train, y_train, theta, alpha_stoch, \"no\")\n",
    "    res_cost_batch.append(cost_batch)\n",
    "    res_cost_stoch.append(cost_stoch)\n",
    "    \n",
    "    "
   ]
  },
  {
   "cell_type": "code",
   "execution_count": 17,
   "metadata": {},
   "outputs": [
    {
     "data": {
      "image/png": "[encoded data removed]",
      "text/plain": [
       "<Figure size 432x288 with 1 Axes>"
      ]
     },
     "metadata": {
      "needs_background": "light"
     },
     "output_type": "display_data"
    }
   ],
   "source": [
    "# plot batch learning rate \n",
    "plt.plot(np.arange(max_iterations), res_cost_batch[0], color = 'red', label='Batch: 0.03')\n",
    "plt.plot(np.arange(max_iterations), res_cost_batch[1], color ='blue', label='Batch: 0.01')\n",
    "plt.plot(np.arange(max_iterations), res_cost_batch[2], color ='green', label='Batch: 0.3')\n",
    "plt.plot(np.arange(max_iterations), res_cost_batch[3], color ='purple', label='Batch: 0.1')\n",
    "\n",
    "plt.ylim(0,10 )\n",
    "\n",
    "plt.xlabel('Iteration')\n",
    "plt.ylabel('Cost')\n",
    "plt.legend()\n",
    "plt.show()"
   ]
  },
  {
   "cell_type": "code",
   "execution_count": 18,
   "metadata": {},
   "outputs": [
    {
     "data": {
      "image/png": "[encoded data removed]",
      "text/plain": [
       "<Figure size 432x288 with 1 Axes>"
      ]
     },
     "metadata": {
      "needs_background": "light"
     },
     "output_type": "display_data"
    }
   ],
   "source": [
    "# Plot stochastic learning rate \n",
    "plt.plot(np.arange(len(cost)), res_cost_stoch[0], color ='red', label='Stoch: 0.03')\n",
    "plt.plot(np.arange(len(cost)), res_cost_stoch[1], color ='blue', label='Stoch: 0.01')\n",
    "plt.plot(np.arange(len(cost)), res_cost_stoch[2], color ='green', label='Stoch: 0.3')\n",
    "plt.plot(np.arange(len(cost)), res_cost_stoch[3], color ='purple', label='Stoch: 0.1')\n",
    "\n",
    "\n",
    "plt.ylim(0,10) \n",
    "\n",
    "plt.xlabel('Iteration')\n",
    "plt.ylabel('Cost')\n",
    "plt.legend()\n",
    "plt.show()"
   ]
  },
  {
   "cell_type": "markdown",
   "metadata": {},
   "source": [
    "It looks like 0.1 is the best learning rate for both models "
   ]
  }
 ],
 "metadata": {
  "kernelspec": {
   "display_name": "Python 3",
   "language": "python",
   "name": "python3"
  },
  "language_info": {
   "codemirror_mode": {
    "name": "ipython",
    "version": 3
   },
   "file_extension": ".py",
   "mimetype": "text/x-python",
   "name": "python",
   "nbconvert_exporter": "python",
   "pygments_lexer": "ipython3",
   "version": "3.7.1"
  }
 },
 "nbformat": 4,
 "nbformat_minor": 2
}
