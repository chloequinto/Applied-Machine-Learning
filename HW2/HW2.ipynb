{
 "cells": [
  {
   "cell_type": "markdown",
   "metadata": {},
   "source": [
    "Chloe Quinto    \n",
    "CPE 695/WS  \n",
    "HW2   \n",
    "February 12, 2020   \n",
    "I pledge my honor that I have abided by the Stevens Honor System - Chloe Quinto \n"
   ]
  },
  {
   "cell_type": "code",
   "execution_count": 1,
   "metadata": {},
   "outputs": [],
   "source": [
    "import pandas as pd\n",
    "import numpy as np\n",
    "import matplotlib.pyplot as plt\n",
    "from sklearn.model_selection import train_test_split "
   ]
  },
  {
   "cell_type": "code",
   "execution_count": 2,
   "metadata": {},
   "outputs": [
    {
     "data": {
      "image/png": "[encoded data removed]",
      "text/plain": [
       "<Figure size 432x288 with 1 Axes>"
      ]
     },
     "metadata": {
      "needs_background": "light"
     },
     "output_type": "display_data"
    }
   ],
   "source": [
    "\"\"\"\n",
    "In this problem, we write a program to find the coefficients for a linear regression model for the dataset\n",
    "provided by (data2.txt). Assume a linear model: y = w0 + w1* x\n",
    "\"\"\"\n",
    "\n",
    "\n",
    "data = pd.read_csv(\"data2.txt\", header = None)\n",
    "x = np.array(data[0])\n",
    "y = np.array(data[1])\n",
    "\n",
    "plt.scatter(x,y,color='red')\n",
    "plt.title(\"Dataset\")\n",
    "plt.xlabel(\"x\")\n",
    "plt.ylabel(\"y\")\n",
    "plt.show()"
   ]
  },
  {
   "cell_type": "markdown",
   "metadata": {},
   "source": [
    "---"
   ]
  },
  {
   "cell_type": "markdown",
   "metadata": {},
   "source": [
    "### Calculate the Normal Equation "
   ]
  },
  {
   "cell_type": "markdown",
   "metadata": {},
   "source": [
    "<img src=\"images/normalEquation.png\">"
   ]
  },
  {
   "cell_type": "code",
   "execution_count": 3,
   "metadata": {},
   "outputs": [],
   "source": [
    "def normal_equation(x,y):\n",
    "    m = len(x)\n",
    "    x_bias = np.c_[np.ones((m, 1)), x] \n",
    "    \n",
    "    left_equation = np.linalg.inv(x_bias.T.dot(x_bias))\n",
    "    right_equation = (x_bias.T).dot(y)\n",
    "    \n",
    "    theta = left_equation.dot(right_equation)\n",
    "    return theta"
   ]
  },
  {
   "cell_type": "code",
   "execution_count": 4,
   "metadata": {},
   "outputs": [
    {
     "name": "stdout",
     "output_type": "stream",
     "text": [
      "Normal Equation\n",
      "y = -3.8957808783119106 + 1.1930336441895983*x\n"
     ]
    }
   ],
   "source": [
    "a, b = normal_equation(x,y)\n",
    "\n",
    "print(\"Normal Equation\")\n",
    "print(\"y = \" + str(a) + \" + \" + str(b) + \"*x\")\n",
    "\n",
    "y = a+b*x "
   ]
  },
  {
   "cell_type": "code",
   "execution_count": 5,
   "metadata": {},
   "outputs": [
    {
     "data": {
      "image/png": "[encoded data removed]",
      "text/plain": [
       "<Figure size 432x288 with 1 Axes>"
      ]
     },
     "metadata": {
      "needs_background": "light"
     },
     "output_type": "display_data"
    }
   ],
   "source": [
    "x_original = np.array(data[0])\n",
    "y_original = np.array(data[1])\n",
    "\n",
    "\n",
    "plt.scatter(x_original, y_original, color=\"red\")\n",
    "plt.plot(x,y,color='blue') \n",
    "plt.xlim(4.5)\n",
    "plt.title(\"Dataset\")\n",
    "plt.xlabel(\"1st Column\")\n",
    "plt.ylabel(\"2nd Column\")\n",
    "plt.show()"
   ]
  },
  {
   "cell_type": "markdown",
   "metadata": {},
   "source": [
    "---"
   ]
  },
  {
   "cell_type": "markdown",
   "metadata": {},
   "source": [
    "###  Now we need to find Gradient Descent Using Batch and Stochastic Modes "
   ]
  },
  {
   "cell_type": "code",
   "execution_count": 6,
   "metadata": {},
   "outputs": [],
   "source": [
    "def cost_function(x, y, theta):\n",
    "    #calculates the MSE cost function \n",
    "    num_samples = len(x) \n",
    "    cost_sum = 0.0\n",
    "    for a,b in zip(x, y):\n",
    "        feature_vector = np.array([1.0,a])\n",
    "        cost_sum += (np.dot(theta, feature_vector) - b) ** 2 # (θ^T*x -y)^2\n",
    "    cost = cost_sum / (num_samples * 2.0) # (1/m)Σ(θ^T*x -y)^2\n",
    "    \n",
    "    return cost"
   ]
  },
  {
   "cell_type": "markdown",
   "metadata": {},
   "source": [
    "Batch Gradient Descent \n",
    "<img src = \"./images/gradient_equation.png\">"
   ]
  },
  {
   "cell_type": "code",
   "execution_count": 7,
   "metadata": {},
   "outputs": [],
   "source": [
    "def batch_gradient_descent(x, y, theta, alpha, max_iter, show):\n",
    "    # calculates the batch gradient descent \n",
    "    \n",
    "    iteration,m = 0,len(x)\n",
    "    cost = np.zeros(max_iter)\n",
    "    equation = np.zeros([2, max_iter])\n",
    "    \n",
    "    for i in range(1,max_iter):\n",
    "        cost[iteration] = cost_function(x, y, theta)\n",
    "        equation[:, iteration] = theta\n",
    "        \n",
    "        if (show == \"yes\"):\n",
    "            print(\"iteration: \" + str(iteration) + \" cost: \" + str(cost[iteration]))\n",
    "\n",
    "        \n",
    "        for a,b in zip(x, y):\n",
    "         \n",
    "            feature_vector = np.array([1.0, a]) #red part of the equation\n",
    "            y_hat = np.dot(theta, np.array([1.0, a])) #green part of the equation\n",
    "            gradient = feature_vector * (b - y_hat) #yellow part of the equation\n",
    "            theta += alpha * gradient/m  \n",
    "            \n",
    "        iteration += 1\n",
    "    \n",
    "    return theta, cost, equation\n",
    "\n"
   ]
  },
  {
   "cell_type": "markdown",
   "metadata": {},
   "source": [
    "We need to split our data into training and testing \n",
    "\n",
    "We can use the function train_test_split() to split our data and specify the test size to 20% of the data "
   ]
  },
  {
   "cell_type": "code",
   "execution_count": 8,
   "metadata": {},
   "outputs": [],
   "source": [
    "x_train, x_test, y_train, y_test = train_test_split(x,y, test_size = 0.20)"
   ]
  },
  {
   "cell_type": "code",
   "execution_count": 9,
   "metadata": {},
   "outputs": [
    {
     "name": "stdout",
     "output_type": "stream",
     "text": [
      "iteration: 0 cost: 273620.0118252553\n",
      "iteration: 1 cost: 50044.13912588621\n",
      "iteration: 2 cost: 9179.130307833977\n",
      "iteration: 3 cost: 1703.8827139585662\n",
      "iteration: 4 cost: 333.8878719026365\n",
      "iteration: 5 cost: 81.67331600227376\n",
      "iteration: 6 cost: 34.72425885994374\n",
      "iteration: 7 cost: 25.732083653078593\n",
      "iteration: 8 cost: 23.87030605511208\n",
      "iteration: 9 cost: 23.395152209993746\n",
      "iteration: 10 cost: 23.20933261942019\n",
      "iteration: 11 cost: 23.09189749261104\n",
      "iteration: 12 cost: 22.993737060859242\n",
      "iteration: 13 cost: 22.902147731136413\n",
      "iteration: 14 cost: 22.813216029090903\n",
      "iteration: 15 cost: 22.725546976420336\n",
      "iteration: 16 cost: 22.638595038131136\n",
      "iteration: 17 cost: 22.552135956492975\n",
      "iteration: 18 cost: 22.46607502331495\n",
      "iteration: 19 cost: 22.38037142595928\n",
      "iteration: 20 cost: 22.295007095064395\n",
      "iteration: 21 cost: 22.20997362016167\n",
      "iteration: 22 cost: 22.12526670547015\n",
      "iteration: 23 cost: 22.040883811648158\n",
      "iteration: 24 cost: 21.956823151040716\n",
      "iteration: 25 cost: 21.873083259285803\n",
      "iteration: 26 cost: 21.789662812600156\n",
      "iteration: 27 cost: 21.70656054983377\n",
      "iteration: 28 cost: 21.623775239210687\n",
      "iteration: 29 cost: 21.541305664131414\n",
      "iteration: 30 cost: 21.459150617106413\n",
      "iteration: 31 cost: 21.377308897158198\n",
      "iteration: 32 cost: 21.29577930870298\n",
      "iteration: 33 cost: 21.214560661063715\n",
      "iteration: 34 cost: 21.133651768252477\n",
      "iteration: 35 cost: 21.05305144886763\n",
      "iteration: 36 cost: 20.972758526040106\n",
      "iteration: 37 cost: 20.89277182740081\n",
      "iteration: 38 cost: 20.81309018505671\n",
      "iteration: 39 cost: 20.73371243557099\n",
      "iteration: 40 cost: 20.654637419944947\n",
      "iteration: 41 cost: 20.575863983600478\n",
      "iteration: 42 cost: 20.497390976363032\n",
      "iteration: 43 cost: 20.419217252444618\n",
      "iteration: 44 cost: 20.34134167042723\n",
      "iteration: 45 cost: 20.263763093246002\n",
      "iteration: 46 cost: 20.186480388172686\n",
      "iteration: 47 cost: 20.109492426799054\n",
      "iteration: 48 cost: 20.03279808502043\n",
      "iteration: 49 cost: 19.956396243019324\n",
      "iteration: 50 cost: 19.88028578524904\n",
      "iteration: 51 cost: 19.80446560041739\n",
      "iteration: 52 cost: 19.72893458147049\n",
      "iteration: 53 cost: 19.653691625576524\n",
      "iteration: 54 cost: 19.57873563410977\n",
      "iteration: 55 cost: 19.504065512634455\n",
      "iteration: 56 cost: 19.429680170888826\n",
      "iteration: 57 cost: 19.355578522769186\n",
      "iteration: 58 cost: 19.28175948631403\n",
      "iteration: 59 cost: 19.208221983688393\n",
      "iteration: 60 cost: 19.134964941167837\n",
      "iteration: 61 cost: 19.061987289123085\n",
      "iteration: 62 cost: 18.989287962004145\n",
      "iteration: 63 cost: 18.916865898324907\n",
      "iteration: 64 cost: 18.844720040647616\n",
      "iteration: 65 cost: 18.772849335567347\n",
      "iteration: 66 cost: 18.70125273369678\n",
      "iteration: 67 cost: 18.62992918965074\n",
      "iteration: 68 cost: 18.558877662030955\n",
      "iteration: 69 cost: 18.488097113410912\n",
      "iteration: 70 cost: 18.41758651032068\n",
      "iteration: 71 cost: 18.347344823231765\n",
      "iteration: 72 cost: 18.277371026542212\n",
      "iteration: 73 cost: 18.207664098561466\n",
      "iteration: 74 cost: 18.13822302149555\n",
      "iteration: 75 cost: 18.06904678143222\n",
      "iteration: 76 cost: 18.00013436832616\n",
      "iteration: 77 cost: 17.9314847759841\n",
      "iteration: 78 cost: 17.86309700205031\n",
      "iteration: 79 cost: 17.79497004799181\n",
      "iteration: 80 cost: 17.727102919083972\n",
      "iteration: 81 cost: 17.65949462439576\n",
      "iteration: 82 cost: 17.59214417677549\n",
      "iteration: 83 cost: 17.525050592836273\n",
      "iteration: 84 cost: 17.45821289294171\n",
      "iteration: 85 cost: 17.391630101191534\n",
      "iteration: 86 cost: 17.325301245407434\n",
      "iteration: 87 cost: 17.259225357118876\n",
      "iteration: 88 cost: 17.193401471548864\n",
      "iteration: 89 cost: 17.12782862759986\n",
      "iteration: 90 cost: 17.062505867839885\n",
      "iteration: 91 cost: 16.99743223848841\n",
      "iteration: 92 cost: 16.932606789402453\n",
      "iteration: 93 cost: 16.86802857406278\n",
      "iteration: 94 cost: 16.80369664955995\n",
      "iteration: 95 cost: 16.73961007658071\n",
      "iteration: 96 cost: 16.675767919394133\n",
      "iteration: 97 cost: 16.61216924583801\n",
      "iteration: 98 cost: 16.5488131273053\n"
     ]
    }
   ],
   "source": [
    "'''\n",
    "Batch Gradient Descent\n",
    "'''\n",
    "theta = np.array([20.0, 80.0])\n",
    "alpha_batch = 0.01\n",
    "max_iterations = 100\n",
    "\n",
    "batch_equation, cost_batch, params_store_batch = batch_gradient_descent(x_train, y_train, theta, alpha_batch, max_iterations, \"yes\")\n"
   ]
  },
  {
   "cell_type": "markdown",
   "metadata": {},
   "source": [
    "Stochastic Gradient Descent\n",
    "\n",
    "Randomize the whole training set. Then, for the update of every parameter, we use only one training example in every iteration\n",
    "\n",
    "<img src = \"./images/gradient_equation.png\">"
   ]
  },
  {
   "cell_type": "code",
   "execution_count": 10,
   "metadata": {},
   "outputs": [],
   "source": [
    "def stochastic_gradient_descent(input_var, output_var, params, alpha, show):\n",
    "    # calculates the stochastic gradient descent \n",
    "    num_samples = len(input_var)\n",
    "    cost = np.zeros(num_samples)\n",
    "    equation = np.zeros([2, num_samples])\n",
    "    \n",
    "    iteration = 0\n",
    "    for x,y in zip(input_var, output_var):\n",
    "        cost[iteration] = cost_function(input_var, output_var, params)\n",
    "        equation[:, iteration] = params\n",
    "        \n",
    "        if (show == \"yes\"):\n",
    "            print(\"iteration: \" + str(iteration) + \" cost: \" + str(cost[iteration]))\n",
    "        \n",
    "        y_hat = np.dot(params, np.array([1.0, x]))\n",
    "        gradient = np.array([1.0, x]) * (y - y_hat)\n",
    "        params += alpha * gradient/num_samples\n",
    "        \n",
    "        iteration += 1\n",
    "            \n",
    "    return params, cost, equation"
   ]
  },
  {
   "cell_type": "code",
   "execution_count": 11,
   "metadata": {},
   "outputs": [
    {
     "name": "stdout",
     "output_type": "stream",
     "text": [
      "iteration: 0 cost: 273620.0118252553\n",
      "iteration: 1 cost: 269194.59386098396\n",
      "iteration: 2 cost: 264413.15163952\n",
      "iteration: 3 cost: 262594.11056607676\n",
      "iteration: 4 cost: 260757.52499661813\n",
      "iteration: 5 cost: 257292.29689501406\n",
      "iteration: 6 cost: 230830.42092390868\n",
      "iteration: 7 cost: 227535.44502131824\n",
      "iteration: 8 cost: 224052.87480151214\n",
      "iteration: 9 cost: 218817.6211191724\n",
      "iteration: 10 cost: 217064.361608505\n",
      "iteration: 11 cost: 215273.37940075723\n",
      "iteration: 12 cost: 213273.90376417298\n",
      "iteration: 13 cost: 210828.66827545068\n",
      "iteration: 14 cost: 207704.51538367354\n",
      "iteration: 15 cost: 198144.77764812243\n",
      "iteration: 16 cost: 189760.87924972837\n",
      "iteration: 17 cost: 187706.67321533518\n",
      "iteration: 18 cost: 186396.97343985108\n",
      "iteration: 19 cost: 184651.80108035475\n",
      "iteration: 20 cost: 182552.89045529495\n",
      "iteration: 21 cost: 176095.9520095543\n",
      "iteration: 22 cost: 173166.90302164486\n",
      "iteration: 23 cost: 171899.9531447044\n",
      "iteration: 24 cost: 170082.45902335088\n",
      "iteration: 25 cost: 167594.21586513042\n",
      "iteration: 26 cost: 166116.74435846834\n",
      "iteration: 27 cost: 163612.16133460167\n",
      "iteration: 28 cost: 161420.0662256015\n",
      "iteration: 29 cost: 159599.92665541611\n",
      "iteration: 30 cost: 156645.51014322616\n",
      "iteration: 31 cost: 154908.46154224736\n",
      "iteration: 32 cost: 153803.7090115641\n",
      "iteration: 33 cost: 152477.75630578987\n",
      "iteration: 34 cost: 151212.73096287475\n",
      "iteration: 35 cost: 143461.8146033219\n",
      "iteration: 36 cost: 140721.58838383717\n",
      "iteration: 37 cost: 139743.4265080945\n",
      "iteration: 38 cost: 138763.56801196554\n",
      "iteration: 39 cost: 124445.8453235372\n",
      "iteration: 40 cost: 123344.47933979848\n",
      "iteration: 41 cost: 121782.66824973334\n",
      "iteration: 42 cost: 117992.93821502649\n",
      "iteration: 43 cost: 116939.96475426364\n",
      "iteration: 44 cost: 115408.39479518292\n",
      "iteration: 45 cost: 112320.54211230912\n",
      "iteration: 46 cost: 107569.8809843901\n",
      "iteration: 47 cost: 106457.85254704174\n",
      "iteration: 48 cost: 105418.63952264958\n",
      "iteration: 49 cost: 104189.57731202139\n",
      "iteration: 50 cost: 103332.66588718169\n",
      "iteration: 51 cost: 101406.3841623029\n",
      "iteration: 52 cost: 100557.14069214622\n",
      "iteration: 53 cost: 94875.37444857259\n",
      "iteration: 54 cost: 83331.37540712224\n",
      "iteration: 55 cost: 82516.73657407048\n",
      "iteration: 56 cost: 81760.55859985467\n",
      "iteration: 57 cost: 74434.03763402357\n",
      "iteration: 58 cost: 73856.9510489241\n",
      "iteration: 59 cost: 73221.72216384693\n",
      "iteration: 60 cost: 71890.34501698703\n",
      "iteration: 61 cost: 71343.64477958267\n",
      "iteration: 62 cost: 69959.86864707142\n",
      "iteration: 63 cost: 68874.3572836174\n",
      "iteration: 64 cost: 66440.48891227102\n",
      "iteration: 65 cost: 65946.15888927843\n",
      "iteration: 66 cost: 65025.35185457005\n",
      "iteration: 67 cost: 63405.31814067252\n",
      "iteration: 68 cost: 56322.45099944696\n",
      "iteration: 69 cost: 55868.1168110468\n",
      "iteration: 70 cost: 55421.704346170176\n",
      "iteration: 71 cost: 54818.77689885289\n",
      "iteration: 72 cost: 54261.47430028048\n",
      "iteration: 73 cost: 53028.83061053774\n",
      "iteration: 74 cost: 52288.608598572726\n",
      "iteration: 75 cost: 51379.83770684079\n",
      "iteration: 76 cost: 50814.929816915705\n"
     ]
    }
   ],
   "source": [
    "'''\n",
    "Stochastic Gradient Descent\n",
    "'''\n",
    "\n",
    "alpha_stoch = 0.01\n",
    "theta = np.array([20.0, 80.0])\n",
    "stoch_equation, cost, params_store = stochastic_gradient_descent(x_train, y_train, theta, alpha_stoch, \"yes\")\n"
   ]
  },
  {
   "cell_type": "markdown",
   "metadata": {},
   "source": [
    "### Discussion\n",
    "\n",
    "\n",
    "1. Determine an appropriate termination condition (e.g. when the cost function is less than a threshold and/or given number of iterations \n",
    "    * An appropriate termination condition is when the cost function is minimized or 0\n",
    "    * I set the number of iterations to be a 100 \n",
    "    \n",
    "---\n",
    "2. Print the cost function vs. iterations for each mode. Compare and discuss batch and stochastic modes in terms of the accuracy and the speed of convergence. \n",
    "    * It looks like the batch gradient descent is more accurate than the stochastic gradient descent. But let's look at the RMS ***(check below)*** \n",
    "    * After checking the RMS, it looks like the Batch RMS is lower therefore more accurate. \n",
    "    * Let's check for convergence ***(check below)***\n",
    "    * It looks like Batch Gradient Descent converges faster than Stochastic Gradient Descent \n",
    "\n",
    "---\n",
    "3. Choose the best learning rate. For example, you can plot cost function vs. learning rate to determine the best learning rate. \n",
    "    * It looks like 0.1 is the best learning rate for both since it converges faster to the minimum ***(check below)*** \n",
    "    * You can run the notebook again with 0.1 as alpha and you would see that it is the best learning rate \n"
   ]
  },
  {
   "cell_type": "code",
   "execution_count": 12,
   "metadata": {},
   "outputs": [
    {
     "name": "stdout",
     "output_type": "stream",
     "text": [
      "Batch RMS: 5.112271497596551\n",
      "Stochastic RMS: 302.0903356145289\n"
     ]
    }
   ],
   "source": [
    "rms_batch = np.sqrt(np.mean(np.square(batch_equation[0] + batch_equation[1]*x_test - y_test)))\n",
    "rms_stochastic = np.sqrt(np.mean(np.square(stoch_equation[0] + stoch_equation[1]*x_test - y_test)))\n",
    "print(\"Batch RMS: \" + str(rms_batch))\n",
    "print(\"Stochastic RMS: \" + str(rms_stochastic))"
   ]
  },
  {
   "cell_type": "markdown",
   "metadata": {},
   "source": [
    "Therefore, the batch gradient descent is more accurate. "
   ]
  },
  {
   "cell_type": "code",
   "execution_count": 13,
   "metadata": {},
   "outputs": [
    {
     "data": {
      "image/png": "[encoded data removed]",
      "text/plain": [
       "<Figure size 432x288 with 1 Axes>"
      ]
     },
     "metadata": {
      "needs_background": "light"
     },
     "output_type": "display_data"
    }
   ],
   "source": [
    "plt.scatter(x_test, y_test)\n",
    "plt.plot(x_test, batch_equation[0] + batch_equation[1]*x_test, color = 'green', label='batch')\n",
    "plt.plot(x_test, stoch_equation[0] + stoch_equation[1]*x_test, color ='red', label='stochastic')\n",
    "plt.xlabel('x')\n",
    "plt.ylabel('y')\n",
    "plt.legend()\n",
    "plt.show()"
   ]
  },
  {
   "cell_type": "markdown",
   "metadata": {},
   "source": [
    "Next let's find which gradient descent converges faster"
   ]
  },
  {
   "cell_type": "code",
   "execution_count": 14,
   "metadata": {},
   "outputs": [
    {
     "data": {
      "image/png": "[encoded data removed]",
      "text/plain": [
       "<Figure size 432x288 with 1 Axes>"
      ]
     },
     "metadata": {
      "needs_background": "light"
     },
     "output_type": "display_data"
    }
   ],
   "source": [
    "plt.plot(np.arange(max_iterations), cost_batch, color = 'red', label='batch')\n",
    "plt.plot(np.arange(len(cost)), cost, color = 'green', label='stochastic')\n",
    "plt.xlabel('Iteration')\n",
    "plt.ylabel('Cost')\n",
    "plt.legend()\n",
    "plt.show()"
   ]
  },
  {
   "cell_type": "code",
   "execution_count": 15,
   "metadata": {},
   "outputs": [
    {
     "name": "stdout",
     "output_type": "stream",
     "text": [
      "Batch Gradient Descent: 0.0\n",
      "Stochastic Gradient Descent: 50814.929816915705\n"
     ]
    }
   ],
   "source": [
    "print(\"Batch Gradient Descent: \" +  str(np.min(cost_batch)))\n",
    "print(\"Stochastic Gradient Descent: \" +  str(np.min(cost)))"
   ]
  },
  {
   "cell_type": "markdown",
   "metadata": {},
   "source": [
    "It looks like batch gradient descent does converge faster than stochastic gradient descent "
   ]
  },
  {
   "cell_type": "code",
   "execution_count": 16,
   "metadata": {},
   "outputs": [],
   "source": [
    "theta = np.array([20.0, 80.0])\n",
    "max_iterations = 100\n",
    "\n",
    "alpha_batch = [0.03, 0.01, 0.3, 0.1]\n",
    "res_cost_batch,res_cost_stoch = [],[]\n",
    "\n",
    "for i in alpha_batch: \n",
    "    batch_equation, cost_batch, params_store_batch = batch_gradient_descent(x_train, y_train, theta, i, max_iterations, \"no\")\n",
    "    stoch_equation, cost_stoch, params_store = stochastic_gradient_descent(x_train, y_train, theta, alpha_stoch, \"no\")\n",
    "    res_cost_batch.append(cost_batch)\n",
    "    res_cost_stoch.append(cost_stoch)\n",
    "    \n",
    "    "
   ]
  },
  {
   "cell_type": "code",
   "execution_count": 17,
   "metadata": {},
   "outputs": [
    {
     "data": {
      "image/png": "[encoded data removed]",
      "text/plain": [
       "<Figure size 432x288 with 1 Axes>"
      ]
     },
     "metadata": {
      "needs_background": "light"
     },
     "output_type": "display_data"
    }
   ],
   "source": [
    "# plot batch learning rate \n",
    "plt.plot(np.arange(max_iterations), res_cost_batch[0], color = 'red', label='Batch: 0.03')\n",
    "plt.plot(np.arange(max_iterations), res_cost_batch[1], color ='blue', label='Batch: 0.01')\n",
    "plt.plot(np.arange(max_iterations), res_cost_batch[2], color ='green', label='Batch: 0.3')\n",
    "plt.plot(np.arange(max_iterations), res_cost_batch[3], color ='purple', label='Batch: 0.1')\n",
    "\n",
    "plt.ylim(0,10 )\n",
    "\n",
    "plt.xlabel('Iteration')\n",
    "plt.ylabel('Cost')\n",
    "plt.legend()\n",
    "plt.show()"
   ]
  },
  {
   "cell_type": "code",
   "execution_count": 18,
   "metadata": {},
   "outputs": [
    {
     "data": {
      "image/png": "[encoded data removed]",
      "text/plain": [
       "<Figure size 432x288 with 1 Axes>"
      ]
     },
     "metadata": {
      "needs_background": "light"
     },
     "output_type": "display_data"
    }
   ],
   "source": [
    "# Plot stochastic learning rate \n",
    "plt.plot(np.arange(len(cost)), res_cost_stoch[0], color ='red', label='Stoch: 0.03')\n",
    "plt.plot(np.arange(len(cost)), res_cost_stoch[1], color ='blue', label='Stoch: 0.01')\n",
    "plt.plot(np.arange(len(cost)), res_cost_stoch[2], color ='green', label='Stoch: 0.3')\n",
    "plt.plot(np.arange(len(cost)), res_cost_stoch[3], color ='purple', label='Stoch: 0.1')\n",
    "\n",
    "\n",
    "plt.ylim(0,10) \n",
    "\n",
    "plt.xlabel('Iteration')\n",
    "plt.ylabel('Cost')\n",
    "plt.legend()\n",
    "plt.show()"
   ]
  },
  {
   "cell_type": "markdown",
   "metadata": {},
   "source": [
    "It looks like 0.1 is the best learning rate for both models "
   ]
  }
 ],
 "metadata": {
  "kernelspec": {
   "display_name": "Python 3",
   "language": "python",
   "name": "python3"
  },
  "language_info": {
   "codemirror_mode": {
    "name": "ipython",
    "version": 3
   },
   "file_extension": ".py",
   "mimetype": "text/x-python",
   "name": "python",
   "nbconvert_exporter": "python",
   "pygments_lexer": "ipython3",
   "version": "3.7.1"
  }
 },
 "nbformat": 4,
 "nbformat_minor": 2
}
