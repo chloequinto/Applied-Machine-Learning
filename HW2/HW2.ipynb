{
 "cells": [
  {
   "cell_type": "markdown",
   "metadata": {},
   "source": [
    "Chloe Quinto    \n",
    "CPE 695/WS  \n",
    "HW2   \n",
    "February 12, 2020   \n",
    "I pledge my honor that I have abided by the Stevens Honor System - Chloe Quinto \n"
   ]
  },
  {
   "cell_type": "markdown",
   "metadata": {},
   "source": [
    "---\n",
    "\n",
    "Some notes for myself: \n",
    "\n",
    "Since the Cost Function J(Ɵ) calculates errors of our model, \n",
    "so we tend to decrease it to the minimum value possible because the lowest the error, \n",
    "the more robust and efficient is our model.\n",
    "\n",
    "---"
   ]
  },
  {
   "cell_type": "code",
   "execution_count": 1,
   "metadata": {},
   "outputs": [
    {
     "data": {
      "image/png": "[encoded data removed]",
      "text/plain": [
       "<Figure size 432x288 with 1 Axes>"
      ]
     },
     "metadata": {
      "needs_background": "light"
     },
     "output_type": "display_data"
    }
   ],
   "source": [
    "\"\"\"\n",
    "In this problem, we write a program to find the coefficients for a linear regression model for the dataset\n",
    "provided by (data2.txt). Assume a linear model: y = w0 + w1* x\n",
    "\"\"\"\n",
    "\n",
    "import pandas as pd\n",
    "import numpy as np\n",
    "import matplotlib.pyplot as plt\n",
    "\n",
    "\n",
    "data = pd.read_csv(\"data2.txt\", header = None)\n",
    "\n",
    "x = np.array(data[0])\n",
    "y = np.array(data[1])\n",
    "\n",
    "plt.scatter(x,y,color='red')\n",
    "plt.title(\"Dataset\")\n",
    "plt.xlabel(\"1st Column\")\n",
    "plt.ylabel(\"2nd Column\")\n",
    "plt.show()\n"
   ]
  },
  {
   "cell_type": "markdown",
   "metadata": {},
   "source": [
    "---"
   ]
  },
  {
   "cell_type": "markdown",
   "metadata": {},
   "source": [
    "We need to find the normal equation given: \n",
    "\n",
    "<img src=\"images/normalEquation.png\">\n"
   ]
  },
  {
   "cell_type": "code",
   "execution_count": 2,
   "metadata": {},
   "outputs": [],
   "source": [
    "#add an additional column of 1s in our x column and we call this additional matrix as x_bias.\n",
    "x_bias = np.ones((97,1))\n",
    "x = np.reshape(x,(97,1))\n",
    "x = np.append(x_bias,x,axis=1)"
   ]
  },
  {
   "cell_type": "markdown",
   "metadata": {},
   "source": [
    "Let's try to find our transpose, dotproduct, and inverse\n",
    "\n",
    "<img src=\"images/firstHalf.png\">"
   ]
  },
  {
   "cell_type": "code",
   "execution_count": 3,
   "metadata": {},
   "outputs": [],
   "source": [
    "x_transpose = np.transpose(x) #x^T\n",
    "x_transpose_dot_x = x_transpose.dot(x) #x^T*x\n",
    "firstHalf = np.linalg.inv(x_transpose_dot_x)# (x^T*x)^-1"
   ]
  },
  {
   "cell_type": "code",
   "execution_count": 4,
   "metadata": {},
   "outputs": [
    {
     "data": {
      "text/plain": [
       "array([[ 0.05662112, -0.00567561],\n",
       "       [-0.00567561,  0.00069556]])"
      ]
     },
     "execution_count": 4,
     "metadata": {},
     "output_type": "execute_result"
    }
   ],
   "source": [
    "firstHalf"
   ]
  },
  {
   "cell_type": "markdown",
   "metadata": {},
   "source": [
    "Now we have to take find the transpose and dot product of the second half of the equation\n",
    "\n",
    "<img src = \"images/secondHalf.png\">"
   ]
  },
  {
   "cell_type": "code",
   "execution_count": 5,
   "metadata": {},
   "outputs": [],
   "source": [
    "secondHalf = x_transpose.dot(y) #x^T*y "
   ]
  },
  {
   "cell_type": "code",
   "execution_count": 6,
   "metadata": {},
   "outputs": [
    {
     "data": {
      "text/plain": [
       "array([ 566.3961    , 6336.89842532])"
      ]
     },
     "execution_count": 6,
     "metadata": {},
     "output_type": "execute_result"
    }
   ],
   "source": [
    "secondHalf"
   ]
  },
  {
   "cell_type": "code",
   "execution_count": 7,
   "metadata": {},
   "outputs": [],
   "source": [
    "theta = firstHalf.dot(secondHalf)"
   ]
  },
  {
   "cell_type": "code",
   "execution_count": 8,
   "metadata": {},
   "outputs": [
    {
     "name": "stdout",
     "output_type": "stream",
     "text": [
      "y=-3.8957808783119106 + 1.1930336441895983*x\n"
     ]
    }
   ],
   "source": [
    "thetaOne = theta[0]\n",
    "thetaTwo = theta[1]\n",
    "\n",
    "print(\"y=\" + str(thetaOne) + \" + \"+ str(thetaTwo) + \"*x\")\n",
    "y = thetaOne + thetaTwo*x"
   ]
  },
  {
   "cell_type": "code",
   "execution_count": 9,
   "metadata": {},
   "outputs": [
    {
     "data": {
      "image/png": "[encoded data removed]",
      "text/plain": [
       "<Figure size 432x288 with 1 Axes>"
      ]
     },
     "metadata": {
      "needs_background": "light"
     },
     "output_type": "display_data"
    }
   ],
   "source": [
    "x_original = np.array(data[0])\n",
    "y_original = np.array(data[1])\n",
    "\n",
    "\n",
    "plt.scatter(x_original, y_original, color=\"red\")\n",
    "plt.plot(x,y,color='blue') \n",
    "plt.xlim(4.5)\n",
    "plt.title(\"Dataset\")\n",
    "plt.xlabel(\"1st Column\")\n",
    "plt.ylabel(\"2nd Column\")\n",
    "plt.show()"
   ]
  },
  {
   "cell_type": "markdown",
   "metadata": {},
   "source": [
    "---"
   ]
  },
  {
   "cell_type": "markdown",
   "metadata": {},
   "source": [
    "Gradient Descent using batch AND stochastic modes respectively: \n",
    " - Determine an appropriate termination condition(e.g. when cost function\n",
    "    is less than a threshold, and/or after a given number of iterations)\n",
    " - Print the cost function vs iterations for each mode; compare and disuss batch and stochastic modes in terms of accuracy and the speed of convergence \n",
    " - Choose the best learning rate. For example, you can plot cost function bs. learning rate to determine the best learning ratee "
   ]
  },
  {
   "cell_type": "markdown",
   "metadata": {},
   "source": [
    "What is gradient descent? \n",
    "- The goal of the gradient descent is to minimise a given function which, in our case, is the loss function of the neural network.\n",
    "- In Batch Gradient Descent, all the training data is taken into consideration to take a single step.\n",
    "\n",
    "\n",
    "Batch Gradient Descent\n",
    "- Using all data sets to claculate the gradient and update w\n",
    "\n",
    "Stochastic Gradient Descent \n",
    "- Using one RANDOM sample to calculate the gradient and update w "
   ]
  },
  {
   "cell_type": "code",
   "execution_count": 10,
   "metadata": {},
   "outputs": [
    {
     "name": "stdout",
     "output_type": "stream",
     "text": [
      "Normal Equation: (-3,1)\n",
      "Gradient Descent: (0,0)\n"
     ]
    }
   ],
   "source": [
    "x = np.array(data[0])\n",
    "y = np.array(data[1])\n",
    "x = np.reshape(x,(97,1))\n",
    "y = np.reshape(y,(97,1))\n",
    "\n",
    "\n",
    "x_bias = np.c_[np.ones((97, 1)), x] # add x0 = 1 to each instance\n",
    "\n",
    "theta_best = np.linalg.inv(x_bias.T.dot(x_bias)).dot(x_bias.T).dot(y)\n",
    "\n",
    "print(\"Normal Equation: (\" + str(int(theta_best[0])) + \",\" + str(int(theta_best[1])) + \")\")\n",
    "\n",
    "eta = .01 # learning rate\n",
    "n_iterations = 100\n",
    "m = 97\n",
    "\n",
    "theta = np.random.randn(2,1) # random initialization\n",
    "for iteration in range(n_iterations):\n",
    "    gradients = 2/m * x_bias.T.dot(x_bias.dot(theta) - y)\n",
    "    theta = theta - eta * gradients\n",
    "print(\"Gradient Descent: (\" + str(int(theta[0])) + \",\" + str(int(theta[1])) + \")\")\n"
   ]
  },
  {
   "cell_type": "code",
   "execution_count": 14,
   "metadata": {},
   "outputs": [
    {
     "name": "stdout",
     "output_type": "stream",
     "text": [
      "Learning Rate: 0.01 cost: [0, 0]\n",
      "Learning Rate: 0.02 cost: [-1, 0]\n",
      "Learning Rate: 0.05 cost: [-2, 1]\n",
      "Learning Rate: 0.1 cost: [-2, 1]\n",
      "Learning Rate: 0.2 cost: [-2, 1]\n",
      "Learning Rate: 0.5 cost: [-3, 1]\n",
      "Learning Rate: 1 cost: [-3, 1]\n",
      "Learning Rate: 2 cost: [-3, 1]\n",
      "Learning Rate: 5 cost: [-3, 1]\n"
     ]
    }
   ],
   "source": [
    "learning_rate = [0.01, 0.02, 0.05, 0.1, 0.2, 0.5,1,2,5]\n",
    "theta_values = []\n",
    "theta = np.random.randn(2,1) # random initialization\n",
    "for i in range(len(learning_rate)): \n",
    "    for iteration in range(n_iterations):\n",
    "        gradients = 2/m * x_bias.T.dot(x_bias.dot(theta) - y)\n",
    "        theta = theta - eta * gradients\n",
    "    a = int(theta[0])\n",
    "    b = int(theta[1])\n",
    "    theta_values.append([a,b])\n",
    "    print(\"Learning Rate: \" + str(learning_rate[i]) + \" cost: \" + str([a,b]))"
   ]
  },
  {
   "cell_type": "markdown",
   "metadata": {},
   "source": [
    "Determine the appropriate termination condition (e.g. when cost function is less than the threshold and/or after a given number of iterations \n",
    "                                                )"
   ]
  },
  {
   "cell_type": "code",
   "execution_count": 13,
   "metadata": {},
   "outputs": [
    {
     "data": {
      "text/plain": [
       "[-3, 1]"
      ]
     },
     "execution_count": 13,
     "metadata": {},
     "output_type": "execute_result"
    }
   ],
   "source": [
    "\n",
    "val"
   ]
  },
  {
   "cell_type": "code",
   "execution_count": null,
   "metadata": {},
   "outputs": [],
   "source": []
  },
  {
   "cell_type": "code",
   "execution_count": null,
   "metadata": {},
   "outputs": [],
   "source": []
  }
 ],
 "metadata": {
  "kernelspec": {
   "display_name": "Python 3",
   "language": "python",
   "name": "python3"
  },
  "language_info": {
   "codemirror_mode": {
    "name": "ipython",
    "version": 3
   },
   "file_extension": ".py",
   "mimetype": "text/x-python",
   "name": "python",
   "nbconvert_exporter": "python",
   "pygments_lexer": "ipython3",
   "version": "3.7.1"
  }
 },
 "nbformat": 4,
 "nbformat_minor": 2
}
