{
 "cells": [
  {
   "cell_type": "markdown",
   "metadata": {},
   "source": [
    "Chloe Quinto    \n",
    "CPE 695/WS  \n",
    "HW2   \n",
    "February 12, 2020   \n",
    "I pledge my honor that I have abided by the Stevens Honor System - Chloe Quinto \n"
   ]
  },
  {
   "cell_type": "code",
   "execution_count": 1,
   "metadata": {},
   "outputs": [],
   "source": [
    "import pandas as pd\n",
    "import numpy as np\n",
    "import matplotlib.pyplot as plt\n",
    "from sklearn.model_selection import train_test_split "
   ]
  },
  {
   "cell_type": "code",
   "execution_count": 2,
   "metadata": {},
   "outputs": [
    {
     "data": {
      "image/png": "[encoded data removed]",
      "text/plain": [
       "<Figure size 432x288 with 1 Axes>"
      ]
     },
     "metadata": {
      "needs_background": "light"
     },
     "output_type": "display_data"
    }
   ],
   "source": [
    "\"\"\"\n",
    "In this problem, we write a program to find the coefficients for a linear regression model for the dataset\n",
    "provided by (data2.txt). Assume a linear model: y = w0 + w1* x\n",
    "\"\"\"\n",
    "\n",
    "\n",
    "data = pd.read_csv(\"data2.txt\", header = None)\n",
    "x = np.array(data[0])\n",
    "y = np.array(data[1])\n",
    "\n",
    "plt.scatter(x,y,color='red')\n",
    "plt.title(\"Dataset\")\n",
    "plt.xlabel(\"x\")\n",
    "plt.ylabel(\"y\")\n",
    "plt.show()"
   ]
  },
  {
   "cell_type": "markdown",
   "metadata": {},
   "source": [
    "---"
   ]
  },
  {
   "cell_type": "markdown",
   "metadata": {},
   "source": [
    "### Calculate the Normal Equation "
   ]
  },
  {
   "cell_type": "markdown",
   "metadata": {},
   "source": [
    "<img src=\"images/normalEquation.png\">"
   ]
  },
  {
   "cell_type": "code",
   "execution_count": 3,
   "metadata": {},
   "outputs": [],
   "source": [
    "def normal_equation(x,y):\n",
    "    m = len(x)\n",
    "    x_bias = np.c_[np.ones((m, 1)), x] \n",
    "    \n",
    "    left_equation = np.linalg.inv(x_bias.T.dot(x_bias))\n",
    "    right_equation = (x_bias.T).dot(y)\n",
    "    \n",
    "    theta = left_equation.dot(right_equation)\n",
    "    return theta"
   ]
  },
  {
   "cell_type": "code",
   "execution_count": 4,
   "metadata": {},
   "outputs": [
    {
     "name": "stdout",
     "output_type": "stream",
     "text": [
      "Normal Equation\n",
      "y = -3.8957808783119106 + 1.1930336441895983*x\n"
     ]
    }
   ],
   "source": [
    "a, b = normal_equation(x,y)\n",
    "\n",
    "print(\"Normal Equation\")\n",
    "print(\"y = \" + str(a) + \" + \" + str(b) + \"*x\")\n",
    "\n",
    "y = a+b*x "
   ]
  },
  {
   "cell_type": "code",
   "execution_count": 5,
   "metadata": {},
   "outputs": [
    {
     "data": {
      "image/png": "[encoded data removed]",
      "text/plain": [
       "<Figure size 432x288 with 1 Axes>"
      ]
     },
     "metadata": {
      "needs_background": "light"
     },
     "output_type": "display_data"
    }
   ],
   "source": [
    "x_original = np.array(data[0])\n",
    "y_original = np.array(data[1])\n",
    "\n",
    "\n",
    "plt.scatter(x_original, y_original, color=\"red\")\n",
    "plt.plot(x,y,color='blue') \n",
    "plt.xlim(4.5)\n",
    "plt.title(\"Dataset\")\n",
    "plt.xlabel(\"1st Column\")\n",
    "plt.ylabel(\"2nd Column\")\n",
    "plt.show()"
   ]
  },
  {
   "cell_type": "markdown",
   "metadata": {},
   "source": [
    "---"
   ]
  },
  {
   "cell_type": "markdown",
   "metadata": {},
   "source": [
    "###  Now we need to find Gradient Descent Using Batch and Stochastic Modes "
   ]
  },
  {
   "cell_type": "code",
   "execution_count": 6,
   "metadata": {},
   "outputs": [],
   "source": [
    "def cost_function(x, y, theta):\n",
    "    #calculates the MSE cost function \n",
    "    num_samples = len(x) \n",
    "    cost_sum = 0.0\n",
    "    for a,b in zip(x, y):\n",
    "        feature_vector = np.array([1.0,a])\n",
    "        cost_sum += (np.dot(theta, feature_vector) - b) ** 2 # (θ^T*x -y)^2\n",
    "    cost = cost_sum / (num_samples * 2.0) # (1/m)Σ(θ^T*x -y)^2\n",
    "    \n",
    "    return cost"
   ]
  },
  {
   "cell_type": "markdown",
   "metadata": {},
   "source": [
    "Batch Gradient Descent \n",
    "<img src = \"./images/gradient_equation.png\">"
   ]
  },
  {
   "cell_type": "code",
   "execution_count": 7,
   "metadata": {},
   "outputs": [],
   "source": [
    "def batch_gradient_descent(x, y, theta, alpha, max_iter, show):\n",
    "    # calculates the batch gradient descent \n",
    "    \n",
    "    iteration,m = 0,len(x)\n",
    "    cost = np.zeros(max_iter)\n",
    "    equation = np.zeros([2, max_iter])\n",
    "    \n",
    "    for i in range(1,max_iter):\n",
    "        cost[iteration] = cost_function(x, y, theta)\n",
    "        equation[:, iteration] = theta\n",
    "        \n",
    "        if (show == \"yes\"):\n",
    "            print(\"iteration: \" + str(iteration) + \" cost: \" + str(cost[iteration]))\n",
    "\n",
    "        \n",
    "        for a,b in zip(x, y):\n",
    "         \n",
    "            feature_vector = np.array([1.0, a]) #red part of the equation\n",
    "            y_hat = np.dot(theta, np.array([1.0, a])) #green part of the equation\n",
    "            gradient = feature_vector * (b - y_hat) #yellow part of the equation\n",
    "            theta += alpha * gradient/m  \n",
    "            \n",
    "        iteration += 1\n",
    "    \n",
    "    return theta, cost, equation\n",
    "\n"
   ]
  },
  {
   "cell_type": "markdown",
   "metadata": {},
   "source": [
    "We need to split our data into training and testing \n",
    "\n",
    "We can use the function train_test_split() to split our data and specify the test size to 20% of the data "
   ]
  },
  {
   "cell_type": "code",
   "execution_count": 8,
   "metadata": {},
   "outputs": [],
   "source": [
    "x_train, x_test, y_train, y_test = train_test_split(x,y, test_size = 0.20)"
   ]
  },
  {
   "cell_type": "code",
   "execution_count": 9,
   "metadata": {},
   "outputs": [
    {
     "name": "stdout",
     "output_type": "stream",
     "text": [
      "iteration: 0 cost: 288369.54776057485\n",
      "iteration: 1 cost: 47866.53095422904\n",
      "iteration: 2 cost: 7946.153776734626\n",
      "iteration: 3 cost: 1330.2160023558536\n",
      "iteration: 4 cost: 237.93123877827713\n",
      "iteration: 5 cost: 59.2525448057372\n",
      "iteration: 6 cost: 30.660223178815247\n",
      "iteration: 7 cost: 26.305967152132624\n",
      "iteration: 8 cost: 25.694172366196177\n",
      "iteration: 9 cost: 25.588458180592774\n",
      "iteration: 10 cost: 25.519922786178235\n",
      "iteration: 11 cost: 25.43867090645415\n",
      "iteration: 12 cost: 25.347810650607425\n",
      "iteration: 13 cost: 25.25249529814857\n",
      "iteration: 14 cost: 25.155466843281943\n",
      "iteration: 15 cost: 25.057947344724607\n",
      "iteration: 16 cost: 24.96045094299324\n",
      "iteration: 17 cost: 24.86318889269806\n",
      "iteration: 18 cost: 24.766246753431773\n",
      "iteration: 19 cost: 24.66965853970815\n",
      "iteration: 20 cost: 24.57343723063635\n",
      "iteration: 21 cost: 24.477587239362336\n",
      "iteration: 22 cost: 24.38210949557033\n",
      "iteration: 23 cost: 24.28700351480177\n",
      "iteration: 24 cost: 24.19226824058282\n",
      "iteration: 25 cost: 24.097902387065012\n",
      "iteration: 26 cost: 24.00390457841899\n",
      "iteration: 27 cost: 23.910273405533562\n",
      "iteration: 28 cost: 23.817007449070214\n",
      "iteration: 29 cost: 23.724105288829723\n",
      "iteration: 30 cost: 23.631565507550064\n",
      "iteration: 31 cost: 23.539386692438597\n",
      "iteration: 32 cost: 23.447567435782734\n",
      "iteration: 33 cost: 23.356106335185682\n",
      "iteration: 34 cost: 23.265001993649655\n",
      "iteration: 35 cost: 23.174253019597014\n",
      "iteration: 36 cost: 23.083858026866412\n",
      "iteration: 37 cost: 22.99381563469869\n",
      "iteration: 38 cost: 22.904124467718585\n",
      "iteration: 39 cost: 22.81478315591487\n",
      "iteration: 40 cost: 22.72579033462009\n",
      "iteration: 41 cost: 22.637144644489616\n",
      "iteration: 42 cost: 22.548844731481157\n",
      "iteration: 43 cost: 22.460889246834146\n",
      "iteration: 44 cost: 22.373276847048952\n",
      "iteration: 45 cost: 22.286006193866598\n",
      "iteration: 46 cost: 22.199075954248073\n",
      "iteration: 47 cost: 22.112484800354228\n",
      "iteration: 48 cost: 22.02623140952531\n",
      "iteration: 49 cost: 21.94031446426083\n",
      "iteration: 50 cost: 21.854732652199406\n",
      "iteration: 51 cost: 21.76948466609875\n",
      "iteration: 52 cost: 21.68456920381567\n",
      "iteration: 53 cost: 21.599984968286268\n",
      "iteration: 54 cost: 21.51573066750602\n",
      "iteration: 55 cost: 21.431805014510015\n",
      "iteration: 56 cost: 21.348206727353425\n",
      "iteration: 57 cost: 21.264934529091878\n",
      "iteration: 58 cost: 21.181987147761852\n",
      "iteration: 59 cost: 21.099363316361426\n",
      "iteration: 60 cost: 21.01706177283076\n",
      "iteration: 61 cost: 20.935081260032927\n",
      "iteration: 62 cost: 20.8534205257346\n",
      "iteration: 63 cost: 20.772078322587134\n",
      "iteration: 64 cost: 20.691053408107205\n",
      "iteration: 65 cost: 20.61034454465812\n",
      "iteration: 66 cost: 20.529950499430768\n",
      "iteration: 67 cost: 20.449870044424756\n",
      "iteration: 68 cost: 20.370101956429743\n",
      "iteration: 69 cost: 20.290645017006778\n",
      "iteration: 70 cost: 20.211498012469562\n",
      "iteration: 71 cost: 20.132659733866\n",
      "iteration: 72 cost: 20.054128976959717\n",
      "iteration: 73 cost: 19.975904542211634\n",
      "iteration: 74 cost: 19.897985234761695\n",
      "iteration: 75 cost: 19.820369864410598\n",
      "iteration: 76 cost: 19.743057245601655\n",
      "iteration: 77 cost: 19.666046197402512\n",
      "iteration: 78 cost: 19.589335543487337\n",
      "iteration: 79 cost: 19.512924112118746\n",
      "iteration: 80 cost: 19.436810736129868\n",
      "iteration: 81 cost: 19.360994252906572\n",
      "iteration: 82 cost: 19.285473504369715\n",
      "iteration: 83 cost: 19.210247336957416\n",
      "iteration: 84 cost: 19.135314601607462\n",
      "iteration: 85 cost: 19.060674153739722\n",
      "iteration: 86 cost: 18.986324853238724\n",
      "iteration: 87 cost: 18.912265564436183\n",
      "iteration: 88 cost: 18.838495156093657\n",
      "iteration: 89 cost: 18.76501250138535\n",
      "iteration: 90 cost: 18.691816477880753\n",
      "iteration: 91 cost: 18.618905967527652\n",
      "iteration: 92 cost: 18.546279856634932\n",
      "iteration: 93 cost: 18.473937035855638\n",
      "iteration: 94 cost: 18.40187640016999\n",
      "iteration: 95 cost: 18.33009684886855\n",
      "iteration: 96 cost: 18.258597285535348\n",
      "iteration: 97 cost: 18.187376618031163\n",
      "iteration: 98 cost: 18.11643375847687\n"
     ]
    }
   ],
   "source": [
    "'''\n",
    "Batch Gradient Descent\n",
    "'''\n",
    "theta = np.array([20.0, 80.0])\n",
    "alpha_batch = 0.01\n",
    "max_iterations = 100\n",
    "\n",
    "batch_equation, cost_batch, params_store_batch = batch_gradient_descent(x_train, y_train, theta, alpha_batch, max_iterations, \"yes\")\n"
   ]
  },
  {
   "cell_type": "markdown",
   "metadata": {},
   "source": [
    "Stochastic Gradient Descent\n",
    "\n",
    "Randomize the whole training set. Then, for the update of every parameter, we use only one training example in every iteration\n",
    "\n",
    "<img src = \"./images/gradient_equation.png\">"
   ]
  },
  {
   "cell_type": "code",
   "execution_count": 10,
   "metadata": {},
   "outputs": [],
   "source": [
    "def stochastic_gradient_descent(input_var, output_var, params, alpha, show):\n",
    "    # calculates the stochastic gradient descent \n",
    "    num_samples = len(input_var)\n",
    "    cost = np.zeros(num_samples)\n",
    "    equation = np.zeros([2, num_samples])\n",
    "    \n",
    "    iteration = 0\n",
    "    for x,y in zip(input_var, output_var):\n",
    "        cost[iteration] = cost_function(input_var, output_var, params)\n",
    "        equation[:, iteration] = params\n",
    "        \n",
    "        if (show == \"yes\"):\n",
    "            print(\"iteration: \" + str(iteration) + \" cost: \" + str(cost[iteration]))\n",
    "        \n",
    "        y_hat = np.dot(params, np.array([1.0, x]))\n",
    "        gradient = np.array([1.0, x]) * (y - y_hat)\n",
    "        params += alpha * gradient/num_samples\n",
    "        \n",
    "        iteration += 1\n",
    "            \n",
    "    return params, cost, equation"
   ]
  },
  {
   "cell_type": "code",
   "execution_count": 11,
   "metadata": {},
   "outputs": [
    {
     "name": "stdout",
     "output_type": "stream",
     "text": [
      "iteration: 0 cost: 288369.54776057485\n",
      "iteration: 1 cost: 255774.70342388668\n",
      "iteration: 2 cost: 253857.53978570507\n",
      "iteration: 3 cost: 249012.05760899434\n",
      "iteration: 4 cost: 223399.2199092936\n",
      "iteration: 5 cost: 213433.9339862621\n",
      "iteration: 6 cost: 211028.35919992128\n",
      "iteration: 7 cost: 208103.94398742667\n",
      "iteration: 8 cost: 206253.811203288\n",
      "iteration: 9 cost: 203856.84943847245\n",
      "iteration: 10 cost: 200832.64276525963\n",
      "iteration: 11 cost: 182695.7470110885\n",
      "iteration: 12 cost: 181194.61991626068\n",
      "iteration: 13 cost: 179506.90397310012\n",
      "iteration: 14 cost: 173154.2797446782\n",
      "iteration: 15 cost: 170072.40715783348\n",
      "iteration: 16 cost: 168663.76403783663\n",
      "iteration: 17 cost: 161517.9608836619\n",
      "iteration: 18 cost: 160231.5740907102\n",
      "iteration: 19 cost: 158883.0353821467\n",
      "iteration: 20 cost: 156764.0755264545\n",
      "iteration: 21 cost: 153918.70869365206\n",
      "iteration: 22 cost: 150081.8690049631\n",
      "iteration: 23 cost: 148686.56024177527\n",
      "iteration: 24 cost: 145805.21281064022\n",
      "iteration: 25 cost: 144336.0906526142\n",
      "iteration: 26 cost: 141576.27575337698\n",
      "iteration: 27 cost: 135587.93566852313\n",
      "iteration: 28 cost: 133124.83689474314\n",
      "iteration: 29 cost: 131909.25073787879\n",
      "iteration: 30 cost: 130780.93987146279\n",
      "iteration: 31 cost: 129773.99985237131\n",
      "iteration: 32 cost: 128073.00719721318\n",
      "iteration: 33 cost: 126449.40353295783\n",
      "iteration: 34 cost: 113409.49125106998\n",
      "iteration: 35 cost: 112300.89839210318\n",
      "iteration: 36 cost: 111363.91455447937\n",
      "iteration: 37 cost: 110446.67589279245\n",
      "iteration: 38 cost: 96990.17798437965\n",
      "iteration: 39 cost: 96301.7593456362\n",
      "iteration: 40 cost: 95005.2299152065\n",
      "iteration: 41 cost: 92846.11622526529\n",
      "iteration: 42 cost: 91833.39390733867\n",
      "iteration: 43 cost: 90483.60531685737\n",
      "iteration: 44 cost: 88365.527041244\n",
      "iteration: 45 cost: 87728.59869203642\n",
      "iteration: 46 cost: 85316.9463409712\n",
      "iteration: 47 cost: 84638.22534917571\n",
      "iteration: 48 cost: 82902.76102694448\n",
      "iteration: 49 cost: 82041.58770647956\n",
      "iteration: 50 cost: 81265.50050936607\n",
      "iteration: 51 cost: 80130.48116653025\n",
      "iteration: 52 cost: 79547.21417063435\n",
      "iteration: 53 cost: 78060.94471662052\n",
      "iteration: 54 cost: 73654.8948581104\n",
      "iteration: 55 cost: 73136.2454604208\n",
      "iteration: 56 cost: 72483.19030196442\n",
      "iteration: 57 cost: 70879.16938372179\n",
      "iteration: 58 cost: 69786.85029030635\n",
      "iteration: 59 cost: 67318.40263370845\n",
      "iteration: 60 cost: 66598.97010170665\n",
      "iteration: 61 cost: 65826.93356858935\n",
      "iteration: 62 cost: 65252.016974862665\n",
      "iteration: 63 cost: 59414.88790335424\n",
      "iteration: 64 cost: 58951.18270237649\n",
      "iteration: 65 cost: 57854.69952669802\n",
      "iteration: 66 cost: 57217.99511795833\n",
      "iteration: 67 cost: 55933.01669873042\n",
      "iteration: 68 cost: 54996.53288062943\n",
      "iteration: 69 cost: 54454.669075172984\n",
      "iteration: 70 cost: 53977.390872755015\n",
      "iteration: 71 cost: 53355.94073170338\n",
      "iteration: 72 cost: 52525.08894729738\n",
      "iteration: 73 cost: 51726.660270822715\n",
      "iteration: 74 cost: 51163.2700470076\n",
      "iteration: 75 cost: 50797.90534491663\n",
      "iteration: 76 cost: 50438.81256997009\n"
     ]
    }
   ],
   "source": [
    "'''\n",
    "Stochastic Gradient Descent\n",
    "'''\n",
    "theta = np.array([20.0, 80.0])\n",
    "alpha_stoch = 0.01\n",
    "stoch_equation, cost, params_store = stochastic_gradient_descent(x_train, y_train, theta, alpha_stoch, \"yes\")\n"
   ]
  },
  {
   "cell_type": "markdown",
   "metadata": {},
   "source": [
    "### Discussion\n",
    "\n",
    "\n",
    "1. Determine an appropriate termination condition (e.g. when the cost function is less than a threshold and/or given number of iterations \n",
    "    * An appropriate termination condition is when the cost function is minimized or 0\n",
    "    * I set the number of iterations to be a 100 \n",
    "    \n",
    "---\n",
    "2. Print the cost function vs. iterations for each mode. Compare and discuss batch and stochastic modes in terms of the accuracy and the speed of convergence. \n",
    "    * It looks like the batch gradient descent is more accurate than the stochastic gradient descent. But let's look at the RMS ***(check below)*** \n",
    "    * After checking the RMS, it looks like the Batch RMS is lower therefore more accurate. \n",
    "    * Let's check for convergence ***(check below)***\n",
    "    * It looks like Batch Gradient Descent converges faster than Stochastic Gradient Descent \n",
    "\n",
    "---\n",
    "3. Choose the best learning rate. For example, you can plot cost function vs. learning rate to determine the best learning rate. \n",
    "    * It looks like 0.1 is the best learning rate for both since it converges faster to the minimum ***(check below)*** \n",
    "    * You can run the notebook again with 0.1 as alpha and you would see that it is the best learning rate \n"
   ]
  },
  {
   "cell_type": "code",
   "execution_count": 12,
   "metadata": {},
   "outputs": [
    {
     "name": "stdout",
     "output_type": "stream",
     "text": [
      "Batch RMS: 4.910067406742262\n",
      "Stochastic RMS: 254.4763761319779\n"
     ]
    }
   ],
   "source": [
    "rms_batch = np.sqrt(np.mean(np.square(batch_equation[0] + batch_equation[1]*x_test - y_test)))\n",
    "rms_stochastic = np.sqrt(np.mean(np.square(stoch_equation[0] + stoch_equation[1]*x_test - y_test)))\n",
    "print(\"Batch RMS: \" + str(rms_batch))\n",
    "print(\"Stochastic RMS: \" + str(rms_stochastic))"
   ]
  },
  {
   "cell_type": "markdown",
   "metadata": {},
   "source": [
    "Therefore, the batch gradient descent is more accurate. "
   ]
  },
  {
   "cell_type": "code",
   "execution_count": 13,
   "metadata": {},
   "outputs": [
    {
     "data": {
      "image/png": "[encoded data removed]",
      "text/plain": [
       "<Figure size 432x288 with 1 Axes>"
      ]
     },
     "metadata": {
      "needs_background": "light"
     },
     "output_type": "display_data"
    }
   ],
   "source": [
    "plt.scatter(x_test, y_test)\n",
    "plt.plot(x_test, batch_equation[0] + batch_equation[1]*x_test, color = 'green', label='batch')\n",
    "plt.plot(x_test, stoch_equation[0] + stoch_equation[1]*x_test, color ='red', label='stochastic')\n",
    "plt.xlabel('x')\n",
    "plt.ylabel('y')\n",
    "plt.legend()\n",
    "plt.show()"
   ]
  },
  {
   "cell_type": "markdown",
   "metadata": {},
   "source": [
    "Next let's find which gradient descent converges faster"
   ]
  },
  {
   "cell_type": "code",
   "execution_count": 14,
   "metadata": {},
   "outputs": [
    {
     "data": {
      "image/png": "[encoded data removed]",
      "text/plain": [
       "<Figure size 432x288 with 1 Axes>"
      ]
     },
     "metadata": {
      "needs_background": "light"
     },
     "output_type": "display_data"
    }
   ],
   "source": [
    "plt.plot(np.arange(max_iterations), cost_batch, color = 'red', label='batch')\n",
    "plt.plot(np.arange(len(cost)), cost, color = 'green', label='stochastic')\n",
    "plt.xlabel('Iteration')\n",
    "plt.ylabel('Cost')\n",
    "plt.legend()\n",
    "plt.show()"
   ]
  },
  {
   "cell_type": "code",
   "execution_count": 15,
   "metadata": {},
   "outputs": [
    {
     "name": "stdout",
     "output_type": "stream",
     "text": [
      "Batch Gradient Descent: 0.0\n",
      "Stochastic Gradient Descent: 50438.81256997009\n"
     ]
    }
   ],
   "source": [
    "print(\"Batch Gradient Descent: \" +  str(np.min(cost_batch)))\n",
    "print(\"Stochastic Gradient Descent: \" +  str(np.min(cost)))"
   ]
  },
  {
   "cell_type": "markdown",
   "metadata": {},
   "source": [
    "It looks like batch gradient descent does converge faster than stochastic gradient descent "
   ]
  },
  {
   "cell_type": "code",
   "execution_count": 16,
   "metadata": {},
   "outputs": [],
   "source": [
    "theta = np.array([20.0, 80.0])\n",
    "max_iterations = 100\n",
    "\n",
    "alpha_batch = [0.03, 0.01, 0.3, 0.1]\n",
    "res_cost_batch,res_cost_stoch = [],[]\n",
    "\n",
    "for i in alpha_batch: \n",
    "    batch_equation, cost_batch, params_store_batch = batch_gradient_descent(x_train, y_train, theta, i, max_iterations, \"no\")\n",
    "    stoch_equation, cost_stoch, params_store = stochastic_gradient_descent(x_train, y_train, theta, alpha_stoch, \"no\")\n",
    "    res_cost_batch.append(cost_batch)\n",
    "    res_cost_stoch.append(cost_stoch)\n",
    "    \n",
    "    "
   ]
  },
  {
   "cell_type": "code",
   "execution_count": 17,
   "metadata": {},
   "outputs": [
    {
     "data": {
      "image/png": "[encoded data removed]",
      "text/plain": [
       "<Figure size 432x288 with 1 Axes>"
      ]
     },
     "metadata": {
      "needs_background": "light"
     },
     "output_type": "display_data"
    }
   ],
   "source": [
    "# plot batch learning rate \n",
    "plt.plot(np.arange(max_iterations), res_cost_batch[0], color = 'red', label='Batch: 0.03')\n",
    "plt.plot(np.arange(max_iterations), res_cost_batch[1], color ='blue', label='Batch: 0.01')\n",
    "plt.plot(np.arange(max_iterations), res_cost_batch[2], color ='green', label='Batch: 0.3')\n",
    "plt.plot(np.arange(max_iterations), res_cost_batch[3], color ='purple', label='Batch: 0.1')\n",
    "\n",
    "plt.ylim(0,10 )\n",
    "\n",
    "plt.xlabel('Iteration')\n",
    "plt.ylabel('Cost')\n",
    "plt.legend()\n",
    "plt.show()"
   ]
  },
  {
   "cell_type": "code",
   "execution_count": 18,
   "metadata": {},
   "outputs": [
    {
     "data": {
      "image/png": "[encoded data removed]",
      "text/plain": [
       "<Figure size 432x288 with 1 Axes>"
      ]
     },
     "metadata": {
      "needs_background": "light"
     },
     "output_type": "display_data"
    }
   ],
   "source": [
    "# Plot stochastic learning rate \n",
    "plt.plot(np.arange(len(cost)), res_cost_stoch[0], color ='red', label='Stoch: 0.03')\n",
    "plt.plot(np.arange(len(cost)), res_cost_stoch[1], color ='blue', label='Stoch: 0.01')\n",
    "plt.plot(np.arange(len(cost)), res_cost_stoch[2], color ='green', label='Stoch: 0.3')\n",
    "plt.plot(np.arange(len(cost)), res_cost_stoch[3], color ='purple', label='Stoch: 0.1')\n",
    "\n",
    "\n",
    "plt.ylim(0,10) \n",
    "\n",
    "plt.xlabel('Iteration')\n",
    "plt.ylabel('Cost')\n",
    "plt.legend()\n",
    "plt.show()"
   ]
  },
  {
   "cell_type": "markdown",
   "metadata": {},
   "source": [
    "It looks like 0.1 is the best learning rate for both models "
   ]
  }
 ],
 "metadata": {
  "kernelspec": {
   "display_name": "Python 3",
   "language": "python",
   "name": "python3"
  },
  "language_info": {
   "codemirror_mode": {
    "name": "ipython",
    "version": 3
   },
   "file_extension": ".py",
   "mimetype": "text/x-python",
   "name": "python",
   "nbconvert_exporter": "python",
   "pygments_lexer": "ipython3",
   "version": "3.7.1"
  }
 },
 "nbformat": 4,
 "nbformat_minor": 2
}
