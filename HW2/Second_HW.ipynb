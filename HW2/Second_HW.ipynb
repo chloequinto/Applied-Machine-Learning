{
 "cells": [
  {
   "cell_type": "markdown",
   "metadata": {},
   "source": [
    "Chloe Quinto    \n",
    "CPE 695/WS  \n",
    "HW2   \n",
    "February 12, 2020   \n",
    "I pledge my honor that I have abided by the Stevens Honor System - Chloe Quinto \n"
   ]
  },
  {
   "cell_type": "code",
   "execution_count": 1,
   "metadata": {},
   "outputs": [],
   "source": [
    "import pandas as pd\n",
    "import numpy as np\n",
    "import matplotlib.pyplot as plt\n",
    "from sklearn.model_selection import train_test_split "
   ]
  },
  {
   "cell_type": "code",
   "execution_count": 2,
   "metadata": {},
   "outputs": [
    {
     "data": {
      "image/png": "[encoded data removed]",
      "text/plain": [
       "<Figure size 432x288 with 1 Axes>"
      ]
     },
     "metadata": {
      "needs_background": "light"
     },
     "output_type": "display_data"
    }
   ],
   "source": [
    "\"\"\"\n",
    "In this problem, we write a program to find the coefficients for a linear regression model for the dataset\n",
    "provided by (data2.txt). Assume a linear model: y = w0 + w1* x\n",
    "\"\"\"\n",
    "\n",
    "\n",
    "data = pd.read_csv(\"data2.txt\", header = None)\n",
    "\n",
    "x = np.array(data[0])\n",
    "y = np.array(data[1])\n",
    "\n",
    "plt.scatter(x,y,color='red')\n",
    "plt.title(\"Dataset\")\n",
    "plt.xlabel(\"x\")\n",
    "plt.ylabel(\"y\")\n",
    "plt.show()"
   ]
  },
  {
   "cell_type": "markdown",
   "metadata": {},
   "source": [
    "---"
   ]
  },
  {
   "cell_type": "markdown",
   "metadata": {},
   "source": [
    "### Calculate the Normal Equation "
   ]
  },
  {
   "cell_type": "markdown",
   "metadata": {},
   "source": [
    "<img src=\"images/normalEquation.png\">"
   ]
  },
  {
   "cell_type": "code",
   "execution_count": 3,
   "metadata": {},
   "outputs": [],
   "source": [
    "def normal_equation(x,y):\n",
    "    m = len(x)\n",
    "    x_bias = np.c_[np.ones((m, 1)), x] \n",
    "    \n",
    "    left_equation = np.linalg.inv(x_bias.T.dot(x_bias))\n",
    "    right_equation = (x_bias.T).dot(y)\n",
    "    \n",
    "    theta = left_equation.dot(right_equation)\n",
    "    return theta"
   ]
  },
  {
   "cell_type": "code",
   "execution_count": 4,
   "metadata": {},
   "outputs": [
    {
     "name": "stdout",
     "output_type": "stream",
     "text": [
      "Normal Equation\n",
      "y = -3.8957808783119106 + 1.1930336441895983*x\n"
     ]
    }
   ],
   "source": [
    "a, b = normal_equation(x,y)\n",
    "\n",
    "print(\"Normal Equation\")\n",
    "print(\"y = \" + str(a) + \" + \" + str(b) + \"*x\")\n",
    "\n",
    "y = a+b*x "
   ]
  },
  {
   "cell_type": "code",
   "execution_count": 5,
   "metadata": {},
   "outputs": [
    {
     "data": {
      "image/png": "[encoded data removed]",
      "text/plain": [
       "<Figure size 432x288 with 1 Axes>"
      ]
     },
     "metadata": {
      "needs_background": "light"
     },
     "output_type": "display_data"
    }
   ],
   "source": [
    "x_original = np.array(data[0])\n",
    "y_original = np.array(data[1])\n",
    "\n",
    "\n",
    "plt.scatter(x_original, y_original, color=\"red\")\n",
    "plt.plot(x,y,color='blue') \n",
    "plt.xlim(4.5)\n",
    "plt.title(\"Dataset\")\n",
    "plt.xlabel(\"1st Column\")\n",
    "plt.ylabel(\"2nd Column\")\n",
    "plt.show()"
   ]
  },
  {
   "cell_type": "markdown",
   "metadata": {},
   "source": [
    "---"
   ]
  },
  {
   "cell_type": "markdown",
   "metadata": {},
   "source": [
    "###  Now we need to find Gradient Descent Using Batch and Stochastic Modes "
   ]
  },
  {
   "cell_type": "code",
   "execution_count": 6,
   "metadata": {},
   "outputs": [],
   "source": [
    "def cost_function(x, y, theta):\n",
    "    #calculates the MSE cost function \n",
    "    num_samples = len(x) \n",
    "    cost_sum = 0.0\n",
    "    for a,b in zip(x, y):\n",
    "        feature_vector = np.array([1.0,a])\n",
    "        cost_sum += (np.dot(theta, feature_vector) - b) ** 2 # (θ^T*x -y)^2\n",
    "    cost = cost_sum / (num_samples * 2.0) # (1/m)Σ(θ^T*x -y)^2\n",
    "    \n",
    "    return cost"
   ]
  },
  {
   "cell_type": "code",
   "execution_count": 7,
   "metadata": {},
   "outputs": [],
   "source": [
    "def batch_gradient_descent(x, y, theta, alpha, max_iter):\n",
    "    # calculates the batch gradient descent \n",
    "    \n",
    "    iteration,m = 0,len(x)\n",
    "    cost = np.zeros(max_iter)\n",
    "    params_store = np.zeros([2, max_iter])\n",
    "    \n",
    "    for i in range(1,max_iter):\n",
    "        cost[iteration] = cost_function(x, y, theta)\n",
    "        params_store[:, iteration] = theta\n",
    "        \n",
    "        print(\"iteration: \" + str(iteration) + \" cost: \" + str(cost[iteration]))\n",
    "        \n",
    "        for a,b in zip(x, y):\n",
    "            feature_vector = np.array([1.0, a]) \n",
    "            y_hat = np.dot(theta, np.array([1.0, a])) \n",
    "            gradient = feature_vector * (b - y_hat)\n",
    "            theta += alpha * gradient/m\n",
    "            \n",
    "        iteration += 1\n",
    "    \n",
    "    return theta, cost, params_store\n",
    "\n"
   ]
  },
  {
   "cell_type": "code",
   "execution_count": 8,
   "metadata": {},
   "outputs": [],
   "source": [
    "'''\n",
    "We need to split our data into training and testing \n",
    "\n",
    "We can use the function train_test_split() to split our data and specify the test size to extract \n",
    "'''\n",
    "x_train, x_test, y_train, y_test = train_test_split(x,y, test_size = 0.20)\n"
   ]
  },
  {
   "cell_type": "code",
   "execution_count": 9,
   "metadata": {},
   "outputs": [
    {
     "name": "stdout",
     "output_type": "stream",
     "text": [
      "iteration: 0 cost: 260689.54800520284\n",
      "iteration: 1 cost: 222195.24896783347\n",
      "iteration: 2 cost: 189385.55536611506\n",
      "iteration: 3 cost: 161421.00387924552\n",
      "iteration: 4 cost: 137586.09695319275\n",
      "iteration: 5 cost: 117270.99647807234\n",
      "iteration: 6 cost: 99955.92080187995\n",
      "iteration: 7 cost: 85197.84587292324\n",
      "iteration: 8 cost: 72619.17025515348\n",
      "iteration: 9 cost: 61898.054006917526\n",
      "iteration: 10 cost: 52760.184239983166\n",
      "iteration: 11 cost: 44971.756677766585\n",
      "iteration: 12 cost: 38333.4936434276\n",
      "iteration: 13 cost: 32675.545425895947\n",
      "iteration: 14 cost: 27853.14457340797\n",
      "iteration: 15 cost: 23742.90192803453\n",
      "iteration: 16 cost: 20239.649633840436\n",
      "iteration: 17 cost: 17253.75034582218\n",
      "iteration: 18 cost: 14708.803794676658\n",
      "iteration: 19 cost: 12539.69202894135\n",
      "iteration: 20 cost: 10690.913321225195\n",
      "iteration: 21 cost: 9115.16211082365\n",
      "iteration: 22 cost: 7772.11864994005\n",
      "iteration: 23 cost: 6627.4173860798255\n",
      "iteration: 24 cost: 5651.76768621475\n",
      "iteration: 25 cost: 4820.204406036572\n",
      "iteration: 26 cost: 4111.449129755684\n",
      "iteration: 27 cost: 3507.365737449975\n",
      "iteration: 28 cost: 2992.4963703766407\n",
      "iteration: 29 cost: 2553.6659216748367\n",
      "iteration: 30 cost: 2179.644933137553\n",
      "iteration: 31 cost: 1860.8622730753034\n",
      "iteration: 32 cost: 1589.1602439653734\n",
      "iteration: 33 cost: 1357.58585416541\n",
      "iteration: 34 cost: 1160.2129132444725\n",
      "iteration: 35 cost: 991.990399121634\n",
      "iteration: 36 cost: 848.6132173792118\n",
      "iteration: 37 cost: 726.4120460329572\n",
      "iteration: 38 cost: 622.2594473528605\n",
      "iteration: 39 cost: 533.4898445296285\n",
      "iteration: 40 cost: 457.83131572173016\n",
      "iteration: 41 cost: 393.34746037253495\n",
      "iteration: 42 cost: 338.38785039223217\n",
      "iteration: 43 cost: 291.5457984484409\n",
      "iteration: 44 cost: 251.6223628225059\n",
      "iteration: 45 cost: 217.59566785532726\n",
      "iteration: 46 cost: 188.59475500980722\n",
      "iteration: 47 cost: 163.87729549626965\n",
      "iteration: 48 cost: 142.8105942083931\n",
      "iteration: 49 cost: 124.85539892815423\n",
      "iteration: 50 cost: 109.55210053357979\n",
      "iteration: 51 cost: 96.50897111914902\n",
      "iteration: 52 cost: 85.39213908070666\n",
      "iteration: 53 cost: 75.91704465880362\n",
      "iteration: 54 cost: 67.84115731355534\n",
      "iteration: 55 cost: 60.95776858955324\n",
      "iteration: 56 cost: 55.09070164712363\n",
      "iteration: 57 cost: 50.08980209035745\n",
      "iteration: 58 cost: 45.82709471291735\n",
      "iteration: 59 cost: 42.19350782113998\n",
      "iteration: 60 cost: 39.096081316330725\n",
      "iteration: 61 cost: 36.455587095957824\n",
      "iteration: 62 cost: 34.20450088339007\n",
      "iteration: 63 cost: 32.285273587808526\n",
      "iteration: 64 cost: 30.64885796003841\n",
      "iteration: 65 cost: 29.253452842360808\n",
      "iteration: 66 cost: 28.063432878037315\n",
      "iteration: 67 cost: 27.04843629174468\n",
      "iteration: 68 cost: 26.18258739680136\n",
      "iteration: 69 cost: 25.443833932455274\n",
      "iteration: 70 cost: 24.81338227279748\n",
      "iteration: 71 cost: 24.275216053249938\n",
      "iteration: 72 cost: 23.815685895124467\n",
      "iteration: 73 cost: 23.42315972807746\n",
      "iteration: 74 cost: 23.0877247609437\n",
      "iteration: 75 cost: 22.800933473095455\n",
      "iteration: 76 cost: 22.555587124958535\n",
      "iteration: 77 cost: 22.34555124644592\n",
      "iteration: 78 cost: 22.165598380411673\n",
      "iteration: 79 cost: 22.01127405571727\n",
      "iteration: 80 cost: 21.878782558989535\n",
      "iteration: 81 cost: 21.764889580843697\n",
      "iteration: 82 cost: 21.66683924421095\n",
      "iteration: 83 cost: 21.58228339049843\n",
      "iteration: 84 cost: 21.509221313039195\n",
      "iteration: 85 cost: 21.44594839468708\n",
      "iteration: 86 cost: 21.39101233431936\n",
      "iteration: 87 cost: 21.343175841260997\n",
      "iteration: 88 cost: 21.301384842206343\n",
      "iteration: 89 cost: 21.26474138632626\n",
      "iteration: 90 cost: 21.232480554521064\n",
      "iteration: 91 cost: 21.203950781288913\n",
      "iteration: 92 cost: 21.17859708504883\n",
      "iteration: 93 cost: 21.155946777225623\n",
      "iteration: 94 cost: 21.13559728387153\n",
      "iteration: 95 cost: 21.117205767695317\n",
      "iteration: 96 cost: 21.100480284474695\n",
      "iteration: 97 cost: 21.085172247124472\n",
      "iteration: 98 cost: 21.071070004184946\n"
     ]
    }
   ],
   "source": [
    "'''\n",
    "Batch Gradient Descent\n",
    "'''\n",
    "theta = np.array([20.0, 80.0])\n",
    "alpha_batch = 1e-3\n",
    "max_iterations = 100\n",
    "\n",
    "params_hat_batch, cost_batch, params_store_batch =batch_gradient_descent(x_train, y_train, theta, alpha_batch, max_iterations)\n"
   ]
  },
  {
   "cell_type": "code",
   "execution_count": 10,
   "metadata": {},
   "outputs": [],
   "source": [
    "def lin_reg_stoch_gradient_descent(input_var, output_var, params, alpha):\n",
    "    \"\"\"Compute the params for linear regression using stochastic gradient descent\"\"\"\n",
    "    num_samples = len(input_var)\n",
    "    cost = np.zeros(num_samples)\n",
    "    params_store = np.zeros([2, num_samples])\n",
    "    \n",
    "    iteration = 0\n",
    "    for x,y in zip(input_var, output_var):\n",
    "        cost[iteration] = cost_function(input_var, output_var, params)\n",
    "        params_store[:, iteration] = params\n",
    "        \n",
    "        print(\"iteration: \" + str(iteration) + \" cost: \" + str(cost[iteration]))\n",
    "        \n",
    "        y_hat = np.dot(params, np.array([1.0, x]))\n",
    "        gradient = np.array([1.0, x]) * (y - y_hat)\n",
    "        params += alpha * gradient/num_samples\n",
    "        \n",
    "        iteration += 1\n",
    "            \n",
    "    return params, cost, params_store"
   ]
  },
  {
   "cell_type": "code",
   "execution_count": 11,
   "metadata": {},
   "outputs": [
    {
     "name": "stdout",
     "output_type": "stream",
     "text": [
      "iteration: 0 cost: 260689.54800520284\n",
      "iteration: 1 cost: 260509.3782971971\n",
      "iteration: 2 cost: 260291.180418377\n",
      "iteration: 3 cost: 259904.73052486748\n",
      "iteration: 4 cost: 258555.23454677168\n",
      "iteration: 5 cost: 258210.8250768623\n",
      "iteration: 6 cost: 258022.49184791034\n",
      "iteration: 7 cost: 255032.12190832073\n",
      "iteration: 8 cost: 254658.61162932095\n",
      "iteration: 9 cost: 254369.1429310248\n",
      "iteration: 10 cost: 253956.43424023542\n",
      "iteration: 11 cost: 253635.40953111474\n",
      "iteration: 12 cost: 253143.06382380877\n",
      "iteration: 13 cost: 252968.70162145328\n",
      "iteration: 14 cost: 249780.4823979593\n",
      "iteration: 15 cost: 249560.48805489193\n",
      "iteration: 16 cost: 249279.285089403\n",
      "iteration: 17 cost: 248655.3768048085\n",
      "iteration: 18 cost: 248451.73320970254\n",
      "iteration: 19 cost: 248163.07325764993\n",
      "iteration: 20 cost: 247952.14196910846\n",
      "iteration: 21 cost: 247394.60530254318\n",
      "iteration: 22 cost: 247196.40342057578\n",
      "iteration: 23 cost: 246994.60720268512\n",
      "iteration: 24 cost: 246487.76775007826\n",
      "iteration: 25 cost: 246258.7550760287\n",
      "iteration: 26 cost: 246054.06751509698\n",
      "iteration: 27 cost: 245881.72569856513\n",
      "iteration: 28 cost: 245697.4020530553\n",
      "iteration: 29 cost: 245430.96749954548\n",
      "iteration: 30 cost: 245089.89051220875\n",
      "iteration: 31 cost: 243986.32121976232\n",
      "iteration: 32 cost: 243659.25161262075\n",
      "iteration: 33 cost: 242789.4460500161\n",
      "iteration: 34 cost: 240553.21183803963\n",
      "iteration: 35 cost: 240106.74104611788\n",
      "iteration: 36 cost: 239923.04128801925\n",
      "iteration: 37 cost: 239463.71087951848\n",
      "iteration: 38 cost: 239217.2560653715\n",
      "iteration: 39 cost: 238999.99479055355\n",
      "iteration: 40 cost: 238784.92669651294\n",
      "iteration: 41 cost: 238386.887986635\n",
      "iteration: 42 cost: 237745.52750491805\n",
      "iteration: 43 cost: 237563.77318402118\n",
      "iteration: 44 cost: 236547.7848552496\n",
      "iteration: 45 cost: 236291.46890910534\n",
      "iteration: 46 cost: 236020.21627587298\n",
      "iteration: 47 cost: 235658.04468544616\n",
      "iteration: 48 cost: 235429.46702561778\n",
      "iteration: 49 cost: 235176.65336068912\n",
      "iteration: 50 cost: 234969.64928763785\n",
      "iteration: 51 cost: 234448.85929135664\n",
      "iteration: 52 cost: 233102.88256908886\n",
      "iteration: 53 cost: 232019.01043172838\n",
      "iteration: 54 cost: 231773.7796151069\n",
      "iteration: 55 cost: 231548.6411302322\n",
      "iteration: 56 cost: 230908.96603288464\n",
      "iteration: 57 cost: 230657.98825146625\n",
      "iteration: 58 cost: 230409.76210026283\n",
      "iteration: 59 cost: 229868.91437155762\n",
      "iteration: 60 cost: 229450.91654152013\n",
      "iteration: 61 cost: 229268.93339397165\n",
      "iteration: 62 cost: 229065.6233627261\n",
      "iteration: 63 cost: 228885.7191753009\n",
      "iteration: 64 cost: 226460.62440308533\n",
      "iteration: 65 cost: 226250.85402063208\n",
      "iteration: 66 cost: 225541.79589908017\n",
      "iteration: 67 cost: 225246.7584464715\n",
      "iteration: 68 cost: 225089.79229817115\n",
      "iteration: 69 cost: 224699.41093136577\n",
      "iteration: 70 cost: 224083.15760990116\n",
      "iteration: 71 cost: 223834.77935879925\n",
      "iteration: 72 cost: 223488.30273282746\n",
      "iteration: 73 cost: 223324.5342495681\n",
      "iteration: 74 cost: 223139.66842938654\n",
      "iteration: 75 cost: 222723.00769828845\n",
      "iteration: 76 cost: 222531.30369119544\n"
     ]
    }
   ],
   "source": [
    "'''\n",
    "Stochastic Gradient Descent\n",
    "'''\n",
    "\n",
    "alpha_stoch = 1e-3\n",
    "theta = np.array([20.0, 80.0])\n",
    "params_hat, cost, params_store = lin_reg_stoch_gradient_descent(x_train, y_train, theta, alpha_stoch)\n",
    "\n"
   ]
  },
  {
   "cell_type": "code",
   "execution_count": 12,
   "metadata": {},
   "outputs": [
    {
     "data": {
      "image/png": "[encoded data removed]",
      "text/plain": [
       "<Figure size 432x288 with 1 Axes>"
      ]
     },
     "metadata": {
      "needs_background": "light"
     },
     "output_type": "display_data"
    },
    {
     "name": "stdout",
     "output_type": "stream",
     "text": [
      "batch      T0, T1: 11.522962445028496, -0.35670241010742115\n",
      "stochastic T0, T1: 19.36684535499721, 73.82578459849047\n",
      "batch rms:      6.913583597865994\n",
      "stochastic rms: 712.9357650034354\n"
     ]
    }
   ],
   "source": [
    "plt.scatter(x_test, y_test)\n",
    "plt.plot(x_test, params_hat_batch[0] + params_hat_batch[1]*x_test, 'g', label='batch')\n",
    "plt.plot(x_test, params_hat[0] + params_hat[1]*x_test, '-r', label='stochastic')\n",
    "plt.xlabel('x')\n",
    "plt.ylabel('y')\n",
    "plt.legend()\n",
    "plt.show()\n",
    "print(f'batch      T0, T1: {params_hat_batch[0]}, {params_hat_batch[1]}')\n",
    "print(f'stochastic T0, T1: {params_hat[0]}, {params_hat[1]}')\n",
    "rms_batch = np.sqrt(np.mean(np.square(params_hat_batch[0] + params_hat_batch[1]*x_test - y_test)))\n",
    "rms_stochastic = np.sqrt(np.mean(np.square(params_hat[0] + params_hat[1]*x_test - y_test)))\n",
    "print(f'batch rms:      {rms_batch}')\n",
    "print(f'stochastic rms: {rms_stochastic}')"
   ]
  },
  {
   "cell_type": "markdown",
   "metadata": {},
   "source": [
    "Batch Gradient Descent is a lot better "
   ]
  },
  {
   "cell_type": "code",
   "execution_count": 13,
   "metadata": {},
   "outputs": [
    {
     "data": {
      "image/png": "[encoded data removed]",
      "text/plain": [
       "<Figure size 432x288 with 1 Axes>"
      ]
     },
     "metadata": {
      "needs_background": "light"
     },
     "output_type": "display_data"
    },
    {
     "name": "stdout",
     "output_type": "stream",
     "text": [
      "min cost with BGD: 0.0\n",
      "min cost with SGD: 222531.30369119544\n"
     ]
    }
   ],
   "source": [
    "plt.plot(np.arange(max_iterations), cost_batch, 'r', label='batch')\n",
    "plt.plot(np.arange(len(cost)), cost, 'g', label='stochastic')\n",
    "plt.xlabel('iteration')\n",
    "plt.ylabel('normalized cost')\n",
    "plt.legend()\n",
    "plt.show()\n",
    "print(f'min cost with BGD: {np.min(cost_batch)}')\n",
    "print(f'min cost with SGD: {np.min(cost)}')"
   ]
  },
  {
   "cell_type": "code",
   "execution_count": null,
   "metadata": {},
   "outputs": [],
   "source": []
  }
 ],
 "metadata": {
  "kernelspec": {
   "display_name": "Python 3",
   "language": "python",
   "name": "python3"
  },
  "language_info": {
   "codemirror_mode": {
    "name": "ipython",
    "version": 3
   },
   "file_extension": ".py",
   "mimetype": "text/x-python",
   "name": "python",
   "nbconvert_exporter": "python",
   "pygments_lexer": "ipython3",
   "version": "3.7.1"
  }
 },
 "nbformat": 4,
 "nbformat_minor": 2
}
