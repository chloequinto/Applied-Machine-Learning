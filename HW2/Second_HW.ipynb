{
 "cells": [
  {
   "cell_type": "markdown",
   "metadata": {},
   "source": [
    "Chloe Quinto    \n",
    "CPE 695/WS  \n",
    "HW2   \n",
    "February 12, 2020   \n",
    "I pledge my honor that I have abided by the Stevens Honor System - Chloe Quinto \n"
   ]
  },
  {
   "cell_type": "code",
   "execution_count": 1,
   "metadata": {},
   "outputs": [],
   "source": [
    "import pandas as pd\n",
    "import numpy as np\n",
    "import matplotlib.pyplot as plt\n",
    "from sklearn.model_selection import train_test_split "
   ]
  },
  {
   "cell_type": "code",
   "execution_count": 2,
   "metadata": {},
   "outputs": [
    {
     "data": {
      "image/png": "[encoded data removed]",
      "text/plain": [
       "<Figure size 432x288 with 1 Axes>"
      ]
     },
     "metadata": {
      "needs_background": "light"
     },
     "output_type": "display_data"
    }
   ],
   "source": [
    "\"\"\"\n",
    "In this problem, we write a program to find the coefficients for a linear regression model for the dataset\n",
    "provided by (data2.txt). Assume a linear model: y = w0 + w1* x\n",
    "\"\"\"\n",
    "\n",
    "\n",
    "data = pd.read_csv(\"data2.txt\", header = None)\n",
    "\n",
    "x = np.array(data[0])\n",
    "y = np.array(data[1])\n",
    "\n",
    "plt.scatter(x,y,color='red')\n",
    "plt.title(\"Dataset\")\n",
    "plt.xlabel(\"x\")\n",
    "plt.ylabel(\"y\")\n",
    "plt.show()"
   ]
  },
  {
   "cell_type": "code",
   "execution_count": 3,
   "metadata": {},
   "outputs": [],
   "source": [
    "# Computes the cost of the linear regresesion \n",
    "def cost_function(input_var, output_var, params):\n",
    "    num_samples = len(input_var)\n",
    "    cost_sum = 0.0\n",
    "    for a,b in zip(input_var, output_var):\n",
    "        y_ = np.dot(params, np.array([1.0, a]))\n",
    "        cost_sum += (y_ - b) ** 2\n",
    "    \n",
    "    cost = cost_sum / (num_samples * 2.0)\n",
    "    \n",
    "    return cost"
   ]
  },
  {
   "cell_type": "code",
   "execution_count": 4,
   "metadata": {},
   "outputs": [],
   "source": [
    "def lin_reg_batch_gradient_descent(input_var, output_var, params, alpha, max_iter):\n",
    "    iteration = 0\n",
    "    num_samples = len(input_var)\n",
    "    cost = np.zeros(max_iter)\n",
    "    params_store = np.zeros([2, max_iter])\n",
    "    \n",
    "    while iteration < max_iter:\n",
    "        cost[iteration] = cost_function(input_var, output_var, params)\n",
    "        params_store[:, iteration] = params\n",
    "        \n",
    "        print(\"iteration: \" + str(iteration) + \" cost: \" + str(cost[iteration]))\n",
    "        \n",
    "        for x,y in zip(input_var, output_var):\n",
    "            y_hat = np.dot(params, np.array([1.0, x]))\n",
    "            gradient = np.array([1.0, x]) * (y - y_hat)\n",
    "            params += alpha * gradient/num_samples\n",
    "            \n",
    "        iteration += 1\n",
    "    \n",
    "    return params, cost, params_store\n",
    "    "
   ]
  },
  {
   "cell_type": "code",
   "execution_count": 5,
   "metadata": {},
   "outputs": [],
   "source": [
    "\n",
    "\n",
    "# we want 20% of our data to be a test \n",
    "x_train, x_test, y_train, y_test = train_test_split(x,y, test_size = 0.20)\n"
   ]
  },
  {
   "cell_type": "code",
   "execution_count": 11,
   "metadata": {},
   "outputs": [
    {
     "name": "stdout",
     "output_type": "stream",
     "text": [
      "iteration: 0 cost: 270840.8686877118\n",
      "iteration: 1 cost: 229381.15345992995\n",
      "iteration: 2 cost: 194268.62428119304\n",
      "iteration: 3 cost: 164531.5762262411\n",
      "iteration: 4 cost: 139347.06452403477\n",
      "iteration: 5 cost: 118018.13060925079\n",
      "iteration: 6 cost: 99954.51467471723\n",
      "iteration: 7 cost: 84656.32097083933\n",
      "iteration: 8 cost: 71700.18381129002\n",
      "iteration: 9 cost: 60727.55144785711\n",
      "iteration: 10 cost: 51434.763586475\n",
      "iteration: 11 cost: 43564.647953032574\n",
      "iteration: 12 cost: 36899.40335518193\n",
      "iteration: 13 cost: 31254.572288392952\n",
      "iteration: 14 cost: 26473.936286155113\n",
      "iteration: 15 cost: 22425.192749917715\n",
      "iteration: 16 cost: 18996.2936207527\n",
      "iteration: 17 cost: 16092.344570297173\n",
      "iteration: 18 cost: 13632.978900147482\n",
      "iteration: 19 cost: 11550.133475793764\n",
      "iteration: 20 cost: 9786.165146949577\n",
      "iteration: 21 cost: 8292.255528635502\n",
      "iteration: 22 cost: 7027.059997375203\n",
      "iteration: 23 cost: 5955.563515189569\n",
      "iteration: 24 cost: 5048.111617760542\n",
      "iteration: 25 cost: 4279.589750572349\n",
      "iteration: 26 cost: 3628.728242173638\n",
      "iteration: 27 cost: 3077.513680546501\n",
      "iteration: 28 cost: 2610.690403135924\n",
      "iteration: 29 cost: 2215.3383048720502\n",
      "iteration: 30 cost: 1880.5152805198272\n",
      "iteration: 31 cost: 1596.9544063630399\n",
      "iteration: 32 cost: 1356.807481071312\n",
      "iteration: 33 cost: 1153.4278285307385\n",
      "iteration: 34 cost: 981.1863519446168\n",
      "iteration: 35 cost: 835.3157486986507\n",
      "iteration: 36 cost: 711.778574799613\n",
      "iteration: 37 cost: 607.1555077047227\n",
      "iteration: 38 cost: 518.550715325248\n",
      "iteration: 39 cost: 443.511712381186\n",
      "iteration: 40 cost: 379.9614862044935\n",
      "iteration: 41 cost: 326.1410136314045\n",
      "iteration: 42 cost: 280.5605781861395\n",
      "iteration: 43 cost: 241.9585402967791\n",
      "iteration: 44 cost: 209.2664195387712\n",
      "iteration: 45 cost: 181.579322580354\n",
      "iteration: 46 cost: 158.13089844107398\n",
      "iteration: 47 cost: 138.2721279635485\n",
      "iteration: 48 cost: 121.45336050686642\n",
      "iteration: 49 cost: 107.2091007339411\n",
      "iteration: 50 cost: 95.1451244716183\n",
      "iteration: 51 cost: 84.92756707752332\n",
      "iteration: 52 cost: 76.27368233525264\n",
      "iteration: 53 cost: 68.94401613018826\n",
      "iteration: 54 cost: 62.73577831134511\n",
      "iteration: 55 cost: 57.47722930375237\n",
      "iteration: 56 cost: 53.02292611855838\n",
      "iteration: 57 cost: 49.24969619149681\n",
      "iteration: 58 cost: 46.05322762273418\n",
      "iteration: 59 cost: 43.34518144985755\n",
      "iteration: 60 cost: 41.05074603292934\n",
      "iteration: 61 cost: 39.106565865955716\n",
      "iteration: 62 cost: 37.45898749137792\n",
      "iteration: 63 cost: 36.06257397007107\n",
      "iteration: 64 cost: 34.878846791687096\n",
      "iteration: 65 cost: 33.87522040468937\n",
      "iteration: 66 cost: 33.02409987628961\n",
      "iteration: 67 cost: 32.302116707243435\n",
      "iteration: 68 cost: 31.689481650026092\n",
      "iteration: 69 cost: 31.16943661711489\n",
      "iteration: 70 cost: 30.72779050855766\n",
      "iteration: 71 cost: 30.35252611060927\n",
      "iteration: 72 cost: 30.033467184240493\n",
      "iteration: 73 cost: 29.76199652821035\n",
      "iteration: 74 cost: 29.530817212236236\n",
      "iteration: 75 cost: 29.333750370651007\n",
      "iteration: 76 cost: 29.165563958861018\n",
      "iteration: 77 cost: 29.021827731924855\n",
      "iteration: 78 cost: 28.89879043037392\n",
      "iteration: 79 cost: 28.793275773078328\n",
      "iteration: 80 cost: 28.702594377540674\n",
      "iteration: 81 cost: 28.62446916887761\n",
      "iteration: 82 cost: 28.556972212131242\n",
      "iteration: 83 cost: 28.49847121876889\n",
      "iteration: 84 cost: 28.447584246035344\n",
      "iteration: 85 cost: 28.40314133462499\n",
      "iteration: 86 cost: 28.364152022221763\n",
      "iteration: 87 cost: 28.329777833128087\n",
      "iteration: 88 cost: 28.299308981970288\n",
      "iteration: 89 cost: 28.272144646144028\n",
      "iteration: 90 cost: 28.24777626047312\n",
      "iteration: 91 cost: 28.225773371239903\n",
      "iteration: 92 cost: 28.205771657614335\n",
      "iteration: 93 cost: 28.187462788530457\n",
      "iteration: 94 cost: 28.17058583388802\n",
      "iteration: 95 cost: 28.154919992005276\n",
      "iteration: 96 cost: 28.140278431706147\n",
      "iteration: 97 cost: 28.12650307829874\n",
      "iteration: 98 cost: 28.113460198850454\n",
      "iteration: 99 cost: 28.101036664307905\n"
     ]
    }
   ],
   "source": [
    "'''\n",
    "Batch Gradient Descent\n",
    "'''\n",
    "params_theta = np.array([20.0, 80.0])\n",
    "alpha_batch = 1e-3\n",
    "max_iterations = 100\n",
    "\n",
    "params_hat_batch, cost_batch, params_store_batch =lin_reg_batch_gradient_descent(x_train, y_train, params_theta, alpha_batch, max_iterations)\n"
   ]
  },
  {
   "cell_type": "code",
   "execution_count": 7,
   "metadata": {},
   "outputs": [],
   "source": [
    "def lin_reg_stoch_gradient_descent(input_var, output_var, params, alpha):\n",
    "    \"\"\"Compute the params for linear regression using stochastic gradient descent\"\"\"\n",
    "    num_samples = len(input_var)\n",
    "    cost = np.zeros(num_samples)\n",
    "    params_store = np.zeros([2, num_samples])\n",
    "    \n",
    "    iteration = 0\n",
    "    for x,y in zip(input_var, output_var):\n",
    "        cost[iteration] = cost_function(input_var, output_var, params)\n",
    "        params_store[:, iteration] = params\n",
    "        \n",
    "        print(\"iteration: \" + str(iteration) + \" cost: \" + str(cost[iteration]))\n",
    "        \n",
    "        y_hat = np.dot(params, np.array([1.0, x]))\n",
    "        gradient = np.array([1.0, x]) * (y - y_hat)\n",
    "        params += alpha * gradient/num_samples\n",
    "        \n",
    "        iteration += 1\n",
    "            \n",
    "    return params, cost, params_store"
   ]
  },
  {
   "cell_type": "code",
   "execution_count": 8,
   "metadata": {},
   "outputs": [
    {
     "name": "stdout",
     "output_type": "stream",
     "text": [
      "iteration: 0 cost: 270840.8686877118\n",
      "iteration: 1 cost: 270547.4875461448\n",
      "iteration: 2 cost: 270326.87093821814\n",
      "iteration: 3 cost: 269173.6744210372\n",
      "iteration: 4 cost: 268862.6390258715\n",
      "iteration: 5 cost: 268675.6995231866\n",
      "iteration: 6 cost: 268159.66794114315\n",
      "iteration: 7 cost: 267787.818073427\n",
      "iteration: 8 cost: 267602.15082976193\n",
      "iteration: 9 cost: 267364.70092951093\n",
      "iteration: 10 cost: 267137.75237004185\n",
      "iteration: 11 cost: 266508.8229418774\n",
      "iteration: 12 cost: 265671.0576556974\n",
      "iteration: 13 cost: 264532.63324151555\n",
      "iteration: 14 cost: 261199.51987246936\n",
      "iteration: 15 cost: 258785.7422654639\n",
      "iteration: 16 cost: 258414.87658309515\n",
      "iteration: 17 cost: 257983.30073753925\n",
      "iteration: 18 cost: 257748.3968783861\n",
      "iteration: 19 cost: 257358.5114415675\n",
      "iteration: 20 cost: 257131.47456723926\n",
      "iteration: 21 cost: 256859.1123300919\n",
      "iteration: 22 cost: 256657.90716209155\n",
      "iteration: 23 cost: 256129.91453763054\n",
      "iteration: 24 cost: 255941.63043204768\n",
      "iteration: 25 cost: 255748.10284024125\n",
      "iteration: 26 cost: 255474.27822359646\n",
      "iteration: 27 cost: 254004.24908509786\n",
      "iteration: 28 cost: 253626.487849435\n",
      "iteration: 29 cost: 253164.96708618698\n",
      "iteration: 30 cost: 250838.04994931183\n",
      "iteration: 31 cost: 250623.13035514395\n",
      "iteration: 32 cost: 250238.3096201731\n",
      "iteration: 33 cost: 250028.6893589756\n",
      "iteration: 34 cost: 249829.49003346817\n",
      "iteration: 35 cost: 249371.13924191374\n",
      "iteration: 36 cost: 248817.9929439172\n",
      "iteration: 37 cost: 248248.35423209527\n",
      "iteration: 38 cost: 248041.11411936348\n",
      "iteration: 39 cost: 247695.4062614191\n",
      "iteration: 40 cost: 247453.91393169534\n",
      "iteration: 41 cost: 246565.58632442748\n",
      "iteration: 42 cost: 246136.71588482175\n",
      "iteration: 43 cost: 245677.72902375198\n",
      "iteration: 44 cost: 245399.0722089707\n",
      "iteration: 45 cost: 244719.43231587068\n",
      "iteration: 46 cost: 244498.86456508527\n",
      "iteration: 47 cost: 243400.63528876242\n",
      "iteration: 48 cost: 243214.287742994\n",
      "iteration: 49 cost: 243018.40246752306\n",
      "iteration: 50 cost: 242475.52834746725\n",
      "iteration: 51 cost: 239905.71501951484\n",
      "iteration: 52 cost: 239636.67179390523\n",
      "iteration: 53 cost: 237116.0417102573\n",
      "iteration: 54 cost: 235887.64532679605\n",
      "iteration: 55 cost: 235670.86733957342\n",
      "iteration: 56 cost: 235506.34387885832\n",
      "iteration: 57 cost: 235151.58404410566\n",
      "iteration: 58 cost: 234890.78980286434\n",
      "iteration: 59 cost: 234661.52712999293\n",
      "iteration: 60 cost: 234217.02375254888\n",
      "iteration: 61 cost: 233630.37268099972\n",
      "iteration: 62 cost: 233428.24973616982\n",
      "iteration: 63 cost: 233256.26599393593\n",
      "iteration: 64 cost: 233001.79319090015\n",
      "iteration: 65 cost: 232823.1160363702\n",
      "iteration: 66 cost: 232629.67648900265\n",
      "iteration: 67 cost: 232438.20658541104\n",
      "iteration: 68 cost: 232272.83091528533\n",
      "iteration: 69 cost: 231959.20821582666\n",
      "iteration: 70 cost: 231800.09593113733\n",
      "iteration: 71 cost: 231353.79405468307\n",
      "iteration: 72 cost: 231045.8096728113\n",
      "iteration: 73 cost: 230671.48172912432\n",
      "iteration: 74 cost: 230510.65968647847\n",
      "iteration: 75 cost: 229877.72142969092\n",
      "iteration: 76 cost: 229629.04356989032\n"
     ]
    }
   ],
   "source": [
    "'''\n",
    "Stochastic Gradient Descent\n",
    "'''\n",
    "\n",
    "alpha = 1e-3\n",
    "params_0 = np.array([20.0, 80.0])\n",
    "params_hat, cost, params_store = lin_reg_stoch_gradient_descent(x_train, y_train, params_0, alpha)"
   ]
  },
  {
   "cell_type": "code",
   "execution_count": 9,
   "metadata": {},
   "outputs": [
    {
     "data": {
      "image/png": "[encoded data removed]",
      "text/plain": [
       "<Figure size 432x288 with 1 Axes>"
      ]
     },
     "metadata": {
      "needs_background": "light"
     },
     "output_type": "display_data"
    },
    {
     "name": "stdout",
     "output_type": "stream",
     "text": [
      "batch      T0, T1: 10.525047204781846, -0.24934860168301148\n",
      "stochastic T0, T1: 19.358242635868283, 73.59086259684211\n",
      "batch rms:      6.086012345592733\n",
      "stochastic rms: 662.6115685913616\n"
     ]
    }
   ],
   "source": [
    "plt.scatter(x_test, y_test)\n",
    "plt.plot(x_test, params_hat_batch[0] + params_hat_batch[1]*x_test, 'g', label='batch')\n",
    "plt.plot(x_test, params_hat[0] + params_hat[1]*x_test, '-r', label='stochastic')\n",
    "plt.xlabel('x')\n",
    "plt.ylabel('y')\n",
    "plt.legend()\n",
    "plt.show()\n",
    "print(f'batch      T0, T1: {params_hat_batch[0]}, {params_hat_batch[1]}')\n",
    "print(f'stochastic T0, T1: {params_hat[0]}, {params_hat[1]}')\n",
    "rms_batch = np.sqrt(np.mean(np.square(params_hat_batch[0] + params_hat_batch[1]*x_test - y_test)))\n",
    "rms_stochastic = np.sqrt(np.mean(np.square(params_hat[0] + params_hat[1]*x_test - y_test)))\n",
    "print(f'batch rms:      {rms_batch}')\n",
    "print(f'stochastic rms: {rms_stochastic}')"
   ]
  },
  {
   "cell_type": "markdown",
   "metadata": {},
   "source": [
    "Batch Gradient Descent is a lot better "
   ]
  },
  {
   "cell_type": "code",
   "execution_count": 10,
   "metadata": {},
   "outputs": [
    {
     "data": {
      "image/png": "[encoded data removed]",
      "text/plain": [
       "<Figure size 432x288 with 1 Axes>"
      ]
     },
     "metadata": {
      "needs_background": "light"
     },
     "output_type": "display_data"
    },
    {
     "name": "stdout",
     "output_type": "stream",
     "text": [
      "min cost with BGD: 24.68748901874041\n",
      "min cost with SGD: 229629.04356989032\n"
     ]
    }
   ],
   "source": [
    "plt.plot(np.arange(max_iterations), cost_batch, 'r', label='batch')\n",
    "plt.plot(np.arange(len(cost)), cost, 'g', label='stochastic')\n",
    "plt.xlabel('iteration')\n",
    "plt.ylabel('normalized cost')\n",
    "plt.legend()\n",
    "plt.show()\n",
    "print(f'min cost with BGD: {np.min(cost_batch)}')\n",
    "print(f'min cost with SGD: {np.min(cost)}')"
   ]
  },
  {
   "cell_type": "code",
   "execution_count": null,
   "metadata": {},
   "outputs": [],
   "source": []
  }
 ],
 "metadata": {
  "kernelspec": {
   "display_name": "Python 3",
   "language": "python",
   "name": "python3"
  },
  "language_info": {
   "codemirror_mode": {
    "name": "ipython",
    "version": 3
   },
   "file_extension": ".py",
   "mimetype": "text/x-python",
   "name": "python",
   "nbconvert_exporter": "python",
   "pygments_lexer": "ipython3",
   "version": "3.7.1"
  }
 },
 "nbformat": 4,
 "nbformat_minor": 2
}
