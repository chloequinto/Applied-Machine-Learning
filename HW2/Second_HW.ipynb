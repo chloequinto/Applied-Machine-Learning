{
 "cells": [
  {
   "cell_type": "markdown",
   "metadata": {},
   "source": [
    "Chloe Quinto    \n",
    "CPE 695/WS  \n",
    "HW2   \n",
    "February 12, 2020   \n",
    "I pledge my honor that I have abided by the Stevens Honor System - Chloe Quinto \n"
   ]
  },
  {
   "cell_type": "code",
   "execution_count": 1,
   "metadata": {},
   "outputs": [],
   "source": [
    "import pandas as pd\n",
    "import numpy as np\n",
    "import matplotlib.pyplot as plt\n",
    "from sklearn.model_selection import train_test_split "
   ]
  },
  {
   "cell_type": "code",
   "execution_count": 2,
   "metadata": {},
   "outputs": [
    {
     "data": {
      "image/png": "[encoded data removed]",
      "text/plain": [
       "<Figure size 432x288 with 1 Axes>"
      ]
     },
     "metadata": {
      "needs_background": "light"
     },
     "output_type": "display_data"
    }
   ],
   "source": [
    "\"\"\"\n",
    "In this problem, we write a program to find the coefficients for a linear regression model for the dataset\n",
    "provided by (data2.txt). Assume a linear model: y = w0 + w1* x\n",
    "\"\"\"\n",
    "\n",
    "\n",
    "data = pd.read_csv(\"data2.txt\", header = None)\n",
    "\n",
    "x = np.array(data[0])\n",
    "y = np.array(data[1])\n",
    "\n",
    "plt.scatter(x,y,color='red')\n",
    "plt.title(\"Dataset\")\n",
    "plt.xlabel(\"x\")\n",
    "plt.ylabel(\"y\")\n",
    "plt.show()"
   ]
  },
  {
   "cell_type": "markdown",
   "metadata": {},
   "source": [
    "---"
   ]
  },
  {
   "cell_type": "markdown",
   "metadata": {},
   "source": [
    "### Calculate the Normal Equation "
   ]
  },
  {
   "cell_type": "markdown",
   "metadata": {},
   "source": [
    "<img src=\"images/normalEquation.png\">"
   ]
  },
  {
   "cell_type": "code",
   "execution_count": 3,
   "metadata": {},
   "outputs": [],
   "source": [
    "def normal_equation(x,y):\n",
    "    m = len(x)\n",
    "    x_bias = np.c_[np.ones((m, 1)), x] \n",
    "    \n",
    "    left_equation = np.linalg.inv(x_bias.T.dot(x_bias))\n",
    "    right_equation = (x_bias.T).dot(y)\n",
    "    \n",
    "    theta = left_equation.dot(right_equation)\n",
    "    return theta"
   ]
  },
  {
   "cell_type": "code",
   "execution_count": 4,
   "metadata": {},
   "outputs": [
    {
     "name": "stdout",
     "output_type": "stream",
     "text": [
      "Normal Equation\n",
      "y = -3.8957808783119106 + 1.1930336441895983*x\n"
     ]
    }
   ],
   "source": [
    "a, b = normal_equation(x,y)\n",
    "\n",
    "print(\"Normal Equation\")\n",
    "print(\"y = \" + str(a) + \" + \" + str(b) + \"*x\")\n",
    "\n",
    "y = a+b*x "
   ]
  },
  {
   "cell_type": "code",
   "execution_count": 5,
   "metadata": {},
   "outputs": [
    {
     "data": {
      "image/png": "[encoded data removed]",
      "text/plain": [
       "<Figure size 432x288 with 1 Axes>"
      ]
     },
     "metadata": {
      "needs_background": "light"
     },
     "output_type": "display_data"
    }
   ],
   "source": [
    "x_original = np.array(data[0])\n",
    "y_original = np.array(data[1])\n",
    "\n",
    "\n",
    "plt.scatter(x_original, y_original, color=\"red\")\n",
    "plt.plot(x,y,color='blue') \n",
    "plt.xlim(4.5)\n",
    "plt.title(\"Dataset\")\n",
    "plt.xlabel(\"1st Column\")\n",
    "plt.ylabel(\"2nd Column\")\n",
    "plt.show()"
   ]
  },
  {
   "cell_type": "markdown",
   "metadata": {},
   "source": [
    "---"
   ]
  },
  {
   "cell_type": "markdown",
   "metadata": {},
   "source": [
    "###  Now we need to find Gradient Descent Using Batch and Stochastic Modes "
   ]
  },
  {
   "cell_type": "code",
   "execution_count": 6,
   "metadata": {},
   "outputs": [],
   "source": [
    "def cost_function(input_var, output_var, params):\n",
    "    num_samples = len(input_var) #77 because 80% of our data of length 97 will be 77 \n",
    "    cost_sum = 0.0\n",
    "    for a,b in zip(input_var, output_var):\n",
    "        y_ = np.dot(params, np.array([1.0, a]))\n",
    "        cost_sum += (y_ - b) ** 2\n",
    "    cost = cost_sum / (num_samples * 2.0)\n",
    "    \n",
    "    return cost"
   ]
  },
  {
   "cell_type": "code",
   "execution_count": 7,
   "metadata": {},
   "outputs": [],
   "source": [
    "def lin_reg_batch_gradient_descent(input_var, output_var, params, alpha, max_iter):\n",
    "    iteration = 0\n",
    "    num_samples = len(input_var)\n",
    "    cost = np.zeros(max_iter)\n",
    "    params_store = np.zeros([2, max_iter])\n",
    "    while iteration < max_iter:\n",
    "        cost[iteration] = cost_function(input_var, output_var, params)\n",
    "        params_store[:, iteration] = params\n",
    "        \n",
    "        print(\"iteration: \" + str(iteration) + \" cost: \" + str(cost[iteration]))\n",
    "        \n",
    "        for x,y in zip(input_var, output_var):\n",
    "            y_hat = np.dot(params, np.array([1.0, x]))\n",
    "            gradient = np.array([1.0, x]) * (y - y_hat)\n",
    "            params += alpha * gradient/num_samples\n",
    "            \n",
    "        iteration += 1\n",
    "    \n",
    "    return params, cost, params_store"
   ]
  },
  {
   "cell_type": "code",
   "execution_count": 8,
   "metadata": {},
   "outputs": [],
   "source": [
    "'''\n",
    "We need to split our data into training and testing \n",
    "\n",
    "We can use the function train_test_split() to split our data and specify the test size to extract \n",
    "'''\n",
    "x_train, x_test, y_train, y_test = train_test_split(x,y, test_size = 0.20)\n"
   ]
  },
  {
   "cell_type": "code",
   "execution_count": 9,
   "metadata": {},
   "outputs": [
    {
     "name": "stdout",
     "output_type": "stream",
     "text": [
      "iteration: 0 cost: 267228.5318620255\n",
      "iteration: 1 cost: 226847.53346712363\n",
      "iteration: 2 cost: 192569.0155122619\n",
      "iteration: 3 cost: 163470.753887009\n",
      "iteration: 4 cost: 138769.89370790587\n",
      "iteration: 5 cost: 117801.8874212502\n",
      "iteration: 6 cost: 100002.61584388955\n",
      "iteration: 7 cost: 84893.21112668794\n",
      "iteration: 8 cost: 72067.17331784824\n",
      "iteration: 9 cost: 61179.433910267195\n",
      "iteration: 10 cost: 51937.07213874993\n",
      "iteration: 11 cost: 44091.434258476394\n",
      "iteration: 12 cost: 37431.44378191441\n",
      "iteration: 13 cost: 31777.92269290653\n",
      "iteration: 14 cost: 26978.77085598263\n",
      "iteration: 15 cost: 22904.873927821925\n",
      "iteration: 16 cost: 19446.629677406265\n",
      "iteration: 17 cost: 16510.999259064312\n",
      "iteration: 18 cost: 14019.004105933682\n",
      "iteration: 19 cost: 11903.601100333297\n",
      "iteration: 20 cost: 10107.878854695144\n",
      "iteration: 21 cost: 8583.526575857244\n",
      "iteration: 22 cost: 7289.534319098473\n",
      "iteration: 23 cost: 6191.089663600829\n",
      "iteration: 24 cost: 5258.641125542726\n",
      "iteration: 25 cost: 4467.103110932635\n",
      "iteration: 26 cost: 3795.18101827408\n",
      "iteration: 27 cost: 3224.798333660856\n",
      "iteration: 28 cost: 2740.610304902996\n",
      "iteration: 29 cost: 2329.5911106033495\n",
      "iteration: 30 cost: 1980.6834174104658\n",
      "iteration: 31 cost: 1684.5008971627128\n",
      "iteration: 32 cost: 1433.0757004693335\n",
      "iteration: 33 cost: 1219.6440927802234\n",
      "iteration: 34 cost: 1038.4644857180574\n",
      "iteration: 35 cost: 884.6629680068438\n",
      "iteration: 36 cost: 754.1021801786959\n",
      "iteration: 37 cost: 643.2700052801495\n",
      "iteration: 38 cost: 549.1850809277997\n",
      "iteration: 39 cost: 469.3165906233961\n",
      "iteration: 40 cost: 401.51617640664483\n",
      "iteration: 41 cost: 343.96014103545565\n",
      "iteration: 42 cost: 295.1003847118805\n",
      "iteration: 43 cost: 253.6227563653645\n",
      "iteration: 44 cost: 218.41169898539366\n",
      "iteration: 45 cost: 188.5202378300123\n",
      "iteration: 46 cost: 163.14450408074637\n",
      "iteration: 47 cost: 141.6021085355072\n",
      "iteration: 48 cost: 123.31378351191512\n",
      "iteration: 49 cost: 107.78779906088288\n",
      "iteration: 50 cost: 94.60673422987715\n",
      "iteration: 51 cost: 83.41624747508037\n",
      "iteration: 52 cost: 73.91554410637804\n",
      "iteration: 53 cost: 65.84928430569055\n",
      "iteration: 54 cost: 59.00071401600877\n",
      "iteration: 55 cost: 53.18583389828942\n",
      "iteration: 56 cost: 48.24844948124956\n",
      "iteration: 57 cost: 44.05596933644577\n",
      "iteration: 58 cost: 40.49583823564467\n",
      "iteration: 59 cost: 37.47250933082883\n",
      "iteration: 60 cost: 34.904873898834325\n",
      "iteration: 61 cost: 32.72407950274116\n",
      "iteration: 62 cost: 30.87167787192386\n",
      "iteration: 63 cost: 29.298052673254443\n",
      "iteration: 64 cost: 27.96108487599025\n",
      "iteration: 65 cost: 26.825019804959968\n",
      "iteration: 66 cost: 25.859505402753587\n",
      "iteration: 67 cost: 25.038775827710097\n",
      "iteration: 68 cost: 24.340958424503448\n",
      "iteration: 69 cost: 23.747485423240157\n",
      "iteration: 70 cost: 23.242594540507405\n",
      "iteration: 71 cost: 22.812905047541705\n",
      "iteration: 72 cost: 22.447057900976958\n",
      "iteration: 73 cost: 22.135410255098634\n",
      "iteration: 74 cost: 21.86977613754268\n",
      "iteration: 75 cost: 21.643206312298602\n",
      "iteration: 76 cost: 21.449801408114016\n",
      "iteration: 77 cost: 21.28455328531855\n",
      "iteration: 78 cost: 21.14321037376242\n",
      "iteration: 79 cost: 21.02216335944088\n",
      "iteration: 80 cost: 20.91834814479434\n",
      "iteration: 81 cost: 20.829163472368624\n",
      "iteration: 82 cost: 20.752400995987365\n",
      "iteration: 83 cost: 20.686185918444792\n",
      "iteration: 84 cost: 20.628926598979582\n",
      "iteration: 85 cost: 20.579271775085765\n",
      "iteration: 86 cost: 20.536074248048187\n",
      "iteration: 87 cost: 20.49836005546764\n",
      "iteration: 88 cost: 20.46530230163999\n",
      "iteration: 89 cost: 20.436198941950966\n",
      "iteration: 90 cost: 20.41045392380741\n",
      "iteration: 91 cost: 20.38756117691466\n",
      "iteration: 92 cost: 20.367091022352874\n",
      "iteration: 93 cost: 20.34867863496604\n",
      "iteration: 94 cost: 20.33201424880745\n",
      "iteration: 95 cost: 20.316834842268243\n",
      "iteration: 96 cost: 20.30291707931445\n",
      "iteration: 97 cost: 20.29007131704133\n",
      "iteration: 98 cost: 20.27813651843375\n",
      "iteration: 99 cost: 20.266975933565718\n"
     ]
    }
   ],
   "source": [
    "'''\n",
    "Batch Gradient Descent\n",
    "'''\n",
    "params_theta = np.array([20.0, 80.0])\n",
    "alpha_batch = 1e-3\n",
    "max_iterations = 100\n",
    "\n",
    "params_hat_batch, cost_batch, params_store_batch =lin_reg_batch_gradient_descent(x_train, y_train, params_theta, alpha_batch, max_iterations)\n"
   ]
  },
  {
   "cell_type": "code",
   "execution_count": 10,
   "metadata": {},
   "outputs": [],
   "source": [
    "def lin_reg_stoch_gradient_descent(input_var, output_var, params, alpha):\n",
    "    \"\"\"Compute the params for linear regression using stochastic gradient descent\"\"\"\n",
    "    num_samples = len(input_var)\n",
    "    cost = np.zeros(num_samples)\n",
    "    params_store = np.zeros([2, num_samples])\n",
    "    \n",
    "    iteration = 0\n",
    "    for x,y in zip(input_var, output_var):\n",
    "        cost[iteration] = cost_function(input_var, output_var, params)\n",
    "        params_store[:, iteration] = params\n",
    "        \n",
    "        print(\"iteration: \" + str(iteration) + \" cost: \" + str(cost[iteration]))\n",
    "        \n",
    "        y_hat = np.dot(params, np.array([1.0, x]))\n",
    "        gradient = np.array([1.0, x]) * (y - y_hat)\n",
    "        params += alpha * gradient/num_samples\n",
    "        \n",
    "        iteration += 1\n",
    "            \n",
    "    return params, cost, params_store"
   ]
  },
  {
   "cell_type": "code",
   "execution_count": 11,
   "metadata": {},
   "outputs": [
    {
     "name": "stdout",
     "output_type": "stream",
     "text": [
      "iteration: 0 cost: 267228.5318620255\n",
      "iteration: 1 cost: 266729.59406742733\n",
      "iteration: 2 cost: 266267.06600216037\n",
      "iteration: 3 cost: 265886.1617126759\n",
      "iteration: 4 cost: 265673.20897420857\n",
      "iteration: 5 cost: 264724.54621825926\n",
      "iteration: 6 cost: 264539.95461715554\n",
      "iteration: 7 cost: 264147.1334695647\n",
      "iteration: 8 cost: 263882.0390948933\n",
      "iteration: 9 cost: 263516.09433555295\n",
      "iteration: 10 cost: 263224.185946387\n",
      "iteration: 11 cost: 259905.67368902417\n",
      "iteration: 12 cost: 259423.25383996122\n",
      "iteration: 13 cost: 259121.8391234833\n",
      "iteration: 14 cost: 258701.35365106087\n",
      "iteration: 15 cost: 258420.26798981772\n",
      "iteration: 16 cost: 258241.59606054367\n",
      "iteration: 17 cost: 257851.86270073042\n",
      "iteration: 18 cost: 256748.74079182986\n",
      "iteration: 19 cost: 256568.92324582968\n",
      "iteration: 20 cost: 256386.6665116148\n",
      "iteration: 21 cost: 255895.7726550861\n",
      "iteration: 22 cost: 255405.66016052582\n",
      "iteration: 23 cost: 253938.75568215686\n",
      "iteration: 24 cost: 252795.0950445405\n",
      "iteration: 25 cost: 252373.6719619246\n",
      "iteration: 26 cost: 252199.78055477882\n",
      "iteration: 27 cost: 252015.11371496055\n",
      "iteration: 28 cost: 251791.35733194\n",
      "iteration: 29 cost: 251113.80864731345\n",
      "iteration: 30 cost: 250557.16011822375\n",
      "iteration: 31 cost: 249864.83102288813\n",
      "iteration: 32 cost: 249410.45010388293\n",
      "iteration: 33 cost: 249129.35170076202\n",
      "iteration: 34 cost: 248846.0713292534\n",
      "iteration: 35 cost: 247688.63445373948\n",
      "iteration: 36 cost: 247486.38446167402\n",
      "iteration: 37 cost: 247290.1594617631\n",
      "iteration: 38 cost: 246233.62418295568\n",
      "iteration: 39 cost: 245728.25290408765\n",
      "iteration: 40 cost: 245507.11406668168\n",
      "iteration: 41 cost: 245069.41996083685\n",
      "iteration: 42 cost: 244748.87279673936\n",
      "iteration: 43 cost: 244511.47254012874\n",
      "iteration: 44 cost: 244185.6286952904\n",
      "iteration: 45 cost: 243985.56755394765\n",
      "iteration: 46 cost: 243775.64654479065\n",
      "iteration: 47 cost: 243495.78070178162\n",
      "iteration: 48 cost: 243281.4504327842\n",
      "iteration: 49 cost: 242908.09250631937\n",
      "iteration: 50 cost: 242354.61297643915\n",
      "iteration: 51 cost: 239803.43652008183\n",
      "iteration: 52 cost: 239051.73711371626\n",
      "iteration: 53 cost: 238877.2059166089\n",
      "iteration: 54 cost: 238545.1307734324\n",
      "iteration: 55 cost: 237947.98956805802\n",
      "iteration: 56 cost: 235756.371962761\n",
      "iteration: 57 cost: 235535.68050422045\n",
      "iteration: 58 cost: 235326.791330768\n",
      "iteration: 59 cost: 235112.980381662\n",
      "iteration: 60 cost: 234936.60742146068\n",
      "iteration: 61 cost: 232215.05592546758\n",
      "iteration: 62 cost: 232037.43567571972\n",
      "iteration: 63 cost: 231210.1869962421\n",
      "iteration: 64 cost: 230995.9842555538\n",
      "iteration: 65 cost: 230657.49408260806\n",
      "iteration: 66 cost: 230407.6338660308\n",
      "iteration: 67 cost: 229960.23080715616\n",
      "iteration: 68 cost: 229779.56946462794\n",
      "iteration: 69 cost: 229542.96073855393\n",
      "iteration: 70 cost: 229295.86071410548\n",
      "iteration: 71 cost: 229049.530780878\n",
      "iteration: 72 cost: 228421.236665018\n",
      "iteration: 73 cost: 228114.8823036598\n",
      "iteration: 74 cost: 227579.32412589533\n",
      "iteration: 75 cost: 227388.4549395607\n",
      "iteration: 76 cost: 227199.28073023367\n"
     ]
    }
   ],
   "source": [
    "'''\n",
    "Stochastic Gradient Descent\n",
    "'''\n",
    "\n",
    "alpha = 1e-3\n",
    "params_0 = np.array([20.0, 80.0])\n",
    "params_hat, cost, params_store = lin_reg_stoch_gradient_descent(x_train, y_train, params_0, alpha)"
   ]
  },
  {
   "cell_type": "code",
   "execution_count": 12,
   "metadata": {},
   "outputs": [
    {
     "data": {
      "image/png": "[encoded data removed]",
      "text/plain": [
       "<Figure size 432x288 with 1 Axes>"
      ]
     },
     "metadata": {
      "needs_background": "light"
     },
     "output_type": "display_data"
    },
    {
     "name": "stdout",
     "output_type": "stream",
     "text": [
      "batch      T0, T1: 11.583271446942039, -0.3552041780245856\n",
      "stochastic T0, T1: 19.3557262540285, 73.67610577472978\n",
      "batch rms:      7.457371278189386\n",
      "stochastic rms: 680.8357837443325\n"
     ]
    }
   ],
   "source": [
    "plt.scatter(x_test, y_test)\n",
    "plt.plot(x_test, params_hat_batch[0] + params_hat_batch[1]*x_test, 'g', label='batch')\n",
    "plt.plot(x_test, params_hat[0] + params_hat[1]*x_test, '-r', label='stochastic')\n",
    "plt.xlabel('x')\n",
    "plt.ylabel('y')\n",
    "plt.legend()\n",
    "plt.show()\n",
    "print(f'batch      T0, T1: {params_hat_batch[0]}, {params_hat_batch[1]}')\n",
    "print(f'stochastic T0, T1: {params_hat[0]}, {params_hat[1]}')\n",
    "rms_batch = np.sqrt(np.mean(np.square(params_hat_batch[0] + params_hat_batch[1]*x_test - y_test)))\n",
    "rms_stochastic = np.sqrt(np.mean(np.square(params_hat[0] + params_hat[1]*x_test - y_test)))\n",
    "print(f'batch rms:      {rms_batch}')\n",
    "print(f'stochastic rms: {rms_stochastic}')"
   ]
  },
  {
   "cell_type": "markdown",
   "metadata": {},
   "source": [
    "Batch Gradient Descent is a lot better "
   ]
  },
  {
   "cell_type": "code",
   "execution_count": 13,
   "metadata": {},
   "outputs": [
    {
     "data": {
      "image/png": "[encoded data removed]",
      "text/plain": [
       "<Figure size 432x288 with 1 Axes>"
      ]
     },
     "metadata": {
      "needs_background": "light"
     },
     "output_type": "display_data"
    },
    {
     "name": "stdout",
     "output_type": "stream",
     "text": [
      "min cost with BGD: 20.266975933565718\n",
      "min cost with SGD: 227199.28073023367\n"
     ]
    }
   ],
   "source": [
    "plt.plot(np.arange(max_iterations), cost_batch, 'r', label='batch')\n",
    "plt.plot(np.arange(len(cost)), cost, 'g', label='stochastic')\n",
    "plt.xlabel('iteration')\n",
    "plt.ylabel('normalized cost')\n",
    "plt.legend()\n",
    "plt.show()\n",
    "print(f'min cost with BGD: {np.min(cost_batch)}')\n",
    "print(f'min cost with SGD: {np.min(cost)}')"
   ]
  },
  {
   "cell_type": "code",
   "execution_count": null,
   "metadata": {},
   "outputs": [],
   "source": []
  }
 ],
 "metadata": {
  "kernelspec": {
   "display_name": "Python 3",
   "language": "python",
   "name": "python3"
  },
  "language_info": {
   "codemirror_mode": {
    "name": "ipython",
    "version": 3
   },
   "file_extension": ".py",
   "mimetype": "text/x-python",
   "name": "python",
   "nbconvert_exporter": "python",
   "pygments_lexer": "ipython3",
   "version": "3.7.1"
  }
 },
 "nbformat": 4,
 "nbformat_minor": 2
}
