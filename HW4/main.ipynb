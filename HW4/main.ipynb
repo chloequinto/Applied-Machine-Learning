{
 "cells": [
  {
   "cell_type": "markdown",
   "metadata": {},
   "source": [
    "### Chloe Quinto    \n",
    "CPE 695 WS   \n",
    "HW 4   \n",
    "I pledge my honor that I have abided by the Stevens Honor System - Chloe Quinto    "
   ]
  },
  {
   "cell_type": "code",
   "execution_count": 1,
   "metadata": {},
   "outputs": [],
   "source": [
    "import pandas as pd \n",
    "from sklearn.preprocessing import LabelEncoder\n",
    "from sklearn.model_selection import train_test_split\n",
    "from sklearn.neural_network import MLPClassifier\n",
    "from sklearn.metrics import classification_report, confusion_matrix\n",
    "from tabulate import tabulate"
   ]
  },
  {
   "cell_type": "code",
   "execution_count": 2,
   "metadata": {},
   "outputs": [
    {
     "data": {
      "text/html": [
       "<div>\n",
       "<style scoped>\n",
       "    .dataframe tbody tr th:only-of-type {\n",
       "        vertical-align: middle;\n",
       "    }\n",
       "\n",
       "    .dataframe tbody tr th {\n",
       "        vertical-align: top;\n",
       "    }\n",
       "\n",
       "    .dataframe thead th {\n",
       "        text-align: right;\n",
       "    }\n",
       "</style>\n",
       "<table border=\"1\" class=\"dataframe\">\n",
       "  <thead>\n",
       "    <tr style=\"text-align: right;\">\n",
       "      <th></th>\n",
       "      <th>Unnamed: 0</th>\n",
       "      <th>pclass</th>\n",
       "      <th>survived</th>\n",
       "      <th>name</th>\n",
       "      <th>sex</th>\n",
       "      <th>age</th>\n",
       "      <th>sibsp</th>\n",
       "      <th>parch</th>\n",
       "      <th>ticket</th>\n",
       "      <th>fare</th>\n",
       "      <th>cabin</th>\n",
       "      <th>embarked</th>\n",
       "      <th>boat</th>\n",
       "      <th>body</th>\n",
       "      <th>home.dest</th>\n",
       "    </tr>\n",
       "  </thead>\n",
       "  <tbody>\n",
       "    <tr>\n",
       "      <th>0</th>\n",
       "      <td>1</td>\n",
       "      <td>1st</td>\n",
       "      <td>1</td>\n",
       "      <td>Allen, Miss. Elisabeth Walton</td>\n",
       "      <td>female</td>\n",
       "      <td>29.0000</td>\n",
       "      <td>0</td>\n",
       "      <td>0</td>\n",
       "      <td>24160</td>\n",
       "      <td>211.337494</td>\n",
       "      <td>B5</td>\n",
       "      <td>Southampton</td>\n",
       "      <td>2</td>\n",
       "      <td>NaN</td>\n",
       "      <td>St Louis, MO</td>\n",
       "    </tr>\n",
       "    <tr>\n",
       "      <th>1</th>\n",
       "      <td>2</td>\n",
       "      <td>1st</td>\n",
       "      <td>1</td>\n",
       "      <td>Allison, Master. Hudson Trevor</td>\n",
       "      <td>male</td>\n",
       "      <td>0.9167</td>\n",
       "      <td>1</td>\n",
       "      <td>2</td>\n",
       "      <td>113781</td>\n",
       "      <td>151.550003</td>\n",
       "      <td>C22 C26</td>\n",
       "      <td>Southampton</td>\n",
       "      <td>11</td>\n",
       "      <td>NaN</td>\n",
       "      <td>Montreal, PQ / Chesterville, ON</td>\n",
       "    </tr>\n",
       "    <tr>\n",
       "      <th>2</th>\n",
       "      <td>3</td>\n",
       "      <td>1st</td>\n",
       "      <td>0</td>\n",
       "      <td>Allison, Miss. Helen Loraine</td>\n",
       "      <td>female</td>\n",
       "      <td>2.0000</td>\n",
       "      <td>1</td>\n",
       "      <td>2</td>\n",
       "      <td>113781</td>\n",
       "      <td>151.550003</td>\n",
       "      <td>C22 C26</td>\n",
       "      <td>Southampton</td>\n",
       "      <td>NaN</td>\n",
       "      <td>NaN</td>\n",
       "      <td>Montreal, PQ / Chesterville, ON</td>\n",
       "    </tr>\n",
       "    <tr>\n",
       "      <th>3</th>\n",
       "      <td>4</td>\n",
       "      <td>1st</td>\n",
       "      <td>0</td>\n",
       "      <td>Allison, Mr. Hudson Joshua Crei</td>\n",
       "      <td>male</td>\n",
       "      <td>30.0000</td>\n",
       "      <td>1</td>\n",
       "      <td>2</td>\n",
       "      <td>113781</td>\n",
       "      <td>151.550003</td>\n",
       "      <td>C22 C26</td>\n",
       "      <td>Southampton</td>\n",
       "      <td>NaN</td>\n",
       "      <td>135.0</td>\n",
       "      <td>Montreal, PQ / Chesterville, ON</td>\n",
       "    </tr>\n",
       "    <tr>\n",
       "      <th>4</th>\n",
       "      <td>5</td>\n",
       "      <td>1st</td>\n",
       "      <td>0</td>\n",
       "      <td>Allison, Mrs. Hudson J C (Bessi</td>\n",
       "      <td>female</td>\n",
       "      <td>25.0000</td>\n",
       "      <td>1</td>\n",
       "      <td>2</td>\n",
       "      <td>113781</td>\n",
       "      <td>151.550003</td>\n",
       "      <td>C22 C26</td>\n",
       "      <td>Southampton</td>\n",
       "      <td>NaN</td>\n",
       "      <td>NaN</td>\n",
       "      <td>Montreal, PQ / Chesterville, ON</td>\n",
       "    </tr>\n",
       "    <tr>\n",
       "      <th>...</th>\n",
       "      <td>...</td>\n",
       "      <td>...</td>\n",
       "      <td>...</td>\n",
       "      <td>...</td>\n",
       "      <td>...</td>\n",
       "      <td>...</td>\n",
       "      <td>...</td>\n",
       "      <td>...</td>\n",
       "      <td>...</td>\n",
       "      <td>...</td>\n",
       "      <td>...</td>\n",
       "      <td>...</td>\n",
       "      <td>...</td>\n",
       "      <td>...</td>\n",
       "      <td>...</td>\n",
       "    </tr>\n",
       "    <tr>\n",
       "      <th>1304</th>\n",
       "      <td>1305</td>\n",
       "      <td>3rd</td>\n",
       "      <td>0</td>\n",
       "      <td>Zabour, Miss. Hileni</td>\n",
       "      <td>female</td>\n",
       "      <td>14.5000</td>\n",
       "      <td>1</td>\n",
       "      <td>0</td>\n",
       "      <td>2665</td>\n",
       "      <td>14.454200</td>\n",
       "      <td>NaN</td>\n",
       "      <td>Cherbourg</td>\n",
       "      <td>NaN</td>\n",
       "      <td>328.0</td>\n",
       "      <td>NaN</td>\n",
       "    </tr>\n",
       "    <tr>\n",
       "      <th>1305</th>\n",
       "      <td>1306</td>\n",
       "      <td>3rd</td>\n",
       "      <td>0</td>\n",
       "      <td>Zabour, Miss. Thamine</td>\n",
       "      <td>female</td>\n",
       "      <td>NaN</td>\n",
       "      <td>1</td>\n",
       "      <td>0</td>\n",
       "      <td>2665</td>\n",
       "      <td>14.454200</td>\n",
       "      <td>NaN</td>\n",
       "      <td>Cherbourg</td>\n",
       "      <td>NaN</td>\n",
       "      <td>NaN</td>\n",
       "      <td>NaN</td>\n",
       "    </tr>\n",
       "    <tr>\n",
       "      <th>1306</th>\n",
       "      <td>1307</td>\n",
       "      <td>3rd</td>\n",
       "      <td>0</td>\n",
       "      <td>Zakarian, Mr. Mapriededer</td>\n",
       "      <td>male</td>\n",
       "      <td>26.5000</td>\n",
       "      <td>0</td>\n",
       "      <td>0</td>\n",
       "      <td>2656</td>\n",
       "      <td>7.225000</td>\n",
       "      <td>NaN</td>\n",
       "      <td>Cherbourg</td>\n",
       "      <td>NaN</td>\n",
       "      <td>304.0</td>\n",
       "      <td>NaN</td>\n",
       "    </tr>\n",
       "    <tr>\n",
       "      <th>1307</th>\n",
       "      <td>1308</td>\n",
       "      <td>3rd</td>\n",
       "      <td>0</td>\n",
       "      <td>Zakarian, Mr. Ortin</td>\n",
       "      <td>male</td>\n",
       "      <td>27.0000</td>\n",
       "      <td>0</td>\n",
       "      <td>0</td>\n",
       "      <td>2670</td>\n",
       "      <td>7.225000</td>\n",
       "      <td>NaN</td>\n",
       "      <td>Cherbourg</td>\n",
       "      <td>NaN</td>\n",
       "      <td>NaN</td>\n",
       "      <td>NaN</td>\n",
       "    </tr>\n",
       "    <tr>\n",
       "      <th>1308</th>\n",
       "      <td>1309</td>\n",
       "      <td>3rd</td>\n",
       "      <td>0</td>\n",
       "      <td>Zimmerman, Mr. Leo</td>\n",
       "      <td>male</td>\n",
       "      <td>29.0000</td>\n",
       "      <td>0</td>\n",
       "      <td>0</td>\n",
       "      <td>315082</td>\n",
       "      <td>7.875000</td>\n",
       "      <td>NaN</td>\n",
       "      <td>Southampton</td>\n",
       "      <td>NaN</td>\n",
       "      <td>NaN</td>\n",
       "      <td>NaN</td>\n",
       "    </tr>\n",
       "  </tbody>\n",
       "</table>\n",
       "<p>1309 rows × 15 columns</p>\n",
       "</div>"
      ],
      "text/plain": [
       "      Unnamed: 0 pclass  survived                             name     sex  \\\n",
       "0              1    1st         1    Allen, Miss. Elisabeth Walton  female   \n",
       "1              2    1st         1   Allison, Master. Hudson Trevor    male   \n",
       "2              3    1st         0     Allison, Miss. Helen Loraine  female   \n",
       "3              4    1st         0  Allison, Mr. Hudson Joshua Crei    male   \n",
       "4              5    1st         0  Allison, Mrs. Hudson J C (Bessi  female   \n",
       "...          ...    ...       ...                              ...     ...   \n",
       "1304        1305    3rd         0             Zabour, Miss. Hileni  female   \n",
       "1305        1306    3rd         0            Zabour, Miss. Thamine  female   \n",
       "1306        1307    3rd         0        Zakarian, Mr. Mapriededer    male   \n",
       "1307        1308    3rd         0              Zakarian, Mr. Ortin    male   \n",
       "1308        1309    3rd         0               Zimmerman, Mr. Leo    male   \n",
       "\n",
       "          age  sibsp  parch  ticket        fare    cabin     embarked boat  \\\n",
       "0     29.0000      0      0   24160  211.337494       B5  Southampton    2   \n",
       "1      0.9167      1      2  113781  151.550003  C22 C26  Southampton   11   \n",
       "2      2.0000      1      2  113781  151.550003  C22 C26  Southampton  NaN   \n",
       "3     30.0000      1      2  113781  151.550003  C22 C26  Southampton  NaN   \n",
       "4     25.0000      1      2  113781  151.550003  C22 C26  Southampton  NaN   \n",
       "...       ...    ...    ...     ...         ...      ...          ...  ...   \n",
       "1304  14.5000      1      0    2665   14.454200      NaN    Cherbourg  NaN   \n",
       "1305      NaN      1      0    2665   14.454200      NaN    Cherbourg  NaN   \n",
       "1306  26.5000      0      0    2656    7.225000      NaN    Cherbourg  NaN   \n",
       "1307  27.0000      0      0    2670    7.225000      NaN    Cherbourg  NaN   \n",
       "1308  29.0000      0      0  315082    7.875000      NaN  Southampton  NaN   \n",
       "\n",
       "       body                        home.dest  \n",
       "0       NaN                     St Louis, MO  \n",
       "1       NaN  Montreal, PQ / Chesterville, ON  \n",
       "2       NaN  Montreal, PQ / Chesterville, ON  \n",
       "3     135.0  Montreal, PQ / Chesterville, ON  \n",
       "4       NaN  Montreal, PQ / Chesterville, ON  \n",
       "...     ...                              ...  \n",
       "1304  328.0                              NaN  \n",
       "1305    NaN                              NaN  \n",
       "1306  304.0                              NaN  \n",
       "1307    NaN                              NaN  \n",
       "1308    NaN                              NaN  \n",
       "\n",
       "[1309 rows x 15 columns]"
      ]
     },
     "execution_count": 2,
     "metadata": {},
     "output_type": "execute_result"
    }
   ],
   "source": [
    "titanic = pd.read_csv('./data/Titanic.csv')\n",
    "titanic "
   ]
  },
  {
   "cell_type": "markdown",
   "metadata": {},
   "source": [
    "## Step 1: \n",
    "\n",
    "Use our \"titanic\" dataset in homework #3 and split the data the same way you did in homework #3 as training and testing sets "
   ]
  },
  {
   "cell_type": "code",
   "execution_count": 3,
   "metadata": {},
   "outputs": [],
   "source": [
    "titanic.dropna(how=\"all\", inplace=True) #drop all the rows where all elements are missing "
   ]
  },
  {
   "cell_type": "code",
   "execution_count": 4,
   "metadata": {},
   "outputs": [],
   "source": [
    "feature_columns = [\"pclass\", \"sex\", \"age\", \"sibsp\"]\n",
    "\n",
    "titanic[\"survived\"] = titanic[\"survived\"].astype(int)\n",
    "y = titanic[\"survived\"]\n",
    "x = titanic[feature_columns].apply(LabelEncoder().fit_transform)"
   ]
  },
  {
   "cell_type": "code",
   "execution_count": 5,
   "metadata": {},
   "outputs": [],
   "source": [
    "xtrain, xtest, ytrain, ytest = train_test_split(x,y,test_size = 0.3, random_state = 1)"
   ]
  },
  {
   "cell_type": "code",
   "execution_count": 6,
   "metadata": {},
   "outputs": [
    {
     "name": "stdout",
     "output_type": "stream",
     "text": [
      "xtrain shape:  (916, 4)\n",
      "xtest shape:  (393, 4)\n",
      "\n",
      "\n",
      "ytrain shape (916,)\n",
      "ytest shape (393,)\n"
     ]
    }
   ],
   "source": [
    "print(\"xtrain shape: \", xtrain.shape)\n",
    "print(\"xtest shape: \", xtest.shape)\n",
    "print(\"\\n\")\n",
    "print(\"ytrain shape\", ytrain.shape)\n",
    "print(\"ytest shape\", ytest.shape)"
   ]
  },
  {
   "cell_type": "code",
   "execution_count": 7,
   "metadata": {},
   "outputs": [
    {
     "data": {
      "text/html": [
       "<div>\n",
       "<style scoped>\n",
       "    .dataframe tbody tr th:only-of-type {\n",
       "        vertical-align: middle;\n",
       "    }\n",
       "\n",
       "    .dataframe tbody tr th {\n",
       "        vertical-align: top;\n",
       "    }\n",
       "\n",
       "    .dataframe thead th {\n",
       "        text-align: right;\n",
       "    }\n",
       "</style>\n",
       "<table border=\"1\" class=\"dataframe\">\n",
       "  <thead>\n",
       "    <tr style=\"text-align: right;\">\n",
       "      <th></th>\n",
       "      <th>count</th>\n",
       "      <th>mean</th>\n",
       "      <th>std</th>\n",
       "      <th>min</th>\n",
       "      <th>25%</th>\n",
       "      <th>50%</th>\n",
       "      <th>75%</th>\n",
       "      <th>max</th>\n",
       "    </tr>\n",
       "  </thead>\n",
       "  <tbody>\n",
       "    <tr>\n",
       "      <th>pclass</th>\n",
       "      <td>393.0</td>\n",
       "      <td>1.264631</td>\n",
       "      <td>0.854876</td>\n",
       "      <td>0.0</td>\n",
       "      <td>0.0</td>\n",
       "      <td>2.0</td>\n",
       "      <td>2.0</td>\n",
       "      <td>2.0</td>\n",
       "    </tr>\n",
       "    <tr>\n",
       "      <th>sex</th>\n",
       "      <td>393.0</td>\n",
       "      <td>0.628499</td>\n",
       "      <td>0.483822</td>\n",
       "      <td>0.0</td>\n",
       "      <td>0.0</td>\n",
       "      <td>1.0</td>\n",
       "      <td>1.0</td>\n",
       "      <td>1.0</td>\n",
       "    </tr>\n",
       "    <tr>\n",
       "      <th>age</th>\n",
       "      <td>393.0</td>\n",
       "      <td>83.503817</td>\n",
       "      <td>88.186870</td>\n",
       "      <td>2.0</td>\n",
       "      <td>32.0</td>\n",
       "      <td>48.0</td>\n",
       "      <td>76.0</td>\n",
       "      <td>360.0</td>\n",
       "    </tr>\n",
       "    <tr>\n",
       "      <th>sibsp</th>\n",
       "      <td>393.0</td>\n",
       "      <td>0.473282</td>\n",
       "      <td>0.914689</td>\n",
       "      <td>0.0</td>\n",
       "      <td>0.0</td>\n",
       "      <td>0.0</td>\n",
       "      <td>1.0</td>\n",
       "      <td>5.0</td>\n",
       "    </tr>\n",
       "  </tbody>\n",
       "</table>\n",
       "</div>"
      ],
      "text/plain": [
       "        count       mean        std  min   25%   50%   75%    max\n",
       "pclass  393.0   1.264631   0.854876  0.0   0.0   2.0   2.0    2.0\n",
       "sex     393.0   0.628499   0.483822  0.0   0.0   1.0   1.0    1.0\n",
       "age     393.0  83.503817  88.186870  2.0  32.0  48.0  76.0  360.0\n",
       "sibsp   393.0   0.473282   0.914689  0.0   0.0   0.0   1.0    5.0"
      ]
     },
     "execution_count": 7,
     "metadata": {},
     "output_type": "execute_result"
    }
   ],
   "source": [
    "xtest.describe().transpose()"
   ]
  },
  {
   "cell_type": "markdown",
   "metadata": {},
   "source": [
    "## Step 2 \n",
    "\n",
    "Fit a neural network using independent variables 'pclass + sex + age + sibsp' and independent variable 'survived'. Omit all NA examples. Use ***2 hidden layers*** and set the activation functions for both the hidden and output layer to be the sigmoid function. Set the \"solver\" parameter as either SGD (stochastic gradient descent) or Adam (similar to SGD but optimized performance with mini batches). You can adjust parameter \"alpha\" for regularlization (to control overfitting) and other parameters such as \"learning rate\" and \"momentum\" as needed "
   ]
  },
  {
   "cell_type": "code",
   "execution_count": 8,
   "metadata": {},
   "outputs": [],
   "source": [
    "mlp = MLPClassifier(hidden_layer_sizes = (10, 10), \n",
    "                    activation=\"logistic\", \n",
    "                    solver=\"adam\", \n",
    "                    alpha =1e-5, \n",
    "                    momentum = 0.1,\n",
    "                    max_iter = 200, \n",
    "                    verbose=True) "
   ]
  },
  {
   "cell_type": "code",
   "execution_count": 9,
   "metadata": {},
   "outputs": [
    {
     "name": "stdout",
     "output_type": "stream",
     "text": [
      "Iteration 1, loss = 0.73824458\n",
      "Iteration 2, loss = 0.72880694\n",
      "Iteration 3, loss = 0.72029153\n",
      "Iteration 4, loss = 0.71203468\n",
      "Iteration 5, loss = 0.70503045\n",
      "Iteration 6, loss = 0.69813220\n",
      "Iteration 7, loss = 0.69240530\n",
      "Iteration 8, loss = 0.68703960\n",
      "Iteration 9, loss = 0.68236836\n",
      "Iteration 10, loss = 0.67818218\n",
      "Iteration 11, loss = 0.67440223\n",
      "Iteration 12, loss = 0.67045033\n",
      "Iteration 13, loss = 0.66763951\n",
      "Iteration 14, loss = 0.66557869\n",
      "Iteration 15, loss = 0.66405144\n",
      "Iteration 16, loss = 0.66262786\n",
      "Iteration 17, loss = 0.66147896\n",
      "Iteration 18, loss = 0.66042057\n",
      "Iteration 19, loss = 0.65973449\n",
      "Iteration 20, loss = 0.65948979\n",
      "Iteration 21, loss = 0.65895676\n",
      "Iteration 22, loss = 0.65870189\n",
      "Iteration 23, loss = 0.65847767\n",
      "Iteration 24, loss = 0.65827468\n",
      "Iteration 25, loss = 0.65806844\n",
      "Iteration 26, loss = 0.65790248\n",
      "Iteration 27, loss = 0.65772716\n",
      "Iteration 28, loss = 0.65753749\n",
      "Iteration 29, loss = 0.65741929\n",
      "Iteration 30, loss = 0.65727187\n",
      "Iteration 31, loss = 0.65712155\n",
      "Iteration 32, loss = 0.65699949\n",
      "Iteration 33, loss = 0.65682770\n",
      "Iteration 34, loss = 0.65669708\n",
      "Iteration 35, loss = 0.65652071\n",
      "Iteration 36, loss = 0.65635441\n",
      "Iteration 37, loss = 0.65623509\n",
      "Iteration 38, loss = 0.65606368\n",
      "Iteration 39, loss = 0.65587556\n",
      "Iteration 40, loss = 0.65571955\n",
      "Iteration 41, loss = 0.65556764\n",
      "Iteration 42, loss = 0.65538140\n",
      "Iteration 43, loss = 0.65515007\n",
      "Iteration 44, loss = 0.65497998\n",
      "Iteration 45, loss = 0.65473180\n",
      "Iteration 46, loss = 0.65452022\n",
      "Iteration 47, loss = 0.65434672\n",
      "Iteration 48, loss = 0.65404649\n",
      "Iteration 49, loss = 0.65381213\n",
      "Iteration 50, loss = 0.65359838\n",
      "Iteration 51, loss = 0.65331376\n",
      "Iteration 52, loss = 0.65309429\n",
      "Iteration 53, loss = 0.65280275\n",
      "Iteration 54, loss = 0.65255819\n",
      "Iteration 55, loss = 0.65227067\n",
      "Iteration 56, loss = 0.65193185\n",
      "Iteration 57, loss = 0.65156115\n",
      "Iteration 58, loss = 0.65117772\n",
      "Iteration 59, loss = 0.65067766\n",
      "Iteration 60, loss = 0.65017646\n",
      "Iteration 61, loss = 0.64960741\n",
      "Iteration 62, loss = 0.64914443\n",
      "Iteration 63, loss = 0.64858855\n",
      "Iteration 64, loss = 0.64807786\n",
      "Iteration 65, loss = 0.64750177\n",
      "Iteration 66, loss = 0.64704400\n",
      "Iteration 67, loss = 0.64650860\n",
      "Iteration 68, loss = 0.64583926\n",
      "Iteration 69, loss = 0.64534248\n",
      "Iteration 70, loss = 0.64467757\n",
      "Iteration 71, loss = 0.64409925\n",
      "Iteration 72, loss = 0.64350637\n",
      "Iteration 73, loss = 0.64300615\n",
      "Iteration 74, loss = 0.64292920\n",
      "Iteration 75, loss = 0.64154756\n",
      "Iteration 76, loss = 0.64085052\n",
      "Iteration 77, loss = 0.64015299\n",
      "Iteration 78, loss = 0.63931054\n",
      "Iteration 79, loss = 0.63857272\n",
      "Iteration 80, loss = 0.63778813\n",
      "Iteration 81, loss = 0.63699660\n",
      "Iteration 82, loss = 0.63596584\n",
      "Iteration 83, loss = 0.63537424\n",
      "Iteration 84, loss = 0.63426935\n",
      "Iteration 85, loss = 0.63302123\n",
      "Iteration 86, loss = 0.63201822\n",
      "Iteration 87, loss = 0.63087235\n",
      "Iteration 88, loss = 0.62968752\n",
      "Iteration 89, loss = 0.62826792\n",
      "Iteration 90, loss = 0.62686333\n",
      "Iteration 91, loss = 0.62549899\n",
      "Iteration 92, loss = 0.62405083\n",
      "Iteration 93, loss = 0.62241526\n",
      "Iteration 94, loss = 0.62122792\n",
      "Iteration 95, loss = 0.62016408\n",
      "Iteration 96, loss = 0.61787927\n",
      "Iteration 97, loss = 0.61634437\n",
      "Iteration 98, loss = 0.61479856\n",
      "Iteration 99, loss = 0.61314795\n",
      "Iteration 100, loss = 0.61138988\n",
      "Iteration 101, loss = 0.60994581\n",
      "Iteration 102, loss = 0.60820108\n",
      "Iteration 103, loss = 0.60654737\n",
      "Iteration 104, loss = 0.60428868\n",
      "Iteration 105, loss = 0.60290974\n",
      "Iteration 106, loss = 0.60108640\n",
      "Iteration 107, loss = 0.60024154\n",
      "Iteration 108, loss = 0.59847052\n",
      "Iteration 109, loss = 0.59566032\n",
      "Iteration 110, loss = 0.59346574\n",
      "Iteration 111, loss = 0.59204453\n",
      "Iteration 112, loss = 0.58966709\n",
      "Iteration 113, loss = 0.58754363\n",
      "Iteration 114, loss = 0.58536865\n",
      "Iteration 115, loss = 0.58351896\n",
      "Iteration 116, loss = 0.58135202\n",
      "Iteration 117, loss = 0.57969436\n",
      "Iteration 118, loss = 0.57807938\n",
      "Iteration 119, loss = 0.57532904\n",
      "Iteration 120, loss = 0.57365657\n",
      "Iteration 121, loss = 0.57059519\n",
      "Iteration 122, loss = 0.57048768\n",
      "Iteration 123, loss = 0.56748462\n",
      "Iteration 124, loss = 0.56489366\n",
      "Iteration 125, loss = 0.56330626\n",
      "Iteration 126, loss = 0.56109083\n",
      "Iteration 127, loss = 0.55849430\n",
      "Iteration 128, loss = 0.55685985\n",
      "Iteration 129, loss = 0.55453531\n",
      "Iteration 130, loss = 0.55214199\n",
      "Iteration 131, loss = 0.55012067\n",
      "Iteration 132, loss = 0.54838651\n",
      "Iteration 133, loss = 0.54611956\n",
      "Iteration 134, loss = 0.54413507\n",
      "Iteration 135, loss = 0.54241648\n",
      "Iteration 136, loss = 0.54028084\n",
      "Iteration 137, loss = 0.53835697\n",
      "Iteration 138, loss = 0.53594516\n",
      "Iteration 139, loss = 0.53467795\n",
      "Iteration 140, loss = 0.53289735\n",
      "Iteration 141, loss = 0.52952827\n",
      "Iteration 142, loss = 0.52817292\n",
      "Iteration 143, loss = 0.52610149\n",
      "Iteration 144, loss = 0.52468135\n",
      "Iteration 145, loss = 0.52270258\n",
      "Iteration 146, loss = 0.52101175\n",
      "Iteration 147, loss = 0.51877363\n",
      "Iteration 148, loss = 0.51756619\n",
      "Iteration 149, loss = 0.51687450\n",
      "Iteration 150, loss = 0.51468755\n",
      "Iteration 151, loss = 0.51330033\n",
      "Iteration 152, loss = 0.51009833\n",
      "Iteration 153, loss = 0.50914568\n",
      "Iteration 154, loss = 0.50680458\n",
      "Iteration 155, loss = 0.50560381\n",
      "Iteration 156, loss = 0.50457929\n",
      "Iteration 157, loss = 0.50261560\n",
      "Iteration 158, loss = 0.50023936\n",
      "Iteration 159, loss = 0.49947244\n",
      "Iteration 160, loss = 0.49749048\n",
      "Iteration 161, loss = 0.49724562\n",
      "Iteration 162, loss = 0.49465937\n",
      "Iteration 163, loss = 0.49351565\n",
      "Iteration 164, loss = 0.49288723\n",
      "Iteration 165, loss = 0.49042949\n",
      "Iteration 166, loss = 0.49071176\n",
      "Iteration 167, loss = 0.48887409\n",
      "Iteration 168, loss = 0.48709269\n",
      "Iteration 169, loss = 0.48573973\n",
      "Iteration 170, loss = 0.48437663\n",
      "Iteration 171, loss = 0.48320996\n",
      "Iteration 172, loss = 0.48182875\n",
      "Iteration 173, loss = 0.48125658\n",
      "Iteration 174, loss = 0.48014909\n",
      "Iteration 175, loss = 0.47924945\n",
      "Iteration 176, loss = 0.47821107\n",
      "Iteration 177, loss = 0.47695379\n",
      "Iteration 178, loss = 0.47773585\n",
      "Iteration 179, loss = 0.47537006\n",
      "Iteration 180, loss = 0.47471190\n",
      "Iteration 181, loss = 0.47812119\n",
      "Iteration 182, loss = 0.47430363\n",
      "Iteration 183, loss = 0.47355557\n",
      "Iteration 184, loss = 0.47127277\n",
      "Iteration 185, loss = 0.47016827\n",
      "Iteration 186, loss = 0.46956705\n",
      "Iteration 187, loss = 0.46809519\n",
      "Iteration 188, loss = 0.46785248\n",
      "Iteration 189, loss = 0.46711597\n",
      "Iteration 190, loss = 0.46672989\n",
      "Iteration 191, loss = 0.46613380\n",
      "Iteration 192, loss = 0.46452689\n",
      "Iteration 193, loss = 0.46479683\n",
      "Iteration 194, loss = 0.46388812\n",
      "Iteration 195, loss = 0.46304741\n",
      "Iteration 196, loss = 0.46315158\n",
      "Iteration 197, loss = 0.46220655\n",
      "Iteration 198, loss = 0.46133680\n",
      "Iteration 199, loss = 0.46111133\n",
      "Iteration 200, loss = 0.46120677\n"
     ]
    },
    {
     "name": "stderr",
     "output_type": "stream",
     "text": [
      "/usr/local/anaconda3/lib/python3.7/site-packages/sklearn/neural_network/_multilayer_perceptron.py:571: ConvergenceWarning: Stochastic Optimizer: Maximum iterations (200) reached and the optimization hasn't converged yet.\n",
      "  % self.max_iter, ConvergenceWarning)\n"
     ]
    },
    {
     "data": {
      "text/plain": [
       "MLPClassifier(activation='logistic', alpha=1e-05, batch_size='auto', beta_1=0.9,\n",
       "              beta_2=0.999, early_stopping=False, epsilon=1e-08,\n",
       "              hidden_layer_sizes=(10, 10), learning_rate='constant',\n",
       "              learning_rate_init=0.001, max_fun=15000, max_iter=200,\n",
       "              momentum=0.1, n_iter_no_change=10, nesterovs_momentum=True,\n",
       "              power_t=0.5, random_state=None, shuffle=True, solver='adam',\n",
       "              tol=0.0001, validation_fraction=0.1, verbose=True,\n",
       "              warm_start=False)"
      ]
     },
     "execution_count": 9,
     "metadata": {},
     "output_type": "execute_result"
    }
   ],
   "source": [
    "mlp.fit(xtrain, ytrain)"
   ]
  },
  {
   "cell_type": "markdown",
   "metadata": {},
   "source": [
    "Return the mean accuracy on the given test data and labels "
   ]
  },
  {
   "cell_type": "code",
   "execution_count": 10,
   "metadata": {},
   "outputs": [
    {
     "name": "stdout",
     "output_type": "stream",
     "text": [
      "0.7958515283842795\n"
     ]
    }
   ],
   "source": [
    "score100 = mlp.score(xtrain, ytrain)\n",
    "print(score100)"
   ]
  },
  {
   "cell_type": "code",
   "execution_count": 11,
   "metadata": {},
   "outputs": [],
   "source": [
    "predictions = mlp.predict(xtest)"
   ]
  },
  {
   "cell_type": "code",
   "execution_count": 12,
   "metadata": {},
   "outputs": [
    {
     "name": "stdout",
     "output_type": "stream",
     "text": [
      "[[223  13]\n",
      " [ 69  88]]\n"
     ]
    }
   ],
   "source": [
    "print(confusion_matrix(ytest, predictions))"
   ]
  },
  {
   "cell_type": "code",
   "execution_count": 13,
   "metadata": {},
   "outputs": [
    {
     "name": "stdout",
     "output_type": "stream",
     "text": [
      "              precision    recall  f1-score   support\n",
      "\n",
      "           0       0.76      0.94      0.84       236\n",
      "           1       0.87      0.56      0.68       157\n",
      "\n",
      "    accuracy                           0.79       393\n",
      "   macro avg       0.82      0.75      0.76       393\n",
      "weighted avg       0.81      0.79      0.78       393\n",
      "\n"
     ]
    }
   ],
   "source": [
    "print(classification_report(ytest, predictions))"
   ]
  },
  {
   "cell_type": "markdown",
   "metadata": {},
   "source": [
    "## Step 3: \n",
    "\n",
    "Check the performance of the model: in sample and out-of-sample accuracy. Please try two different network structures (i.e. number of neurons at each hideen layer) and show their respective accuracy. "
   ]
  },
  {
   "cell_type": "code",
   "execution_count": 14,
   "metadata": {},
   "outputs": [
    {
     "name": "stdout",
     "output_type": "stream",
     "text": [
      "In sample percent survivors correctly predicted: 54.81%\n",
      "In sample percent fatalaties correctly predicted: 94.42%\n",
      "Out sample percent survivors correctly predicted: 54.81%\n",
      "Out sample percent survivors correctly predicted: 94.42%\n"
     ]
    }
   ],
   "source": [
    "# In samples percent survivors/fatalities correctly predicted (on training set)\n",
    "inSample_y = mlp.predict(xtrain)\n",
    "inSampleSurvivors = 1 - sum(inSample_y[ytrain == 1] ^ ytrain[ytrain == 1]) / len(ytrain[ytrain == 1])\n",
    "inSampleFatalities = 1 - sum(inSample_y[ytrain == 0] ^ ytrain[ytrain == 0]) / len(ytrain[ytrain == 0])\n",
    "\n",
    "# out-of-samples percent survivors/fatalities correctly predicted (on training set)\n",
    "outSample_y = mlp.predict(xtest)\n",
    "outSampleSurvivors = 1 - sum(inSample_y[ytrain == 1] ^ ytrain[ytrain == 1]) / len(ytrain[ytrain == 1])\n",
    "outSampleFatalities = 1 - sum(inSample_y[ytrain == 0] ^ ytrain[ytrain == 0]) / len(ytrain[ytrain == 0])\n",
    "\n",
    "print(\"In sample percent survivors correctly predicted: {:.2f}%\".format(inSampleSurvivors*100))\n",
    "print(\"In sample percent fatalaties correctly predicted: {:.2f}%\".format(inSampleFatalities*100))\n",
    "print(\"Out sample percent survivors correctly predicted: {:.2f}%\".format(outSampleSurvivors*100))\n",
    "print(\"Out sample percent survivors correctly predicted: {:.2f}%\".format(outSampleFatalities*100))"
   ]
  },
  {
   "cell_type": "markdown",
   "metadata": {},
   "source": [
    "---"
   ]
  },
  {
   "cell_type": "markdown",
   "metadata": {},
   "source": [
    "#### 3.1 Changing number of neurons in the hidden layer "
   ]
  },
  {
   "cell_type": "code",
   "execution_count": 15,
   "metadata": {},
   "outputs": [],
   "source": [
    "mlp = MLPClassifier(hidden_layer_sizes = (100, 100), # 4 features + 1 label column \n",
    "                    activation=\"logistic\", \n",
    "                    solver=\"adam\", \n",
    "                    alpha =1e-5, \n",
    "                    momentum = 0.1,\n",
    "                    max_iter = 200, \n",
    "                    verbose=True) "
   ]
  },
  {
   "cell_type": "code",
   "execution_count": 16,
   "metadata": {},
   "outputs": [
    {
     "name": "stdout",
     "output_type": "stream",
     "text": [
      "Iteration 1, loss = 0.70339162\n",
      "Iteration 2, loss = 0.66178596\n",
      "Iteration 3, loss = 0.66970536\n",
      "Iteration 4, loss = 0.66346569\n",
      "Iteration 5, loss = 0.65629791\n",
      "Iteration 6, loss = 0.65583213\n",
      "Iteration 7, loss = 0.65429191\n",
      "Iteration 8, loss = 0.65200603\n",
      "Iteration 9, loss = 0.65178750\n",
      "Iteration 10, loss = 0.65126508\n",
      "Iteration 11, loss = 0.64996037\n",
      "Iteration 12, loss = 0.64970686\n",
      "Iteration 13, loss = 0.64837047\n",
      "Iteration 14, loss = 0.64729096\n",
      "Iteration 15, loss = 0.64694294\n",
      "Iteration 16, loss = 0.64548658\n",
      "Iteration 17, loss = 0.64496483\n",
      "Iteration 18, loss = 0.64301157\n",
      "Iteration 19, loss = 0.64185076\n",
      "Iteration 20, loss = 0.63918545\n",
      "Iteration 21, loss = 0.63658622\n",
      "Iteration 22, loss = 0.63565051\n",
      "Iteration 23, loss = 0.63207341\n",
      "Iteration 24, loss = 0.63049048\n",
      "Iteration 25, loss = 0.62590242\n",
      "Iteration 26, loss = 0.62257138\n",
      "Iteration 27, loss = 0.61707607\n",
      "Iteration 28, loss = 0.61213989\n",
      "Iteration 29, loss = 0.60598507\n",
      "Iteration 30, loss = 0.60125358\n",
      "Iteration 31, loss = 0.59185274\n",
      "Iteration 32, loss = 0.58821488\n",
      "Iteration 33, loss = 0.58135010\n",
      "Iteration 34, loss = 0.57255563\n",
      "Iteration 35, loss = 0.56495294\n",
      "Iteration 36, loss = 0.55683340\n",
      "Iteration 37, loss = 0.54803999\n",
      "Iteration 38, loss = 0.54100187\n",
      "Iteration 39, loss = 0.53343787\n",
      "Iteration 40, loss = 0.52403111\n",
      "Iteration 41, loss = 0.51903607\n",
      "Iteration 42, loss = 0.51178269\n",
      "Iteration 43, loss = 0.50701473\n",
      "Iteration 44, loss = 0.50060633\n",
      "Iteration 45, loss = 0.50155864\n",
      "Iteration 46, loss = 0.49571560\n",
      "Iteration 47, loss = 0.48619529\n",
      "Iteration 48, loss = 0.48156278\n",
      "Iteration 49, loss = 0.48048496\n",
      "Iteration 50, loss = 0.47927865\n",
      "Iteration 51, loss = 0.47445272\n",
      "Iteration 52, loss = 0.48001723\n",
      "Iteration 53, loss = 0.47427327\n",
      "Iteration 54, loss = 0.46791497\n",
      "Iteration 55, loss = 0.46812761\n",
      "Iteration 56, loss = 0.46345030\n",
      "Iteration 57, loss = 0.46546479\n",
      "Iteration 58, loss = 0.46204368\n",
      "Iteration 59, loss = 0.45939541\n",
      "Iteration 60, loss = 0.45768217\n",
      "Iteration 61, loss = 0.45642733\n",
      "Iteration 62, loss = 0.45607006\n",
      "Iteration 63, loss = 0.45442859\n",
      "Iteration 64, loss = 0.45682121\n",
      "Iteration 65, loss = 0.45343433\n",
      "Iteration 66, loss = 0.45400836\n",
      "Iteration 67, loss = 0.45202881\n",
      "Iteration 68, loss = 0.45333994\n",
      "Iteration 69, loss = 0.45398286\n",
      "Iteration 70, loss = 0.45567191\n",
      "Iteration 71, loss = 0.45272899\n",
      "Iteration 72, loss = 0.45152312\n",
      "Iteration 73, loss = 0.44893310\n",
      "Iteration 74, loss = 0.45752095\n",
      "Iteration 75, loss = 0.45826722\n",
      "Iteration 76, loss = 0.45090889\n",
      "Iteration 77, loss = 0.45167405\n",
      "Iteration 78, loss = 0.44908551\n",
      "Iteration 79, loss = 0.44907215\n",
      "Iteration 80, loss = 0.44825735\n",
      "Iteration 81, loss = 0.45078917\n",
      "Iteration 82, loss = 0.44998332\n",
      "Iteration 83, loss = 0.44765432\n",
      "Iteration 84, loss = 0.44971246\n",
      "Iteration 85, loss = 0.44861602\n",
      "Iteration 86, loss = 0.45776633\n",
      "Iteration 87, loss = 0.45568824\n",
      "Iteration 88, loss = 0.45075267\n",
      "Iteration 89, loss = 0.44960572\n",
      "Iteration 90, loss = 0.44644398\n",
      "Iteration 91, loss = 0.44958302\n",
      "Iteration 92, loss = 0.44920099\n",
      "Iteration 93, loss = 0.44721259\n",
      "Iteration 94, loss = 0.44720305\n",
      "Iteration 95, loss = 0.44769150\n",
      "Iteration 96, loss = 0.44647472\n",
      "Iteration 97, loss = 0.44660945\n",
      "Iteration 98, loss = 0.44686006\n",
      "Iteration 99, loss = 0.45009425\n",
      "Iteration 100, loss = 0.44964348\n",
      "Iteration 101, loss = 0.44883242\n",
      "Training loss did not improve more than tol=0.000100 for 10 consecutive epochs. Stopping.\n"
     ]
    },
    {
     "data": {
      "text/plain": [
       "MLPClassifier(activation='logistic', alpha=1e-05, batch_size='auto', beta_1=0.9,\n",
       "              beta_2=0.999, early_stopping=False, epsilon=1e-08,\n",
       "              hidden_layer_sizes=(100, 100), learning_rate='constant',\n",
       "              learning_rate_init=0.001, max_fun=15000, max_iter=200,\n",
       "              momentum=0.1, n_iter_no_change=10, nesterovs_momentum=True,\n",
       "              power_t=0.5, random_state=None, shuffle=True, solver='adam',\n",
       "              tol=0.0001, validation_fraction=0.1, verbose=True,\n",
       "              warm_start=False)"
      ]
     },
     "execution_count": 16,
     "metadata": {},
     "output_type": "execute_result"
    }
   ],
   "source": [
    "mlp.fit(xtrain, ytrain)"
   ]
  },
  {
   "cell_type": "code",
   "execution_count": 17,
   "metadata": {},
   "outputs": [
    {
     "name": "stdout",
     "output_type": "stream",
     "text": [
      "0.8100436681222707\n"
     ]
    }
   ],
   "source": [
    "score5 = mlp.score(xtrain, ytrain)\n",
    "print(score5)"
   ]
  },
  {
   "cell_type": "code",
   "execution_count": 18,
   "metadata": {},
   "outputs": [],
   "source": [
    "predictions = mlp.predict(xtest)"
   ]
  },
  {
   "cell_type": "code",
   "execution_count": 19,
   "metadata": {},
   "outputs": [
    {
     "name": "stdout",
     "output_type": "stream",
     "text": [
      "[[216  20]\n",
      " [ 57 100]]\n"
     ]
    }
   ],
   "source": [
    "print(confusion_matrix(ytest, predictions))"
   ]
  },
  {
   "cell_type": "code",
   "execution_count": 20,
   "metadata": {},
   "outputs": [
    {
     "name": "stdout",
     "output_type": "stream",
     "text": [
      "              precision    recall  f1-score   support\n",
      "\n",
      "           0       0.79      0.92      0.85       236\n",
      "           1       0.83      0.64      0.72       157\n",
      "\n",
      "    accuracy                           0.80       393\n",
      "   macro avg       0.81      0.78      0.79       393\n",
      "weighted avg       0.81      0.80      0.80       393\n",
      "\n"
     ]
    }
   ],
   "source": [
    "print(classification_report(ytest, predictions))"
   ]
  },
  {
   "cell_type": "code",
   "execution_count": 21,
   "metadata": {},
   "outputs": [
    {
     "name": "stdout",
     "output_type": "stream",
     "text": [
      "In sample percent survivors correctly predicted: 64.43%\n",
      "In sample percent fatalaties correctly predicted: 90.92%\n",
      "Out sample percent survivors correctly predicted: 64.43%\n",
      "Out sample percent survivors correctly predicted: 90.92%\n"
     ]
    }
   ],
   "source": [
    "# In samples percent survivors/fatalities correctly predicted (on training set)\n",
    "inSample_y = mlp.predict(xtrain)\n",
    "inSampleSurvivors = 1 - sum(inSample_y[ytrain == 1] ^ ytrain[ytrain == 1]) / len(ytrain[ytrain == 1])\n",
    "inSampleFatalities = 1 - sum(inSample_y[ytrain == 0] ^ ytrain[ytrain == 0]) / len(ytrain[ytrain == 0])\n",
    "\n",
    "# out-of-samples percent survivors/fatalities correctly predicted (on training set)\n",
    "outSample_y = mlp.predict(xtest)\n",
    "outSampleSurvivors = 1 - sum(inSample_y[ytrain == 1] ^ ytrain[ytrain == 1]) / len(ytrain[ytrain == 1])\n",
    "outSampleFatalities = 1 - sum(inSample_y[ytrain == 0] ^ ytrain[ytrain == 0]) / len(ytrain[ytrain == 0])\n",
    "\n",
    "print(\"In sample percent survivors correctly predicted: {:.2f}%\".format(inSampleSurvivors*100))\n",
    "print(\"In sample percent fatalaties correctly predicted: {:.2f}%\".format(inSampleFatalities*100))\n",
    "print(\"Out sample percent survivors correctly predicted: {:.2f}%\".format(outSampleSurvivors*100))\n",
    "print(\"Out sample percent survivors correctly predicted: {:.2f}%\".format(outSampleFatalities*100))"
   ]
  },
  {
   "cell_type": "code",
   "execution_count": 22,
   "metadata": {},
   "outputs": [
    {
     "name": "stdout",
     "output_type": "stream",
     "text": [
      "A Multi-layer Perceptron with two hidden layers of 10 neurons each had an accuracy score\n",
      " of on the given test data and labels: 0.7958515283842795\n",
      "A Multi-layer Perceptron with two hidden layers of 100 neurons each had an accuracy score\n",
      " of on the given test data and labels: 0.8100436681222707\n"
     ]
    }
   ],
   "source": [
    "print(\"A Multi-layer Perceptron with two hidden layers of 10 neurons each had an accuracy score\\n of on the given test data and labels:\",  score100)\n",
    "print(\"A Multi-layer Perceptron with two hidden layers of 100 neurons each had an accuracy score\\n of on the given test data and labels:\",  score5)"
   ]
  },
  {
   "cell_type": "markdown",
   "metadata": {},
   "source": [
    "## Step 4\n",
    "\n",
    "Compare the in-sample and out-of-sample accuracy (as defined in step 3) with the pruned decision tree obtained in homework #3 (You can either use a table of a figure to compare the accuracy of the two learning algorithms"
   ]
  },
  {
   "cell_type": "code",
   "execution_count": 23,
   "metadata": {},
   "outputs": [
    {
     "name": "stdout",
     "output_type": "stream",
     "text": [
      "Accuracy                     MLP: Value    Pruned Tree: Value\n",
      "-------------------------  ------------  --------------------\n",
      "In-Sample Survivors             64.4315               96.6184\n",
      "In-Sample Fatalities            90.925                79.1255\n",
      "Out-of-Sample Survivors         64.4315               85.2273\n",
      "Out-of-Sample Fatalitiles       90.925                74.7541\n"
     ]
    }
   ],
   "source": [
    "print(tabulate([\n",
    "                [\"In-Sample Survivors\",  inSampleSurvivors*100 , 96.61835748792271], \n",
    "                [\"In-Sample Fatalities\",inSampleFatalities*100, 79.12552891396332], \n",
    "                [\"Out-of-Sample Survivors\", outSampleSurvivors*100, 85.22727272727273], \n",
    "                [\"Out-of-Sample Fatalitiles\", outSampleFatalities*100,74.75409836065575]], \n",
    "            headers=['Accuracy','MLP: Value', 'Pruned Tree: Value']))"
   ]
  },
  {
   "cell_type": "markdown",
   "metadata": {},
   "source": [
    "Our results show that a pruned tree performed with a higher accuracy for determining in-sample survivors as well as out-of-sample survivors. This may be due to the fact that with MLP, we have attributes that we have to fine tune ourselves. "
   ]
  }
 ],
 "metadata": {
  "kernelspec": {
   "display_name": "Python 3",
   "language": "python",
   "name": "python3"
  },
  "language_info": {
   "codemirror_mode": {
    "name": "ipython",
    "version": 3
   },
   "file_extension": ".py",
   "mimetype": "text/x-python",
   "name": "python",
   "nbconvert_exporter": "python",
   "pygments_lexer": "ipython3",
   "version": "3.7.1"
  }
 },
 "nbformat": 4,
 "nbformat_minor": 2
}
