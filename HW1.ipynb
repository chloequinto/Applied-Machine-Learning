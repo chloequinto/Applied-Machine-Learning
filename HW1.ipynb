{
 "cells": [
  {
   "cell_type": "markdown",
   "metadata": {},
   "source": [
    "##### CPE 695:  HW 1 ####\n",
    "Chloe Quinto    \n",
    "HW 1   \n",
    "Jan 19 2020    \n",
    "*I pledge my honor that I have abided by the Stevens Honor System* - Chloe Quinto  \n"
   ]
  },
  {
   "cell_type": "code",
   "execution_count": 1,
   "metadata": {},
   "outputs": [],
   "source": [
    "import numpy as np\n",
    "import matplotlib.pyplot as plt\n",
    "from sklearn.linear_model import LinearRegression\n",
    "from sklearn.preprocessing import PolynomialFeatures\n",
    "from sklearn.pipeline import make_pipeline"
   ]
  },
  {
   "cell_type": "code",
   "execution_count": 2,
   "metadata": {},
   "outputs": [],
   "source": [
    "plt.style.use(\"seaborn-whitegrid\")"
   ]
  },
  {
   "cell_type": "code",
   "execution_count": 3,
   "metadata": {},
   "outputs": [],
   "source": [
    "noise_scale = 100\n",
    "number_of_samples = 50 \n",
    "x = 25 *(np.random.rand(number_of_samples,1)-0.8)\n",
    "y = 5*x + 20*x**2+1*x**3+noise_scale*np.random.randn(number_of_samples,1)"
   ]
  },
  {
   "cell_type": "code",
   "execution_count": 4,
   "metadata": {},
   "outputs": [
    {
     "data": {
      "image/png": "[encoded data removed]",
      "text/plain": [
       "<Figure size 432x288 with 1 Axes>"
      ]
     },
     "metadata": {},
     "output_type": "display_data"
    }
   ],
   "source": [
    "plt.plot(x,y,'ro')\n",
    "plt.show()"
   ]
  },
  {
   "cell_type": "code",
   "execution_count": 58,
   "metadata": {},
   "outputs": [
    {
     "data": {
      "image/png": "[encoded data removed]",
      "text/plain": [
       "<Figure size 432x288 with 1 Axes>"
      ]
     },
     "metadata": {},
     "output_type": "display_data"
    }
   ],
   "source": [
    "\"\"\"\n",
    "Problem 1: Please plot the noisy data and the polynomial you found (in the same figure). \n",
    "You can use any value of m selected from 2,3,4,5,6\n",
    "\"\"\"\n",
    "# We need to plot the polynomial coefficients \n",
    "coeff = np.polyfit(x,y,4) #Least squares polynomial fit\n",
    "poly = np.poly1d(coeff)\n",
    "\n",
    "plt.plot(x,y, 'ro') #plot original points \n",
    "\n",
    "# x observations are unsorted which results in multiple lines \n",
    "sortMe = np.sort(x) \n",
    "\n",
    "# sortMe[0] = -19 , poly(sortMe[0]) = 149 \n",
    "plt.plot(sortMe, poly(sortMe)) \n",
    "plt.show()\n"
   ]
  },
  {
   "cell_type": "code",
   "execution_count": 97,
   "metadata": {},
   "outputs": [
    {
     "name": "stdout",
     "output_type": "stream",
     "text": [
      "[array([-38.0764441 , 318.16367709]), array([ -2.99914398, -83.32036442, 295.42861455]), array([ 0.99954995, 20.04170803,  5.66283385, 13.07988788]), array([-5.78945731e-03,  8.24024725e-01,  1.87595832e+01,  6.61623138e+00,\n",
      "        2.65032865e+01]), array([-8.59608282e-04, -3.88558539e-02,  4.54960698e-01,  1.81260986e+01,\n",
      "        1.27605543e+01,  3.32324785e+01]), array([-4.77090569e-04, -2.34823902e-02, -3.95364711e-01, -1.34809581e+00,\n",
      "        2.11799600e+01,  4.49456147e+01,  3.74438177e+01]), array([-1.41239521e-05, -1.23721100e-03, -3.77057715e-02, -4.92557261e-01,\n",
      "       -1.33444634e+00,  2.31659435e+01,  4.67587522e+01,  3.34127747e+01]), array([ 4.40465034e-06,  2.58605164e-04,  4.96936182e-03,  2.14551569e-02,\n",
      "       -3.62868217e-01, -2.55261742e+00,  1.85392885e+01,  5.35092009e+01,\n",
      "        4.49142563e+01])]\n",
      " \n",
      "-38.08 x + 318.2\n",
      "        2\n",
      "-2.999 x - 83.32 x + 295.4\n",
      "        3         2\n",
      "0.9995 x + 20.04 x + 5.663 x + 13.08\n",
      "           4         3         2\n",
      "-0.005789 x + 0.824 x + 18.76 x + 6.616 x + 26.5\n",
      "            5           4         3         2\n",
      "-0.0008596 x - 0.03886 x + 0.455 x + 18.13 x + 12.76 x + 33.23\n",
      "            6           5          4         3         2\n",
      "-0.0004771 x - 0.02348 x - 0.3954 x - 1.348 x + 21.18 x + 44.95 x + 37.44\n",
      "            7            6           5          4         3         2\n",
      "-1.412e-05 x - 0.001237 x - 0.03771 x - 0.4926 x - 1.334 x + 23.17 x + 46.76 x + 33.41\n",
      "           8             7            6           5          4\n",
      "4.405e-06 x + 0.0002586 x + 0.004969 x + 0.02146 x - 0.3629 x\n",
      "          3         2\n",
      " - 2.553 x + 18.54 x + 53.51 x + 44.91\n"
     ]
    }
   ],
   "source": [
    "\"\"\"\n",
    "Problem 2: Plot MSE versus order m from m = 1,2,3,4,5,6,7,8. Identify the best choice of order m. \n",
    "\"\"\"\n",
    "from sklearn.metrics import mean_squared_error\n",
    "\n",
    "m = [1,2,3,4,5,6,7,8]\n",
    "arr = []\n",
    "# coeff = np.polyfit(x,y,1)\n",
    "for i in m: \n",
    "    coeff = np.polyfit(x,y,i)\n",
    "    arr.append(coeff)\n",
    "print(arr)\n",
    "\n",
    "for i in arr: \n",
    "    poly = np.poly1d(i)\n",
    "    print(poly)\n",
    "sortMe = np.sort(x) \n",
    "\n",
    "MSE = mean_squared_error(y, poly(sortMe))\n",
    "\n",
    "# print(MSE)\n",
    "# plt.plot(MSE, 1, 'ro')\n",
    "# plt.show()\n"
   ]
  },
  {
   "cell_type": "code",
   "execution_count": null,
   "metadata": {},
   "outputs": [],
   "source": []
  },
  {
   "cell_type": "code",
   "execution_count": null,
   "metadata": {},
   "outputs": [],
   "source": []
  }
 ],
 "metadata": {
  "kernelspec": {
   "display_name": "Python 3",
   "language": "python",
   "name": "python3"
  },
  "language_info": {
   "codemirror_mode": {
    "name": "ipython",
    "version": 3
   },
   "file_extension": ".py",
   "mimetype": "text/x-python",
   "name": "python",
   "nbconvert_exporter": "python",
   "pygments_lexer": "ipython3",
   "version": "3.7.1"
  }
 },
 "nbformat": 4,
 "nbformat_minor": 2
}
