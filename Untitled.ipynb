{
 "cells": [
  {
   "cell_type": "code",
   "execution_count": 2,
   "metadata": {},
   "outputs": [
    {
     "name": "stdout",
     "output_type": "stream",
     "text": [
      "Expected=3.050, Predicted=6.000\n",
      "Expected=8.800, Predicted=15.000\n"
     ]
    }
   ],
   "source": [
    "def predict(row, coefficients):\n",
    "    yhat = coefficients[0]\n",
    "    for i in range(len(row)-1):\n",
    "        yhat += coefficients[i + 1] * row[i]\n",
    "    return yhat\n",
    "\n",
    "dataset = [[1, 3.05], [4, 8.80]]\n",
    "coef = [3, 3]\n",
    "for row in dataset:\n",
    "    yhat = predict(row, coef)\n",
    "    print(\"Expected=%.3f, Predicted=%.3f\" % (row[-1], yhat))"
   ]
  },
  {
   "cell_type": "code",
   "execution_count": 6,
   "metadata": {},
   "outputs": [
    {
     "name": "stdout",
     "output_type": "stream",
     "text": [
      ">epoch=0, lrate=0.010, error=84.082\n",
      ">epoch=1, lrate=0.010, error=56.233\n",
      ">epoch=2, lrate=0.010, error=37.623\n",
      ">epoch=3, lrate=0.010, error=25.187\n",
      ">epoch=4, lrate=0.010, error=16.876\n",
      ">epoch=5, lrate=0.010, error=11.322\n",
      ">epoch=6, lrate=0.010, error=7.610\n",
      ">epoch=7, lrate=0.010, error=5.129\n",
      ">epoch=8, lrate=0.010, error=3.470\n",
      ">epoch=9, lrate=0.010, error=2.361\n",
      ">epoch=10, lrate=0.010, error=1.620\n",
      ">epoch=11, lrate=0.010, error=1.124\n",
      ">epoch=12, lrate=0.010, error=0.792\n",
      ">epoch=13, lrate=0.010, error=0.569\n",
      ">epoch=14, lrate=0.010, error=0.420\n",
      ">epoch=15, lrate=0.010, error=0.320\n",
      ">epoch=16, lrate=0.010, error=0.253\n",
      ">epoch=17, lrate=0.010, error=0.207\n",
      ">epoch=18, lrate=0.010, error=0.177\n",
      ">epoch=19, lrate=0.010, error=0.156\n",
      ">epoch=20, lrate=0.010, error=0.141\n",
      ">epoch=21, lrate=0.010, error=0.131\n",
      ">epoch=22, lrate=0.010, error=0.124\n",
      ">epoch=23, lrate=0.010, error=0.119\n",
      ">epoch=24, lrate=0.010, error=0.115\n",
      ">epoch=25, lrate=0.010, error=0.112\n",
      ">epoch=26, lrate=0.010, error=0.110\n",
      ">epoch=27, lrate=0.010, error=0.108\n",
      ">epoch=28, lrate=0.010, error=0.107\n",
      ">epoch=29, lrate=0.010, error=0.105\n",
      ">epoch=30, lrate=0.010, error=0.104\n",
      ">epoch=31, lrate=0.010, error=0.103\n",
      ">epoch=32, lrate=0.010, error=0.102\n",
      ">epoch=33, lrate=0.010, error=0.101\n",
      ">epoch=34, lrate=0.010, error=0.100\n",
      ">epoch=35, lrate=0.010, error=0.099\n",
      ">epoch=36, lrate=0.010, error=0.098\n",
      ">epoch=37, lrate=0.010, error=0.097\n",
      ">epoch=38, lrate=0.010, error=0.096\n",
      ">epoch=39, lrate=0.010, error=0.095\n",
      ">epoch=40, lrate=0.010, error=0.094\n",
      ">epoch=41, lrate=0.010, error=0.093\n",
      ">epoch=42, lrate=0.010, error=0.092\n",
      ">epoch=43, lrate=0.010, error=0.091\n",
      ">epoch=44, lrate=0.010, error=0.090\n",
      ">epoch=45, lrate=0.010, error=0.089\n",
      ">epoch=46, lrate=0.010, error=0.088\n",
      ">epoch=47, lrate=0.010, error=0.088\n",
      ">epoch=48, lrate=0.010, error=0.087\n",
      ">epoch=49, lrate=0.010, error=0.086\n",
      "[0.7378572551071861, 2.0329812543475163]\n"
     ]
    }
   ],
   "source": [
    "# Make a prediction with coefficients\n",
    "def predict(row, coefficients):\n",
    "\tyhat = coefficients[0]\n",
    "\tfor i in range(len(row)-1):\n",
    "\t\tyhat += coefficients[i + 1] * row[i]\n",
    "\treturn yhat\n",
    "\n",
    "# Estimate linear regression coefficients using stochastic gradient descent\n",
    "def coefficients_sgd(train, l_rate, n_epoch):\n",
    "\tcoef = [0.0 for i in range(len(train[0]))]\n",
    "\tfor epoch in range(n_epoch):\n",
    "\t\tsum_error = 0\n",
    "\t\tfor row in train:\n",
    "\t\t\tyhat = predict(row, coef)\n",
    "\t\t\terror = yhat - row[-1]\n",
    "\t\t\tsum_error += error**2\n",
    "\t\t\tcoef[0] = coef[0] - l_rate * error\n",
    "\t\t\tfor i in range(len(row)-1):\n",
    "\t\t\t\tcoef[i + 1] = coef[i + 1] - l_rate * error * row[i]\n",
    "\t\tprint('>epoch=%d, lrate=%.3f, error=%.3f' % (epoch, l_rate, sum_error))\n",
    "\treturn coef\n",
    "\n",
    "# Calculate coefficients\n",
    "dataset = [[1, 3.05], [4, 8.80]]\n",
    "# coef = [3, 3]\n",
    "l_rate = 0.01\n",
    "n_epoch = 50\n",
    "coef = coefficients_sgd(dataset, l_rate, n_epoch)\n",
    "print(coef)"
   ]
  },
  {
   "cell_type": "code",
   "execution_count": null,
   "metadata": {},
   "outputs": [],
   "source": []
  }
 ],
 "metadata": {
  "kernelspec": {
   "display_name": "Python 3",
   "language": "python",
   "name": "python3"
  },
  "language_info": {
   "codemirror_mode": {
    "name": "ipython",
    "version": 3
   },
   "file_extension": ".py",
   "mimetype": "text/x-python",
   "name": "python",
   "nbconvert_exporter": "python",
   "pygments_lexer": "ipython3",
   "version": "3.7.1"
  }
 },
 "nbformat": 4,
 "nbformat_minor": 2
}
